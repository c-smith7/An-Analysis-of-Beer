{
 "cells": [
  {
   "cell_type": "code",
   "execution_count": 14,
   "metadata": {},
   "outputs": [],
   "source": [
    "import pandas as pd\n",
    "import matplotlib.pyplot as plt\n",
    "import seaborn as sns\n",
    "import ipywidgets as widgets\n",
    "\n",
    "%matplotlib inline"
   ]
  },
  {
   "cell_type": "code",
   "execution_count": 2,
   "metadata": {
    "scrolled": true
   },
   "outputs": [
    {
     "data": {
      "text/html": [
       "<div>\n",
       "<style scoped>\n",
       "    .dataframe tbody tr th:only-of-type {\n",
       "        vertical-align: middle;\n",
       "    }\n",
       "\n",
       "    .dataframe tbody tr th {\n",
       "        vertical-align: top;\n",
       "    }\n",
       "\n",
       "    .dataframe thead th {\n",
       "        text-align: right;\n",
       "    }\n",
       "</style>\n",
       "<table border=\"1\" class=\"dataframe\">\n",
       "  <thead>\n",
       "    <tr style=\"text-align: right;\">\n",
       "      <th></th>\n",
       "      <th>beer_id</th>\n",
       "      <th>beer_name</th>\n",
       "      <th>beer_style</th>\n",
       "      <th>beer_abv</th>\n",
       "      <th>weighted_review</th>\n",
       "      <th>review_overall</th>\n",
       "      <th>review_aroma</th>\n",
       "      <th>review_appearance</th>\n",
       "      <th>review_palate</th>\n",
       "      <th>review_taste</th>\n",
       "      <th>review_profilename</th>\n",
       "      <th>brewery_name</th>\n",
       "      <th>brewery_type</th>\n",
       "      <th>city</th>\n",
       "      <th>state</th>\n",
       "      <th>longitude</th>\n",
       "      <th>latitude</th>\n",
       "    </tr>\n",
       "  </thead>\n",
       "  <tbody>\n",
       "    <tr>\n",
       "      <th>0</th>\n",
       "      <td>64883</td>\n",
       "      <td>Cauldron DIPA</td>\n",
       "      <td>American Double / Imperial IPA</td>\n",
       "      <td>7.7</td>\n",
       "      <td>4.32</td>\n",
       "      <td>4.0</td>\n",
       "      <td>4.5</td>\n",
       "      <td>4.0</td>\n",
       "      <td>4.0</td>\n",
       "      <td>4.5</td>\n",
       "      <td>johnmichaelsen</td>\n",
       "      <td>Caldera Brewing Company</td>\n",
       "      <td>micro</td>\n",
       "      <td>Ashland</td>\n",
       "      <td>Oregon</td>\n",
       "      <td>-122.663374</td>\n",
       "      <td>42.183738</td>\n",
       "    </tr>\n",
       "    <tr>\n",
       "      <th>1</th>\n",
       "      <td>52159</td>\n",
       "      <td>Caldera Ginger Beer</td>\n",
       "      <td>Herbed / Spiced Beer</td>\n",
       "      <td>4.7</td>\n",
       "      <td>3.35</td>\n",
       "      <td>3.0</td>\n",
       "      <td>3.5</td>\n",
       "      <td>3.5</td>\n",
       "      <td>3.0</td>\n",
       "      <td>3.5</td>\n",
       "      <td>oline73</td>\n",
       "      <td>Caldera Brewing Company</td>\n",
       "      <td>micro</td>\n",
       "      <td>Ashland</td>\n",
       "      <td>Oregon</td>\n",
       "      <td>-122.663374</td>\n",
       "      <td>42.183738</td>\n",
       "    </tr>\n",
       "    <tr>\n",
       "      <th>2</th>\n",
       "      <td>52159</td>\n",
       "      <td>Caldera Ginger Beer</td>\n",
       "      <td>Herbed / Spiced Beer</td>\n",
       "      <td>4.7</td>\n",
       "      <td>3.75</td>\n",
       "      <td>3.5</td>\n",
       "      <td>3.5</td>\n",
       "      <td>3.5</td>\n",
       "      <td>4.0</td>\n",
       "      <td>4.0</td>\n",
       "      <td>Reidrover</td>\n",
       "      <td>Caldera Brewing Company</td>\n",
       "      <td>micro</td>\n",
       "      <td>Ashland</td>\n",
       "      <td>Oregon</td>\n",
       "      <td>-122.663374</td>\n",
       "      <td>42.183738</td>\n",
       "    </tr>\n",
       "    <tr>\n",
       "      <th>3</th>\n",
       "      <td>52159</td>\n",
       "      <td>Caldera Ginger Beer</td>\n",
       "      <td>Herbed / Spiced Beer</td>\n",
       "      <td>4.7</td>\n",
       "      <td>3.01</td>\n",
       "      <td>3.0</td>\n",
       "      <td>2.5</td>\n",
       "      <td>3.5</td>\n",
       "      <td>2.0</td>\n",
       "      <td>3.5</td>\n",
       "      <td>alpinebryant</td>\n",
       "      <td>Caldera Brewing Company</td>\n",
       "      <td>micro</td>\n",
       "      <td>Ashland</td>\n",
       "      <td>Oregon</td>\n",
       "      <td>-122.663374</td>\n",
       "      <td>42.183738</td>\n",
       "    </tr>\n",
       "    <tr>\n",
       "      <th>4</th>\n",
       "      <td>52159</td>\n",
       "      <td>Caldera Ginger Beer</td>\n",
       "      <td>Herbed / Spiced Beer</td>\n",
       "      <td>4.7</td>\n",
       "      <td>3.68</td>\n",
       "      <td>4.0</td>\n",
       "      <td>3.0</td>\n",
       "      <td>3.5</td>\n",
       "      <td>3.5</td>\n",
       "      <td>4.0</td>\n",
       "      <td>LordAdmNelson</td>\n",
       "      <td>Caldera Brewing Company</td>\n",
       "      <td>micro</td>\n",
       "      <td>Ashland</td>\n",
       "      <td>Oregon</td>\n",
       "      <td>-122.663374</td>\n",
       "      <td>42.183738</td>\n",
       "    </tr>\n",
       "    <tr>\n",
       "      <th>...</th>\n",
       "      <td>...</td>\n",
       "      <td>...</td>\n",
       "      <td>...</td>\n",
       "      <td>...</td>\n",
       "      <td>...</td>\n",
       "      <td>...</td>\n",
       "      <td>...</td>\n",
       "      <td>...</td>\n",
       "      <td>...</td>\n",
       "      <td>...</td>\n",
       "      <td>...</td>\n",
       "      <td>...</td>\n",
       "      <td>...</td>\n",
       "      <td>...</td>\n",
       "      <td>...</td>\n",
       "      <td>...</td>\n",
       "      <td>...</td>\n",
       "    </tr>\n",
       "    <tr>\n",
       "      <th>563512</th>\n",
       "      <td>58076</td>\n",
       "      <td>Amber Wave</td>\n",
       "      <td>American Amber / Red Ale</td>\n",
       "      <td>5.4</td>\n",
       "      <td>3.46</td>\n",
       "      <td>3.5</td>\n",
       "      <td>3.0</td>\n",
       "      <td>4.0</td>\n",
       "      <td>4.0</td>\n",
       "      <td>3.5</td>\n",
       "      <td>DoubleJ</td>\n",
       "      <td>Pacific Beach Ale House</td>\n",
       "      <td>brewpub</td>\n",
       "      <td>San Diego</td>\n",
       "      <td>California</td>\n",
       "      <td>-117.255265</td>\n",
       "      <td>32.794255</td>\n",
       "    </tr>\n",
       "    <tr>\n",
       "      <th>563513</th>\n",
       "      <td>58078</td>\n",
       "      <td>Shipwrecked Stout</td>\n",
       "      <td>American Stout</td>\n",
       "      <td>6.5</td>\n",
       "      <td>3.31</td>\n",
       "      <td>3.0</td>\n",
       "      <td>3.0</td>\n",
       "      <td>4.0</td>\n",
       "      <td>3.5</td>\n",
       "      <td>3.5</td>\n",
       "      <td>glid02</td>\n",
       "      <td>Pacific Beach Ale House</td>\n",
       "      <td>brewpub</td>\n",
       "      <td>San Diego</td>\n",
       "      <td>California</td>\n",
       "      <td>-117.255265</td>\n",
       "      <td>32.794255</td>\n",
       "    </tr>\n",
       "    <tr>\n",
       "      <th>563514</th>\n",
       "      <td>58078</td>\n",
       "      <td>Shipwrecked Stout</td>\n",
       "      <td>American Stout</td>\n",
       "      <td>6.5</td>\n",
       "      <td>3.75</td>\n",
       "      <td>3.5</td>\n",
       "      <td>3.5</td>\n",
       "      <td>3.5</td>\n",
       "      <td>4.0</td>\n",
       "      <td>4.0</td>\n",
       "      <td>DoubleJ</td>\n",
       "      <td>Pacific Beach Ale House</td>\n",
       "      <td>brewpub</td>\n",
       "      <td>San Diego</td>\n",
       "      <td>California</td>\n",
       "      <td>-117.255265</td>\n",
       "      <td>32.794255</td>\n",
       "    </tr>\n",
       "    <tr>\n",
       "      <th>563515</th>\n",
       "      <td>58385</td>\n",
       "      <td>Belgian Blonde Anniversary Ale</td>\n",
       "      <td>Belgian Pale Ale</td>\n",
       "      <td>6.5</td>\n",
       "      <td>3.63</td>\n",
       "      <td>4.0</td>\n",
       "      <td>3.5</td>\n",
       "      <td>4.0</td>\n",
       "      <td>3.5</td>\n",
       "      <td>3.5</td>\n",
       "      <td>glid02</td>\n",
       "      <td>Pacific Beach Ale House</td>\n",
       "      <td>brewpub</td>\n",
       "      <td>San Diego</td>\n",
       "      <td>California</td>\n",
       "      <td>-117.255265</td>\n",
       "      <td>32.794255</td>\n",
       "    </tr>\n",
       "    <tr>\n",
       "      <th>563516</th>\n",
       "      <td>69416</td>\n",
       "      <td>Belgian Dubbel</td>\n",
       "      <td>Dubbel</td>\n",
       "      <td>6.0</td>\n",
       "      <td>3.27</td>\n",
       "      <td>3.0</td>\n",
       "      <td>3.5</td>\n",
       "      <td>3.0</td>\n",
       "      <td>2.5</td>\n",
       "      <td>3.5</td>\n",
       "      <td>mactrail</td>\n",
       "      <td>Pacific Beach Ale House</td>\n",
       "      <td>brewpub</td>\n",
       "      <td>San Diego</td>\n",
       "      <td>California</td>\n",
       "      <td>-117.255265</td>\n",
       "      <td>32.794255</td>\n",
       "    </tr>\n",
       "  </tbody>\n",
       "</table>\n",
       "<p>563517 rows × 17 columns</p>\n",
       "</div>"
      ],
      "text/plain": [
       "        beer_id                       beer_name  \\\n",
       "0         64883                   Cauldron DIPA   \n",
       "1         52159             Caldera Ginger Beer   \n",
       "2         52159             Caldera Ginger Beer   \n",
       "3         52159             Caldera Ginger Beer   \n",
       "4         52159             Caldera Ginger Beer   \n",
       "...         ...                             ...   \n",
       "563512    58076                      Amber Wave   \n",
       "563513    58078               Shipwrecked Stout   \n",
       "563514    58078               Shipwrecked Stout   \n",
       "563515    58385  Belgian Blonde Anniversary Ale   \n",
       "563516    69416                  Belgian Dubbel   \n",
       "\n",
       "                            beer_style  beer_abv  weighted_review  \\\n",
       "0       American Double / Imperial IPA       7.7             4.32   \n",
       "1                 Herbed / Spiced Beer       4.7             3.35   \n",
       "2                 Herbed / Spiced Beer       4.7             3.75   \n",
       "3                 Herbed / Spiced Beer       4.7             3.01   \n",
       "4                 Herbed / Spiced Beer       4.7             3.68   \n",
       "...                                ...       ...              ...   \n",
       "563512        American Amber / Red Ale       5.4             3.46   \n",
       "563513                  American Stout       6.5             3.31   \n",
       "563514                  American Stout       6.5             3.75   \n",
       "563515                Belgian Pale Ale       6.5             3.63   \n",
       "563516                          Dubbel       6.0             3.27   \n",
       "\n",
       "        review_overall  review_aroma  review_appearance  review_palate  \\\n",
       "0                  4.0           4.5                4.0            4.0   \n",
       "1                  3.0           3.5                3.5            3.0   \n",
       "2                  3.5           3.5                3.5            4.0   \n",
       "3                  3.0           2.5                3.5            2.0   \n",
       "4                  4.0           3.0                3.5            3.5   \n",
       "...                ...           ...                ...            ...   \n",
       "563512             3.5           3.0                4.0            4.0   \n",
       "563513             3.0           3.0                4.0            3.5   \n",
       "563514             3.5           3.5                3.5            4.0   \n",
       "563515             4.0           3.5                4.0            3.5   \n",
       "563516             3.0           3.5                3.0            2.5   \n",
       "\n",
       "        review_taste review_profilename             brewery_name brewery_type  \\\n",
       "0                4.5     johnmichaelsen  Caldera Brewing Company        micro   \n",
       "1                3.5            oline73  Caldera Brewing Company        micro   \n",
       "2                4.0          Reidrover  Caldera Brewing Company        micro   \n",
       "3                3.5       alpinebryant  Caldera Brewing Company        micro   \n",
       "4                4.0      LordAdmNelson  Caldera Brewing Company        micro   \n",
       "...              ...                ...                      ...          ...   \n",
       "563512           3.5            DoubleJ  Pacific Beach Ale House      brewpub   \n",
       "563513           3.5             glid02  Pacific Beach Ale House      brewpub   \n",
       "563514           4.0            DoubleJ  Pacific Beach Ale House      brewpub   \n",
       "563515           3.5             glid02  Pacific Beach Ale House      brewpub   \n",
       "563516           3.5           mactrail  Pacific Beach Ale House      brewpub   \n",
       "\n",
       "             city       state   longitude   latitude  \n",
       "0         Ashland      Oregon -122.663374  42.183738  \n",
       "1         Ashland      Oregon -122.663374  42.183738  \n",
       "2         Ashland      Oregon -122.663374  42.183738  \n",
       "3         Ashland      Oregon -122.663374  42.183738  \n",
       "4         Ashland      Oregon -122.663374  42.183738  \n",
       "...           ...         ...         ...        ...  \n",
       "563512  San Diego  California -117.255265  32.794255  \n",
       "563513  San Diego  California -117.255265  32.794255  \n",
       "563514  San Diego  California -117.255265  32.794255  \n",
       "563515  San Diego  California -117.255265  32.794255  \n",
       "563516  San Diego  California -117.255265  32.794255  \n",
       "\n",
       "[563517 rows x 17 columns]"
      ]
     },
     "execution_count": 2,
     "metadata": {},
     "output_type": "execute_result"
    }
   ],
   "source": [
    "beer_df_clean = pd.read_csv('beer_df_clean.csv')\n",
    "beer_df_clean"
   ]
  },
  {
   "cell_type": "markdown",
   "metadata": {},
   "source": [
    "### Rankings"
   ]
  },
  {
   "cell_type": "code",
   "execution_count": 94,
   "metadata": {
    "scrolled": false
   },
   "outputs": [
    {
     "data": {
      "application/vnd.jupyter.widget-view+json": {
       "model_id": "8201441263eb497aa90a03307ee65cf1",
       "version_major": 2,
       "version_minor": 0
      },
      "text/plain": [
       "interactive(children=(Dropdown(description='category', options={'Top Rated Beer': 'beer_name', 'Top Rated Beer…"
      ]
     },
     "metadata": {},
     "output_type": "display_data"
    },
    {
     "data": {
      "text/plain": [
       "<function __main__.f(category)>"
      ]
     },
     "execution_count": 94,
     "metadata": {},
     "output_type": "execute_result"
    }
   ],
   "source": [
    "def f(category):\n",
    "    plt.figure(figsize=(12,15))\n",
    "    sns.set_theme(style='darkgrid')\n",
    "    if category in ['beer_name', 'beer_style', 'brewery_name', 'brewery_type']:\n",
    "        # filter out reviews with less than 10 reviews \n",
    "        df_filter = beer_df_clean[category].value_counts()\n",
    "        df_filter = df_filter[df_filter>9].index\n",
    "        top25_df = beer_df_clean[beer_df_clean[category].isin(df_filter)]\n",
    "        # list of top 25\n",
    "        top25_list = top25_df.groupby(category).mean().weighted_review.sort_values(ascending=False).head(25).index\n",
    "        # plot\n",
    "        sns.pointplot(data=top25_df, x='weighted_review', y=category, order=top25_list, capsize=0.2)\n",
    "        plt.grid(True)\n",
    "        plt.xlabel('Average Review Score', fontsize=16, weight='bold', labelpad=20)\n",
    "        plt.yticks(fontsize=12.5)\n",
    "        if category == 'beer_name':     \n",
    "            plt.title('Top 25 Beers by Average Review Score', fontsize=18, weight='bold', pad=20)\n",
    "            plt.ylabel('Beer Name', fontsize=16, weight='bold', labelpad=10)\n",
    "        elif category == 'beer_style':\n",
    "            plt.title('Top 25 Beer Styles by Average Review Score', fontsize=18, weight='bold', pad=20)\n",
    "            plt.ylabel('Beer Style', fontsize=16, weight='bold', labelpad=10)\n",
    "        elif category == 'brewery_name':\n",
    "            plt.title('Top 25 Breweries by Average Review Score', fontsize=18, weight='bold', pad=20)\n",
    "            plt.ylabel('Brewery Name', fontsize=16, weight='bold', labelpad=10)\n",
    "        elif category == 'brewery_type':\n",
    "            plt.title('Brewery Type by Average Review Score', fontsize=18, weight='bold', pad=20)\n",
    "            plt.ylabel('Brewery Type', fontsize=16, weight='bold', labelpad=10)\n",
    "    elif category == 'state':\n",
    "        # descending order for the plot\n",
    "        top_states = beer_df_clean.groupby('state').weighted_review.mean().sort_values(ascending=False).index\n",
    "        # plot\n",
    "        sns.pointplot(data=beer_df_clean, x='weighted_review', y='state', order=top_states, capsize=0.2)\n",
    "        plt.grid(True)\n",
    "        plt.title('States by Average Review Score', fontsize=18, weight='bold', pad=20)\n",
    "        plt.ylabel('State', fontsize=16, weight='bold', labelpad=10)\n",
    "        plt.xlabel('Average Review Score', fontsize=16, weight='bold', labelpad=20)\n",
    "        plt.yticks(fontsize=12.5)\n",
    "    elif category == 'city':\n",
    "        # filter out cities with less than 10 reviews\n",
    "        city_filter = beer_df_clean.city.value_counts()\n",
    "        city_filter = city_filter[city_filter>9].index\n",
    "        top_cities_df = beer_df_clean[beer_df_clean.city.isin(city_filter)]\n",
    "        # top 25\n",
    "        top25_cities = top_cities_df.groupby('city').mean().weighted_review.sort_values(ascending=False).head(25).index\n",
    "        # plot\n",
    "        sns.pointplot(data=top_cities_df, x='weighted_review', y='city', order=top25_cities, capsize=0.2)\n",
    "        plt.grid(True)\n",
    "        plt.title('Top 25 Cities by Average Review Score', fontsize=18, weight='bold', pad=20)\n",
    "        plt.ylabel('City', fontsize=16, weight='bold', labelpad=10)\n",
    "        plt.xlabel('Average Review Score', fontsize=16, weight='bold', labelpad=20)\n",
    "        plt.yticks(fontsize=12.5)    \n",
    "    ;\n",
    "\n",
    "categories = {\n",
    "    'Top Rated Beer':'beer_name', \n",
    "    'Top Rated Beer Styles':'beer_style',\n",
    "    'Top Rated Breweries':'brewery_name',\n",
    "    'Top Rated Brewery Types':'brewery_type',\n",
    "    'Top Rated States':'state',\n",
    "    'Top Rated Cities':'city'\n",
    "}\n",
    "widgets.interact(f, category=categories)"
   ]
  },
  {
   "cell_type": "markdown",
   "metadata": {},
   "source": [
    "-------"
   ]
  },
  {
   "cell_type": "markdown",
   "metadata": {},
   "source": [
    "### Geospatial Visualizations"
   ]
  },
  {
   "cell_type": "code",
   "execution_count": 100,
   "metadata": {},
   "outputs": [],
   "source": [
    "from plotly.subplots import make_subplots\n",
    "import plotly.graph_objects as go\n",
    "\n",
    "top_states = pd.read_csv('state_data.csv')\n",
    "top_cities = pd.read_csv('city_data.csv')"
   ]
  },
  {
   "cell_type": "code",
   "execution_count": 122,
   "metadata": {
    "scrolled": false
   },
   "outputs": [
    {
     "data": {
      "application/vnd.plotly.v1+json": {
       "config": {
        "plotlyServerURL": "https://plot.ly"
       },
       "data": [
        {
         "colorbar": {
          "ticks": "outside",
          "title": {
           "text": "Average<br>Review<br>Score"
          }
         },
         "colorscale": [
          [
           0,
           "rgb(247,251,255)"
          ],
          [
           0.125,
           "rgb(222,235,247)"
          ],
          [
           0.25,
           "rgb(198,219,239)"
          ],
          [
           0.375,
           "rgb(158,202,225)"
          ],
          [
           0.5,
           "rgb(107,174,214)"
          ],
          [
           0.625,
           "rgb(66,146,198)"
          ],
          [
           0.75,
           "rgb(33,113,181)"
          ],
          [
           0.875,
           "rgb(8,81,156)"
          ],
          [
           1,
           "rgb(8,48,107)"
          ]
         ],
         "geo": "geo",
         "locationmode": "USA-states",
         "locations": [
          "KS",
          "MN",
          "MI",
          "OR",
          "VA",
          "AL",
          "IL",
          "CA",
          "NE",
          "ME",
          "FL",
          "NY",
          "DE",
          "GA",
          "SC",
          "AK",
          "PA",
          "CT",
          "OH",
          "WA",
          "CO",
          "WV",
          "NM",
          "NC",
          "IA",
          "MA",
          "ND",
          "MD",
          "MT",
          "IN",
          "NJ",
          "ID",
          "DC",
          "NV",
          "VT",
          "AZ",
          "MS",
          "HI",
          "WY",
          "NH",
          "WI",
          "RI",
          "UT",
          "KY",
          "TX",
          "AR",
          "SD",
          "TN",
          "LA",
          "OK",
          "MO"
         ],
         "text": [
          "Kansas<br># reviews: 132",
          "Minnesota<br># reviews: 19380",
          "Michigan<br># reviews: 83054",
          "Oregon<br># reviews: 14889",
          "Virginia<br># reviews: 7578",
          "Alabama<br># reviews: 328",
          "Illinois<br># reviews: 21491",
          "California<br># reviews: 81833",
          "Nebraska<br># reviews: 6144",
          "Maine<br># reviews: 8982",
          "Florida<br># reviews: 7373",
          "New York<br># reviews: 38440",
          "Delaware<br># reviews: 33892",
          "Georgia<br># reviews: 109",
          "South Carolina<br># reviews: 1749",
          "Alaska<br># reviews: 3651",
          "Pennsylvania<br># reviews: 4709",
          "Connecticut<br># reviews: 253",
          "Ohio<br># reviews: 71603",
          "Washington<br># reviews: 5782",
          "Colorado<br># reviews: 28979",
          "West Virginia<br># reviews: 41",
          "New Mexico<br># reviews: 23",
          "North Carolina<br># reviews: 2531",
          "Iowa<br># reviews: 266",
          "Massachusetts<br># reviews: 19437",
          "North Dakota<br># reviews: 6",
          "Maryland<br># reviews: 19607",
          "Montana<br># reviews: 3179",
          "Indiana<br># reviews: 1290",
          "New Jersey<br># reviews: 2645",
          "Idaho<br># reviews: 1224",
          "District of Columbia<br># reviews: 59",
          "Nevada<br># reviews: 448",
          "Vermont<br># reviews: 12234",
          "Arizona<br># reviews: 797",
          "Mississippi<br># reviews: 630",
          "Hawaii<br># reviews: 4048",
          "Wyoming<br># reviews: 20",
          "New Hampshire<br># reviews: 1514",
          "Wisconsin<br># reviews: 12923",
          "Rhode Island<br># reviews: 313",
          "Utah<br># reviews: 1052",
          "Kentucky<br># reviews: 588",
          "Texas<br># reviews: 7528",
          "Arkansas<br># reviews: 276",
          "South Dakota<br># reviews: 92",
          "Tennessee<br># reviews: 237",
          "Louisiana<br># reviews: 4991",
          "Oklahoma<br># reviews: 100",
          "Missouri<br># reviews: 25067"
         ],
         "type": "choropleth",
         "z": [
          4.11,
          4.1,
          4.03,
          4.03,
          4,
          4,
          4,
          4,
          3.98,
          3.98,
          3.97,
          3.93,
          3.92,
          3.92,
          3.91,
          3.87,
          3.84,
          3.82,
          3.81,
          3.8,
          3.8,
          3.79,
          3.78,
          3.78,
          3.77,
          3.77,
          3.74,
          3.73,
          3.72,
          3.72,
          3.71,
          3.71,
          3.7,
          3.7,
          3.69,
          3.68,
          3.67,
          3.65,
          3.62,
          3.6,
          3.59,
          3.58,
          3.57,
          3.57,
          3.55,
          3.52,
          3.5,
          3.49,
          3.45,
          3.09,
          3.07
         ]
        },
        {
         "geo": "geo2",
         "lat": [
          null
         ],
         "lon": [
          null
         ],
         "marker": {
          "color": "lightgrey",
          "line": {
           "color": "rgb(40,40,40)",
           "width": 0.5
          },
          "size": 8
         },
         "name": "1 - 2",
         "showlegend": true,
         "type": "scattergeo",
         "visible": "legendonly"
        },
        {
         "geo": "geo2",
         "lat": [],
         "locationmode": "USA-states",
         "lon": [],
         "marker": {
          "color": "lightcyan",
          "line": {
           "color": "rgb(40,40,40)",
           "width": 0.5
          },
          "opacity": 0.8,
          "size": 8
         },
         "name": "1 - 2",
         "text": [],
         "type": "scattergeo"
        },
        {
         "geo": "geo2",
         "lat": [
          42.6,
          43.8,
          44.58,
          38.74,
          34.24
         ],
         "locationmode": "USA-states",
         "lon": [
          -89.64,
          -91.25,
          -91.23,
          -90.3,
          -116.92
         ],
         "marker": {
          "color": "rgb(59,59,59)",
          "line": {
           "color": "rgb(40,40,40)",
           "width": 0.5
          },
          "opacity": 0.8,
          "size": 8
         },
         "name": "2 - 3",
         "text": [
          "Monroe<br>Review score: 2.91<br># reviews: 1341.0",
          "La Crosse<br>Review score: 2.73<br># reviews: 409.0",
          "Osseo<br>Review score: 2.67<br># reviews: 60.0",
          "Saint Louis<br>Review score: 2.58<br># reviews: 15344.0",
          "Big Bear Lake<br>Review score: 2.32<br># reviews: 18.0"
         ],
         "type": "scattergeo"
        },
        {
         "geo": "geo2",
         "lat": [
          41.54,
          42.32,
          42.37,
          42.58,
          30.34,
          30.29,
          41.07,
          44.56,
          44.96,
          29.4,
          48.75,
          20.85,
          42.22,
          42.49,
          40.66,
          25.79,
          38.77,
          34.61,
          42.48,
          36,
          42.39,
          42.77,
          41.52,
          39.71,
          40.67,
          39.1,
          37.73,
          41.62,
          40.06,
          33.87,
          40.06,
          39.75,
          43.12,
          43.05,
          42.18,
          47.66,
          39,
          36.01,
          37.38,
          41.93,
          47.74,
          45.71,
          35.66,
          40.76,
          45.2,
          39.97,
          58.36,
          34.14,
          33.56,
          42.12,
          43.16,
          37.78,
          41.18,
          41.25,
          38.44,
          40.2,
          40.88,
          42.6,
          37.99,
          34.24,
          33.22,
          41.75,
          44.66,
          40.62,
          48.52,
          35.66,
          40.39,
          42.32,
          39.28,
          29.77,
          44.96,
          38.13,
          36.33,
          35.62,
          42.25,
          41.26,
          46.79,
          48.3,
          43.09,
          37.53,
          42.53,
          39.3,
          39.54,
          39.48,
          46.54,
          42.63,
          36.83,
          48.48,
          35.78,
          40.16,
          42.28,
          37.87,
          30.32,
          42.79,
          44.07,
          38.57,
          43.42,
          42.74,
          42.93,
          39.82,
          40.81,
          41.51,
          43.05,
          44.28,
          42.88,
          46.92,
          39.85,
          45.78,
          40.76,
          48.31,
          44.1,
          40.11,
          33.42,
          35.21,
          45.09,
          38.99,
          39.27,
          44.29,
          42.52,
          41.23,
          42.3,
          34.42,
          45.04,
          39.36,
          33.84,
          44.43,
          41.31,
          38.9,
          46.25,
          35.41,
          45.9,
          35.59,
          30.38,
          38.95,
          42.61,
          43.06,
          42.35,
          39.29,
          37.96,
          39.11,
          40.29,
          43.62,
          46.74,
          47.69,
          32.21,
          41.79,
          37.78,
          40.61,
          41.55,
          42.49,
          45.21,
          38.71,
          34.28,
          40.16,
          19.64,
          40.44,
          33.51,
          33.89,
          36.73,
          39.17,
          42.28,
          38.05,
          48.42,
          44.44,
          41.82,
          40.76,
          26.3,
          44.43,
          37.32,
          42.38,
          42.28,
          34.76,
          41.61,
          40.7,
          41.58,
          31.1,
          41.14,
          34.02,
          44.52,
          38.68,
          43.05,
          35.05,
          38.56,
          41.51,
          38.26,
          34.8,
          44.03,
          37.5,
          43.95,
          43.75,
          42.11,
          47.24,
          40.77,
          44.08,
          35.94,
          34.05,
          44.63,
          44.51,
          29.96,
          38.13,
          36.39,
          19.71,
          38.23,
          47.25,
          35.57,
          47.38,
          29.62,
          41.05,
          28.32,
          40.37,
          41.43,
          38.78,
          37.78,
          34.4,
          39.96,
          40.93,
          28.4,
          46.01
         ],
         "locationmode": "USA-states",
         "lon": [
          -87.68,
          -83.88,
          -72.53,
          -72.5,
          -97.72,
          -81.39,
          -81.52,
          -123.26,
          -89.62,
          -98.48,
          -122.48,
          -156.65,
          -85.88,
          -83.03,
          -74.28,
          -80.14,
          -75.31,
          -120.2,
          -72.61,
          -78.9,
          -71.04,
          -71.08,
          -90.57,
          -104.95,
          -74.01,
          -94.59,
          -122.5,
          -79.67,
          -75.19,
          -117.93,
          -105.2,
          -86.14,
          -89.35,
          -88.35,
          -122.66,
          -122.31,
          -95.68,
          -75.66,
          -122.03,
          -74.01,
          -122.66,
          -121.51,
          -105.97,
          -73.41,
          -109.25,
          -83,
          -134.49,
          -118.77,
          -81.72,
          -86.45,
          -77.58,
          -122.31,
          -96.08,
          -95.93,
          -122.71,
          -77.19,
          -123.99,
          -76.18,
          -122.59,
          -77.95,
          -117.35,
          -74.09,
          -90.18,
          -111.89,
          -122.61,
          -78.85,
          -79.83,
          -72.63,
          -76.57,
          -95.35,
          -93.07,
          -121.27,
          -119.29,
          -78.81,
          -83.18,
          -70.13,
          -92.09,
          -122.65,
          -89.52,
          -77.44,
          -83.14,
          -85.22,
          -119.78,
          -119.79,
          -87.39,
          -82.97,
          -76.3,
          -120.19,
          -78.65,
          -105.12,
          -78.67,
          -122.27,
          -81.64,
          -86.1,
          -123.14,
          -92.16,
          -73.71,
          -73.69,
          -73.35,
          -82.83,
          -91.11,
          -90.52,
          -76.15,
          -73.98,
          -78.85,
          -114.07,
          -75.02,
          -108.5,
          -73.02,
          -116.55,
          -70.22,
          -76.5,
          -111.9,
          -111.52,
          -93.01,
          -104.81,
          -76.8,
          -90.85,
          -70.89,
          -75.87,
          -85.57,
          -119.69,
          -92.83,
          -77.43,
          -118.32,
          -68.99,
          -105.6,
          -77.01,
          -114.16,
          -80.58,
          -123.96,
          -82.56,
          -89.45,
          -92.33,
          -70.67,
          -71.44,
          -71.03,
          -81.53,
          -121.29,
          -84.52,
          -76.88,
          -116.2,
          -123,
          -122.15,
          -110.96,
          -71.47,
          -122.23,
          -75.46,
          -71.05,
          -83.14,
          -123.19,
          -90.45,
          -119.29,
          -76.31,
          -156,
          -86.13,
          -112.07,
          -117.56,
          -119.79,
          -86.51,
          -87.85,
          -84.52,
          -122.34,
          -95.78,
          -71.42,
          -111.88,
          -80.25,
          -73.22,
          -121.87,
          -76.87,
          -83.75,
          -92.27,
          -86.73,
          -99.08,
          -93.61,
          -97.34,
          -81.47,
          -86.01,
          -103.87,
          -75.38,
          -87.91,
          -85.31,
          -121.48,
          -90.51,
          -85.76,
          -82.42,
          -71.69,
          -122.24,
          -76.12,
          -122.46,
          -87.86,
          -122.44,
          -74.04,
          -88.59,
          -86.83,
          -118.24,
          -68.85,
          -89.57,
          -90.06,
          -122.26,
          -78.98,
          -155.07,
          -122.64,
          -122.25,
          -97.51,
          -122.14,
          -81.19,
          -75.33,
          -80.61,
          -105.53,
          -78.55,
          -76.22,
          -89.33,
          -119.52,
          -74.19,
          -124.1,
          -80.61,
          -91.49
         ],
         "marker": {
          "color": "cornflowerblue",
          "line": {
           "color": "rgb(40,40,40)",
           "width": 0.5
          },
          "opacity": 0.8,
          "size": 8
         },
         "name": "3 - 4",
         "text": [
          "Flossmoor<br>Review score: 4.0<br># reviews: 1568.0",
          "Dexter<br>Review score: 3.99<br># reviews: 4963.0",
          "Amherst<br>Review score: 3.99<br># reviews: 2710.0",
          "Millers Falls<br>Review score: 3.99<br># reviews: 161.0",
          "Austin<br>Review score: 3.98<br># reviews: 390.0",
          "Jacksonville Beach<br>Review score: 3.96<br># reviews: 20.0",
          "Akron<br>Review score: 3.96<br># reviews: 5073.0",
          "Corvallis<br>Review score: 3.95<br># reviews: 213.0",
          "Wausau<br>Review score: 3.95<br># reviews: 27.0",
          "San Antonio<br>Review score: 3.94<br># reviews: 368.0",
          "Bellingham<br>Review score: 3.94<br># reviews: 211.0",
          "Lahaina<br>Review score: 3.94<br># reviews: 764.0",
          "Paw Paw<br>Review score: 3.94<br># reviews: 13.0",
          "Warren<br>Review score: 3.94<br># reviews: 1323.0",
          "Roselle Park<br>Review score: 3.94<br># reviews: 194.0",
          "Miami Beach<br>Review score: 3.93<br># reviews: 35.0",
          "Milton<br>Review score: 3.92<br># reviews: 33800.0",
          "Buellton<br>Review score: 3.92<br># reviews: 22.0",
          "South Deerfield<br>Review score: 3.92<br># reviews: 2990.0",
          "Durham<br>Review score: 3.91<br># reviews: 103.0",
          "Chelsea<br>Review score: 3.9<br># reviews: 73.0",
          "Haverhill<br>Review score: 3.9<br># reviews: 882.0",
          "Davenport<br>Review score: 3.9<br># reviews: 141.0",
          "Denver<br>Review score: 3.9<br># reviews: 203.0",
          "Brooklyn<br>Review score: 3.9<br># reviews: 15913.0",
          "Kansas City<br>Review score: 3.89<br># reviews: 7716.0",
          "San Francisco<br>Review score: 3.89<br># reviews: 9993.0",
          "Titusville<br>Review score: 3.88<br># reviews: 13.0",
          "Philadelphia<br>Review score: 3.88<br># reviews: 109.0",
          "Fullerton<br>Review score: 3.88<br># reviews: 1130.0",
          "Boulder<br>Review score: 3.88<br># reviews: 16250.0",
          "Indianapolis<br>Review score: 3.88<br># reviews: 350.0",
          "Madison<br>Review score: 3.88<br># reviews: 809.0",
          "Delafield<br>Review score: 3.87<br># reviews: 51.0",
          "Ashland<br>Review score: 3.87<br># reviews: 930.0",
          "Seattle<br>Review score: 3.87<br># reviews: 3731.0",
          "Topeka<br>Review score: 3.87<br># reviews: 11.0",
          "Kill Devil Hills<br>Review score: 3.86<br># reviews: 166.0",
          "Sunnyvale<br>Review score: 3.86<br># reviews: 95.0",
          "Kingston<br>Review score: 3.86<br># reviews: 434.0",
          "Poulsbo<br>Review score: 3.86<br># reviews: 18.0",
          "Hood River<br>Review score: 3.86<br># reviews: 57.0",
          "Santa Fe<br>Review score: 3.85<br># reviews: 15.0",
          "Farmingdale<br>Review score: 3.85<br># reviews: 166.0",
          "Red Lodge<br>Review score: 3.84<br># reviews: 24.0",
          "Columbus<br>Review score: 3.84<br># reviews: 328.0",
          "Juneau<br>Review score: 3.84<br># reviews: 3226.0",
          "Agoura Hills<br>Review score: 3.84<br># reviews: 95.0",
          "Aiken<br>Review score: 3.83<br># reviews: 19.0",
          "Benton Harbor<br>Review score: 3.83<br># reviews: 205.0",
          "Rochester<br>Review score: 3.83<br># reviews: 215.0",
          "Alameda<br>Review score: 3.82<br># reviews: 58.0",
          "La Vista<br>Review score: 3.82<br># reviews: 498.0",
          "Omaha<br>Review score: 3.82<br># reviews: 198.0",
          "Santa Rosa<br>Review score: 3.82<br># reviews: 74.0",
          "Carlisle<br>Review score: 3.82<br># reviews: 32.0",
          "Blue Lake<br>Review score: 3.82<br># reviews: 1968.0",
          "Cortland<br>Review score: 3.82<br># reviews: 30.0",
          "Fairfax<br>Review score: 3.81<br># reviews: 158.0",
          "Wilmington<br>Review score: 3.81<br># reviews: 41.0",
          "Oceanside<br>Review score: 3.81<br># reviews: 756.0",
          "New Paltz<br>Review score: 3.81<br># reviews: 89.0",
          "Marshfield<br>Review score: 3.81<br># reviews: 16.0",
          "Midvale<br>Review score: 3.81<br># reviews: 78.0",
          "Anacortes<br>Review score: 3.81<br># reviews: 83.0",
          "Holly Springs<br>Review score: 3.81<br># reviews: 462.0",
          "North Versailles<br>Review score: 3.8<br># reviews: 153.0",
          "Northampton<br>Review score: 3.8<br># reviews: 55.0",
          "Baltimore<br>Review score: 3.8<br># reviews: 7572.0",
          "Houston<br>Review score: 3.79<br># reviews: 2881.0",
          "Saint Paul<br>Review score: 3.79<br># reviews: 586.0",
          "Lodi<br>Review score: 3.79<br># reviews: 13.0",
          "Visalia<br>Review score: 3.79<br># reviews: 15.0",
          "Fuquay Varina<br>Review score: 3.78<br># reviews: 92.0",
          "Lincoln Park<br>Review score: 3.78<br># reviews: 67.0",
          "Nantucket<br>Review score: 3.78<br># reviews: 1624.0",
          "Duluth<br>Review score: 3.78<br># reviews: 126.0",
          "Oak Harbor<br>Review score: 3.78<br># reviews: 47.0",
          "Middleton<br>Review score: 3.78<br># reviews: 2039.0",
          "Richmond<br>Review score: 3.77<br># reviews: 857.0",
          "Clawson<br>Review score: 3.77<br># reviews: 29.0",
          "Batesville<br>Review score: 3.77<br># reviews: 11.0",
          "Sparks<br>Review score: 3.77<br># reviews: 55.0",
          "Reno<br>Review score: 3.77<br># reviews: 55.0",
          "Marquette<br>Review score: 3.77<br># reviews: 21.0",
          "Shelby Township<br>Review score: 3.76<br># reviews: 19.0",
          "Portsmouth<br>Review score: 3.76<br># reviews: 835.0",
          "Winthrop<br>Review score: 3.76<br># reviews: 101.0",
          "Raleigh<br>Review score: 3.76<br># reviews: 514.0",
          "Longmont<br>Review score: 3.75<br># reviews: 7695.0",
          "Ellicottville<br>Review score: 3.75<br># reviews: 296.0",
          "Berkeley<br>Review score: 3.75<br># reviews: 44.0",
          "Jacksonville<br>Review score: 3.75<br># reviews: 194.0",
          "Holland<br>Review score: 3.75<br># reviews: 5706.0",
          "Eugene<br>Review score: 3.75<br># reviews: 335.0",
          "Jefferson City<br>Review score: 3.74<br># reviews: 20.0",
          "Lake George<br>Review score: 3.74<br># reviews: 59.0",
          "Troy<br>Review score: 3.74<br># reviews: 288.0",
          "North Hoosick<br>Review score: 3.74<br># reviews: 288.0",
          "Canal Winchester<br>Review score: 3.73<br># reviews: 4033.0",
          "Burlington<br>Review score: 3.73<br># reviews: 52.0",
          "Moline<br>Review score: 3.73<br># reviews: 52.0",
          "Syracuse<br>Review score: 3.72<br># reviews: 134.0",
          "Lake Placid<br>Review score: 3.72<br># reviews: 585.0",
          "Buffalo<br>Review score: 3.72<br># reviews: 215.0",
          "Missoula<br>Review score: 3.72<br># reviews: 2835.0",
          "Somerdale<br>Review score: 3.72<br># reviews: 2167.0",
          "Billings<br>Review score: 3.71<br># reviews: 75.0",
          "Patchogue<br>Review score: 3.71<br># reviews: 2378.0",
          "Ponderay<br>Review score: 3.71<br># reviews: 1136.0",
          "Lewiston<br>Review score: 3.71<br># reviews: 164.0",
          "Mount Joy<br>Review score: 3.7<br># reviews: 79.0",
          "Tempe<br>Review score: 3.7<br># reviews: 563.0",
          "Flagstaff<br>Review score: 3.7<br># reviews: 36.0",
          "White Bear Lake<br>Review score: 3.7<br># reviews: 12.0",
          "Colorado Springs<br>Review score: 3.7<br># reviews: 547.0",
          "Ellicott City<br>Review score: 3.69<br># reviews: 52.0",
          "Black River Falls<br>Review score: 3.69<br># reviews: 744.0",
          "Salem<br>Review score: 3.69<br># reviews: 99.0",
          "Wilkes Barre<br>Review score: 3.69<br># reviews: 50.0",
          "Kalamazoo<br>Review score: 3.69<br># reviews: 3595.0",
          "Santa Barbara<br>Review score: 3.69<br># reviews: 358.0",
          "Stillwater<br>Review score: 3.68<br># reviews: 216.0",
          "Frederick<br>Review score: 3.68<br># reviews: 11905.0",
          "Torrance<br>Review score: 3.68<br># reviews: 39.0",
          "Belfast<br>Review score: 3.68<br># reviews: 195.0",
          "Laramie<br>Review score: 3.68<br># reviews: 12.0",
          "Washington<br>Review score: 3.68<br># reviews: 93.0",
          "Hamilton<br>Review score: 3.68<br># reviews: 56.0",
          "Concord<br>Review score: 3.68<br># reviews: 120.0",
          "Cannon Beach<br>Review score: 3.67<br># reviews: 21.0",
          "Asheville<br>Review score: 3.67<br># reviews: 147.0",
          "Kiln<br>Review score: 3.67<br># reviews: 630.0",
          "Columbia<br>Review score: 3.67<br># reviews: 81.0",
          "Gloucester<br>Review score: 3.66<br># reviews: 755.0",
          "Hooksett<br>Review score: 3.66<br># reviews: 992.0",
          "Boston<br>Review score: 3.66<br># reviews: 9537.0",
          "Parkersburg<br>Review score: 3.66<br># reviews: 19.0",
          "Stockton<br>Review score: 3.65<br># reviews: 105.0",
          "Cincinnati<br>Review score: 3.65<br># reviews: 38812.0",
          "Harrisburg<br>Review score: 3.65<br># reviews: 1078.0",
          "Boise<br>Review score: 3.65<br># reviews: 82.0",
          "Centralia<br>Review score: 3.65<br># reviews: 673.0",
          "Redmond<br>Review score: 3.64<br># reviews: 400.0",
          "Tucson<br>Review score: 3.64<br># reviews: 123.0",
          "Cranston<br>Review score: 3.63<br># reviews: 13.0",
          "Oakland<br>Review score: 3.63<br># reviews: 41.0",
          "Allentown<br>Review score: 3.63<br># reviews: 337.0",
          "Westport<br>Review score: 3.63<br># reviews: 423.0",
          "Royal Oak<br>Review score: 3.62<br># reviews: 50.0",
          "McMinnville<br>Review score: 3.62<br># reviews: 149.0",
          "Maryland Heights<br>Review score: 3.62<br># reviews: 1667.0",
          "Ventura<br>Review score: 3.62<br># reviews: 43.0",
          "Lititz<br>Review score: 3.62<br># reviews: 30.0",
          "Kailua Kona<br>Review score: 3.6<br># reviews: 2056.0",
          "Kokomo<br>Review score: 3.6<br># reviews: 27.0",
          "Phoenix<br>Review score: 3.59<br># reviews: 72.0",
          "Corona<br>Review score: 3.59<br># reviews: 19.0",
          "Fresno<br>Review score: 3.59<br># reviews: 18.0",
          "Bloomington<br>Review score: 3.58<br># reviews: 52.0",
          "Lake Bluff<br>Review score: 3.58<br># reviews: 14.0",
          "Lexington<br>Review score: 3.58<br># reviews: 485.0",
          "Mount Vernon<br>Review score: 3.58<br># reviews: 67.0",
          "Marshall<br>Review score: 3.57<br># reviews: 618.0",
          "Providence<br>Review score: 3.57<br># reviews: 300.0",
          "Salt Lake City<br>Review score: 3.57<br># reviews: 852.0",
          "Coral Springs<br>Review score: 3.56<br># reviews: 32.0",
          "South Burlington<br>Review score: 3.56<br># reviews: 8724.0",
          "San Jose<br>Review score: 3.56<br># reviews: 961.0",
          "Watkins Glen<br>Review score: 3.56<br># reviews: 72.0",
          "Ann Arbor<br>Review score: 3.55<br># reviews: 799.0",
          "North Little Rock<br>Review score: 3.55<br># reviews: 272.0",
          "La Porte<br>Review score: 3.55<br># reviews: 204.0",
          "Kearney<br>Review score: 3.54<br># reviews: 43.0",
          "Des Moines<br>Review score: 3.54<br># reviews: 73.0",
          "Temple<br>Review score: 3.53<br># reviews: 18.0",
          "Cuyahoga Falls<br>Review score: 3.53<br># reviews: 61.0",
          "Gadsden<br>Review score: 3.52<br># reviews: 40.0",
          "Spearfish<br>Review score: 3.52<br># reviews: 90.0",
          "Georgetown<br>Review score: 3.51<br># reviews: 92.0",
          "Milwaukee<br>Review score: 3.51<br># reviews: 3100.0",
          "Chattanooga<br>Review score: 3.51<br># reviews: 164.0",
          "Sacramento<br>Review score: 3.5<br># reviews: 167.0",
          "Rock Island<br>Review score: 3.49<br># reviews: 44.0",
          "Louisville<br>Review score: 3.49<br># reviews: 100.0",
          "Greenville<br>Review score: 3.48<br># reviews: 632.0",
          "North Woodstock<br>Review score: 3.48<br># reviews: 431.0",
          "San Carlos<br>Review score: 3.47<br># reviews: 28.0",
          "Sackets Harbor<br>Review score: 3.47<br># reviews: 48.0",
          "Oakridge<br>Review score: 3.46<br># reviews: 12.0",
          "Northbrook<br>Review score: 3.45<br># reviews: 65.0",
          "Tacoma<br>Review score: 3.45<br># reviews: 50.0",
          "North Bergen<br>Review score: 3.45<br># reviews: 38.0",
          "Oshkosh<br>Review score: 3.45<br># reviews: 14.0",
          "Franklin<br>Review score: 3.44<br># reviews: 69.0",
          "Los Angeles<br>Review score: 3.42<br># reviews: 176.0",
          "Winterport<br>Review score: 3.42<br># reviews: 34.0",
          "Stevens Point<br>Review score: 3.41<br># reviews: 1424.0",
          "New Orleans<br>Review score: 3.4<br># reviews: 18.0",
          "Vallejo<br>Review score: 3.38<br># reviews: 296.0",
          "Roxboro<br>Review score: 3.37<br># reviews: 72.0",
          "Hilo<br>Review score: 3.36<br># reviews: 59.0",
          "Petaluma<br>Review score: 3.33<br># reviews: 18.0",
          "Pacific<br>Review score: 3.32<br># reviews: 159.0",
          "Oklahoma City<br>Review score: 3.31<br># reviews: 47.0",
          "Kent<br>Review score: 3.31<br># reviews: 22.0",
          "Palm Coast<br>Review score: 3.27<br># reviews: 89.0",
          "Tannersville<br>Review score: 3.27<br># reviews: 140.0",
          "Cocoa Beach<br>Review score: 3.26<br># reviews: 32.0",
          "Estes Park<br>Review score: 3.24<br># reviews: 99.0",
          "Saint Marys<br>Review score: 3.22<br># reviews: 182.0",
          "Saint Michaels<br>Review score: 3.19<br># reviews: 13.0",
          "Murphysboro<br>Review score: 3.19<br># reviews: 40.0",
          "Carpinteria<br>Review score: 3.18<br># reviews: 91.0",
          "Toms River<br>Review score: 3.17<br># reviews: 28.0",
          "McKinleyville<br>Review score: 3.12<br># reviews: 100.0",
          "Cape Canaveral<br>Review score: 3.09<br># reviews: 496.0",
          "Hayward<br>Review score: 3.08<br># reviews: 1257.0"
         ],
         "type": "scattergeo"
        },
        {
         "geo": "geo2",
         "lat": [
          44.78,
          45.04,
          45.05,
          42.95,
          40.41,
          38.61,
          42.28,
          38.94,
          32.92,
          42.34,
          37.44,
          39.75,
          61.22,
          33.83,
          33.76,
          41.05,
          44.94,
          44.06,
          41.03,
          27.96,
          41.5,
          42.55,
          40.77,
          40.46,
          46.59,
          45.53,
          42.75,
          45.04,
          41.24,
          41.69,
          39.33,
          35.19,
          40.81,
          41.54
         ],
         "locationmode": "USA-states",
         "lon": [
          -117.83,
          -93.32,
          -93.27,
          -85.68,
          -74.04,
          -122.87,
          -71.41,
          -95.28,
          -117.11,
          -83.06,
          -79.91,
          -105.22,
          -149.84,
          -117.91,
          -118.15,
          -76.24,
          -93.34,
          -121.31,
          -73.84,
          -82.51,
          -81.5,
          -83.2,
          -80.32,
          -79.91,
          -112.04,
          -122.69,
          -74.86,
          -93.2,
          -77.05,
          -87.61,
          -82.1,
          -80.88,
          -96.7,
          -87.68
         ],
         "marker": {
          "color": "rgb(241,105,19)",
          "line": {
           "color": "rgb(40,40,40)",
           "width": 0.5
          },
          "opacity": 0.8,
          "size": 8
         },
         "name": "4 - 5",
         "text": [
          "Baker City<br>Review score: 4.25<br># reviews: 36.0",
          "Brooklyn Ctr<br>Review score: 4.22<br># reviews: 6212.0",
          "Minneapolis<br>Review score: 4.21<br># reviews: 8971.0",
          "Grand Rapids<br>Review score: 4.18<br># reviews: 20101.0",
          "Atlantic Highlands<br>Review score: 4.15<br># reviews: 14.0",
          "Healdsburg<br>Review score: 4.15<br># reviews: 7816.0",
          "Framingham<br>Review score: 4.15<br># reviews: 59.0",
          "Lawrence<br>Review score: 4.14<br># reviews: 121.0",
          "San Diego<br>Review score: 4.12<br># reviews: 24634.0",
          "Detroit<br>Review score: 4.12<br># reviews: 21384.0",
          "Daleville<br>Review score: 4.11<br># reviews: 4952.0",
          "Golden<br>Review score: 4.11<br># reviews: 35.0",
          "Anchorage<br>Review score: 4.11<br># reviews: 425.0",
          "Anaheim<br>Review score: 4.1<br># reviews: 5086.0",
          "Long Beach<br>Review score: 4.1<br># reviews: 5100.0",
          "Berwick<br>Review score: 4.08<br># reviews: 62.0",
          "St Louis Park<br>Review score: 4.08<br># reviews: 79.0",
          "Bend<br>Review score: 4.08<br># reviews: 11502.0",
          "Elmsford<br>Review score: 4.06<br># reviews: 2696.0",
          "Tampa<br>Review score: 4.06<br># reviews: 6435.0",
          "Cleveland<br>Review score: 4.05<br># reviews: 21965.0",
          "Birmingham<br>Review score: 4.05<br># reviews: 359.0",
          "Beaver Falls<br>Review score: 4.04<br># reviews: 48.0",
          "Pittsburgh<br>Review score: 4.04<br># reviews: 948.0",
          "Helena<br>Review score: 4.04<br># reviews: 35.0",
          "Portland<br>Review score: 4.04<br># reviews: 8636.0",
          "Cooperstown<br>Review score: 4.03<br># reviews: 9899.0",
          "New Brighton<br>Review score: 4.03<br># reviews: 231.0",
          "Williamsport<br>Review score: 4.03<br># reviews: 900.0",
          "Chicago<br>Review score: 4.02<br># reviews: 19511.0",
          "Athens<br>Review score: 4.02<br># reviews: 1297.0",
          "Charlotte<br>Review score: 4.01<br># reviews: 142.0",
          "Lincoln<br>Review score: 4.01<br># reviews: 5405.0",
          "Flossmoor<br>Review score: 4.0<br># reviews: 1568.0"
         ],
         "type": "scattergeo"
        }
       ],
       "layout": {
        "annotations": [
         {
          "font": {
           "size": 16
          },
          "showarrow": false,
          "text": "Average Beer Rating by State<br>(Hover for more info)",
          "x": 0.5,
          "xanchor": "center",
          "xref": "paper",
          "y": 1,
          "yanchor": "bottom",
          "yref": "paper"
         }
        ],
        "geo": {
         "domain": {
          "x": [
           0,
           1
          ],
          "y": [
           0.55,
           1
          ]
         },
         "lakecolor": "rgb(255, 255, 255)",
         "projection": {
          "type": "albers usa"
         },
         "scope": "usa",
         "showlakes": true
        },
        "geo2": {
         "domain": {
          "x": [
           0,
           1
          ],
          "y": [
           0,
           0.45
          ]
         }
        },
        "template": {
         "data": {
          "bar": [
           {
            "error_x": {
             "color": "#2a3f5f"
            },
            "error_y": {
             "color": "#2a3f5f"
            },
            "marker": {
             "line": {
              "color": "#E5ECF6",
              "width": 0.5
             }
            },
            "type": "bar"
           }
          ],
          "barpolar": [
           {
            "marker": {
             "line": {
              "color": "#E5ECF6",
              "width": 0.5
             }
            },
            "type": "barpolar"
           }
          ],
          "carpet": [
           {
            "aaxis": {
             "endlinecolor": "#2a3f5f",
             "gridcolor": "white",
             "linecolor": "white",
             "minorgridcolor": "white",
             "startlinecolor": "#2a3f5f"
            },
            "baxis": {
             "endlinecolor": "#2a3f5f",
             "gridcolor": "white",
             "linecolor": "white",
             "minorgridcolor": "white",
             "startlinecolor": "#2a3f5f"
            },
            "type": "carpet"
           }
          ],
          "choropleth": [
           {
            "colorbar": {
             "outlinewidth": 0,
             "ticks": ""
            },
            "type": "choropleth"
           }
          ],
          "contour": [
           {
            "colorbar": {
             "outlinewidth": 0,
             "ticks": ""
            },
            "colorscale": [
             [
              0,
              "#0d0887"
             ],
             [
              0.1111111111111111,
              "#46039f"
             ],
             [
              0.2222222222222222,
              "#7201a8"
             ],
             [
              0.3333333333333333,
              "#9c179e"
             ],
             [
              0.4444444444444444,
              "#bd3786"
             ],
             [
              0.5555555555555556,
              "#d8576b"
             ],
             [
              0.6666666666666666,
              "#ed7953"
             ],
             [
              0.7777777777777778,
              "#fb9f3a"
             ],
             [
              0.8888888888888888,
              "#fdca26"
             ],
             [
              1,
              "#f0f921"
             ]
            ],
            "type": "contour"
           }
          ],
          "contourcarpet": [
           {
            "colorbar": {
             "outlinewidth": 0,
             "ticks": ""
            },
            "type": "contourcarpet"
           }
          ],
          "heatmap": [
           {
            "colorbar": {
             "outlinewidth": 0,
             "ticks": ""
            },
            "colorscale": [
             [
              0,
              "#0d0887"
             ],
             [
              0.1111111111111111,
              "#46039f"
             ],
             [
              0.2222222222222222,
              "#7201a8"
             ],
             [
              0.3333333333333333,
              "#9c179e"
             ],
             [
              0.4444444444444444,
              "#bd3786"
             ],
             [
              0.5555555555555556,
              "#d8576b"
             ],
             [
              0.6666666666666666,
              "#ed7953"
             ],
             [
              0.7777777777777778,
              "#fb9f3a"
             ],
             [
              0.8888888888888888,
              "#fdca26"
             ],
             [
              1,
              "#f0f921"
             ]
            ],
            "type": "heatmap"
           }
          ],
          "heatmapgl": [
           {
            "colorbar": {
             "outlinewidth": 0,
             "ticks": ""
            },
            "colorscale": [
             [
              0,
              "#0d0887"
             ],
             [
              0.1111111111111111,
              "#46039f"
             ],
             [
              0.2222222222222222,
              "#7201a8"
             ],
             [
              0.3333333333333333,
              "#9c179e"
             ],
             [
              0.4444444444444444,
              "#bd3786"
             ],
             [
              0.5555555555555556,
              "#d8576b"
             ],
             [
              0.6666666666666666,
              "#ed7953"
             ],
             [
              0.7777777777777778,
              "#fb9f3a"
             ],
             [
              0.8888888888888888,
              "#fdca26"
             ],
             [
              1,
              "#f0f921"
             ]
            ],
            "type": "heatmapgl"
           }
          ],
          "histogram": [
           {
            "marker": {
             "colorbar": {
              "outlinewidth": 0,
              "ticks": ""
             }
            },
            "type": "histogram"
           }
          ],
          "histogram2d": [
           {
            "colorbar": {
             "outlinewidth": 0,
             "ticks": ""
            },
            "colorscale": [
             [
              0,
              "#0d0887"
             ],
             [
              0.1111111111111111,
              "#46039f"
             ],
             [
              0.2222222222222222,
              "#7201a8"
             ],
             [
              0.3333333333333333,
              "#9c179e"
             ],
             [
              0.4444444444444444,
              "#bd3786"
             ],
             [
              0.5555555555555556,
              "#d8576b"
             ],
             [
              0.6666666666666666,
              "#ed7953"
             ],
             [
              0.7777777777777778,
              "#fb9f3a"
             ],
             [
              0.8888888888888888,
              "#fdca26"
             ],
             [
              1,
              "#f0f921"
             ]
            ],
            "type": "histogram2d"
           }
          ],
          "histogram2dcontour": [
           {
            "colorbar": {
             "outlinewidth": 0,
             "ticks": ""
            },
            "colorscale": [
             [
              0,
              "#0d0887"
             ],
             [
              0.1111111111111111,
              "#46039f"
             ],
             [
              0.2222222222222222,
              "#7201a8"
             ],
             [
              0.3333333333333333,
              "#9c179e"
             ],
             [
              0.4444444444444444,
              "#bd3786"
             ],
             [
              0.5555555555555556,
              "#d8576b"
             ],
             [
              0.6666666666666666,
              "#ed7953"
             ],
             [
              0.7777777777777778,
              "#fb9f3a"
             ],
             [
              0.8888888888888888,
              "#fdca26"
             ],
             [
              1,
              "#f0f921"
             ]
            ],
            "type": "histogram2dcontour"
           }
          ],
          "mesh3d": [
           {
            "colorbar": {
             "outlinewidth": 0,
             "ticks": ""
            },
            "type": "mesh3d"
           }
          ],
          "parcoords": [
           {
            "line": {
             "colorbar": {
              "outlinewidth": 0,
              "ticks": ""
             }
            },
            "type": "parcoords"
           }
          ],
          "pie": [
           {
            "automargin": true,
            "type": "pie"
           }
          ],
          "scatter": [
           {
            "marker": {
             "colorbar": {
              "outlinewidth": 0,
              "ticks": ""
             }
            },
            "type": "scatter"
           }
          ],
          "scatter3d": [
           {
            "line": {
             "colorbar": {
              "outlinewidth": 0,
              "ticks": ""
             }
            },
            "marker": {
             "colorbar": {
              "outlinewidth": 0,
              "ticks": ""
             }
            },
            "type": "scatter3d"
           }
          ],
          "scattercarpet": [
           {
            "marker": {
             "colorbar": {
              "outlinewidth": 0,
              "ticks": ""
             }
            },
            "type": "scattercarpet"
           }
          ],
          "scattergeo": [
           {
            "marker": {
             "colorbar": {
              "outlinewidth": 0,
              "ticks": ""
             }
            },
            "type": "scattergeo"
           }
          ],
          "scattergl": [
           {
            "marker": {
             "colorbar": {
              "outlinewidth": 0,
              "ticks": ""
             }
            },
            "type": "scattergl"
           }
          ],
          "scattermapbox": [
           {
            "marker": {
             "colorbar": {
              "outlinewidth": 0,
              "ticks": ""
             }
            },
            "type": "scattermapbox"
           }
          ],
          "scatterpolar": [
           {
            "marker": {
             "colorbar": {
              "outlinewidth": 0,
              "ticks": ""
             }
            },
            "type": "scatterpolar"
           }
          ],
          "scatterpolargl": [
           {
            "marker": {
             "colorbar": {
              "outlinewidth": 0,
              "ticks": ""
             }
            },
            "type": "scatterpolargl"
           }
          ],
          "scatterternary": [
           {
            "marker": {
             "colorbar": {
              "outlinewidth": 0,
              "ticks": ""
             }
            },
            "type": "scatterternary"
           }
          ],
          "surface": [
           {
            "colorbar": {
             "outlinewidth": 0,
             "ticks": ""
            },
            "colorscale": [
             [
              0,
              "#0d0887"
             ],
             [
              0.1111111111111111,
              "#46039f"
             ],
             [
              0.2222222222222222,
              "#7201a8"
             ],
             [
              0.3333333333333333,
              "#9c179e"
             ],
             [
              0.4444444444444444,
              "#bd3786"
             ],
             [
              0.5555555555555556,
              "#d8576b"
             ],
             [
              0.6666666666666666,
              "#ed7953"
             ],
             [
              0.7777777777777778,
              "#fb9f3a"
             ],
             [
              0.8888888888888888,
              "#fdca26"
             ],
             [
              1,
              "#f0f921"
             ]
            ],
            "type": "surface"
           }
          ],
          "table": [
           {
            "cells": {
             "fill": {
              "color": "#EBF0F8"
             },
             "line": {
              "color": "white"
             }
            },
            "header": {
             "fill": {
              "color": "#C8D4E3"
             },
             "line": {
              "color": "white"
             }
            },
            "type": "table"
           }
          ]
         },
         "layout": {
          "annotationdefaults": {
           "arrowcolor": "#2a3f5f",
           "arrowhead": 0,
           "arrowwidth": 1
          },
          "coloraxis": {
           "colorbar": {
            "outlinewidth": 0,
            "ticks": ""
           }
          },
          "colorscale": {
           "diverging": [
            [
             0,
             "#8e0152"
            ],
            [
             0.1,
             "#c51b7d"
            ],
            [
             0.2,
             "#de77ae"
            ],
            [
             0.3,
             "#f1b6da"
            ],
            [
             0.4,
             "#fde0ef"
            ],
            [
             0.5,
             "#f7f7f7"
            ],
            [
             0.6,
             "#e6f5d0"
            ],
            [
             0.7,
             "#b8e186"
            ],
            [
             0.8,
             "#7fbc41"
            ],
            [
             0.9,
             "#4d9221"
            ],
            [
             1,
             "#276419"
            ]
           ],
           "sequential": [
            [
             0,
             "#0d0887"
            ],
            [
             0.1111111111111111,
             "#46039f"
            ],
            [
             0.2222222222222222,
             "#7201a8"
            ],
            [
             0.3333333333333333,
             "#9c179e"
            ],
            [
             0.4444444444444444,
             "#bd3786"
            ],
            [
             0.5555555555555556,
             "#d8576b"
            ],
            [
             0.6666666666666666,
             "#ed7953"
            ],
            [
             0.7777777777777778,
             "#fb9f3a"
            ],
            [
             0.8888888888888888,
             "#fdca26"
            ],
            [
             1,
             "#f0f921"
            ]
           ],
           "sequentialminus": [
            [
             0,
             "#0d0887"
            ],
            [
             0.1111111111111111,
             "#46039f"
            ],
            [
             0.2222222222222222,
             "#7201a8"
            ],
            [
             0.3333333333333333,
             "#9c179e"
            ],
            [
             0.4444444444444444,
             "#bd3786"
            ],
            [
             0.5555555555555556,
             "#d8576b"
            ],
            [
             0.6666666666666666,
             "#ed7953"
            ],
            [
             0.7777777777777778,
             "#fb9f3a"
            ],
            [
             0.8888888888888888,
             "#fdca26"
            ],
            [
             1,
             "#f0f921"
            ]
           ]
          },
          "colorway": [
           "#636efa",
           "#EF553B",
           "#00cc96",
           "#ab63fa",
           "#FFA15A",
           "#19d3f3",
           "#FF6692",
           "#B6E880",
           "#FF97FF",
           "#FECB52"
          ],
          "font": {
           "color": "#2a3f5f"
          },
          "geo": {
           "bgcolor": "white",
           "lakecolor": "white",
           "landcolor": "#E5ECF6",
           "showlakes": true,
           "showland": true,
           "subunitcolor": "white"
          },
          "hoverlabel": {
           "align": "left"
          },
          "hovermode": "closest",
          "mapbox": {
           "style": "light"
          },
          "paper_bgcolor": "white",
          "plot_bgcolor": "#E5ECF6",
          "polar": {
           "angularaxis": {
            "gridcolor": "white",
            "linecolor": "white",
            "ticks": ""
           },
           "bgcolor": "#E5ECF6",
           "radialaxis": {
            "gridcolor": "white",
            "linecolor": "white",
            "ticks": ""
           }
          },
          "scene": {
           "xaxis": {
            "backgroundcolor": "#E5ECF6",
            "gridcolor": "white",
            "gridwidth": 2,
            "linecolor": "white",
            "showbackground": true,
            "ticks": "",
            "zerolinecolor": "white"
           },
           "yaxis": {
            "backgroundcolor": "#E5ECF6",
            "gridcolor": "white",
            "gridwidth": 2,
            "linecolor": "white",
            "showbackground": true,
            "ticks": "",
            "zerolinecolor": "white"
           },
           "zaxis": {
            "backgroundcolor": "#E5ECF6",
            "gridcolor": "white",
            "gridwidth": 2,
            "linecolor": "white",
            "showbackground": true,
            "ticks": "",
            "zerolinecolor": "white"
           }
          },
          "shapedefaults": {
           "line": {
            "color": "#2a3f5f"
           }
          },
          "ternary": {
           "aaxis": {
            "gridcolor": "white",
            "linecolor": "white",
            "ticks": ""
           },
           "baxis": {
            "gridcolor": "white",
            "linecolor": "white",
            "ticks": ""
           },
           "bgcolor": "#E5ECF6",
           "caxis": {
            "gridcolor": "white",
            "linecolor": "white",
            "ticks": ""
           }
          },
          "title": {
           "x": 0.05
          },
          "xaxis": {
           "automargin": true,
           "gridcolor": "white",
           "linecolor": "white",
           "ticks": "",
           "title": {
            "standoff": 15
           },
           "zerolinecolor": "white",
           "zerolinewidth": 2
          },
          "yaxis": {
           "automargin": true,
           "gridcolor": "white",
           "linecolor": "white",
           "ticks": "",
           "title": {
            "standoff": 15
           },
           "zerolinecolor": "white",
           "zerolinewidth": 2
          }
         }
        }
       }
      },
      "text/html": [
       "<div>\n",
       "        \n",
       "        \n",
       "            <div id=\"519a6b89-45b2-44f1-83d5-e97dfc938f9f\" class=\"plotly-graph-div\" style=\"height:525px; width:100%;\"></div>\n",
       "            <script type=\"text/javascript\">\n",
       "                require([\"plotly\"], function(Plotly) {\n",
       "                    window.PLOTLYENV=window.PLOTLYENV || {};\n",
       "                    \n",
       "                if (document.getElementById(\"519a6b89-45b2-44f1-83d5-e97dfc938f9f\")) {\n",
       "                    Plotly.newPlot(\n",
       "                        '519a6b89-45b2-44f1-83d5-e97dfc938f9f',\n",
       "                        [{\"colorbar\": {\"ticks\": \"outside\", \"title\": {\"text\": \"Average<br>Review<br>Score\"}}, \"colorscale\": [[0.0, \"rgb(247,251,255)\"], [0.125, \"rgb(222,235,247)\"], [0.25, \"rgb(198,219,239)\"], [0.375, \"rgb(158,202,225)\"], [0.5, \"rgb(107,174,214)\"], [0.625, \"rgb(66,146,198)\"], [0.75, \"rgb(33,113,181)\"], [0.875, \"rgb(8,81,156)\"], [1.0, \"rgb(8,48,107)\"]], \"geo\": \"geo\", \"locationmode\": \"USA-states\", \"locations\": [\"KS\", \"MN\", \"MI\", \"OR\", \"VA\", \"AL\", \"IL\", \"CA\", \"NE\", \"ME\", \"FL\", \"NY\", \"DE\", \"GA\", \"SC\", \"AK\", \"PA\", \"CT\", \"OH\", \"WA\", \"CO\", \"WV\", \"NM\", \"NC\", \"IA\", \"MA\", \"ND\", \"MD\", \"MT\", \"IN\", \"NJ\", \"ID\", \"DC\", \"NV\", \"VT\", \"AZ\", \"MS\", \"HI\", \"WY\", \"NH\", \"WI\", \"RI\", \"UT\", \"KY\", \"TX\", \"AR\", \"SD\", \"TN\", \"LA\", \"OK\", \"MO\"], \"text\": [\"Kansas<br># reviews: 132\", \"Minnesota<br># reviews: 19380\", \"Michigan<br># reviews: 83054\", \"Oregon<br># reviews: 14889\", \"Virginia<br># reviews: 7578\", \"Alabama<br># reviews: 328\", \"Illinois<br># reviews: 21491\", \"California<br># reviews: 81833\", \"Nebraska<br># reviews: 6144\", \"Maine<br># reviews: 8982\", \"Florida<br># reviews: 7373\", \"New York<br># reviews: 38440\", \"Delaware<br># reviews: 33892\", \"Georgia<br># reviews: 109\", \"South Carolina<br># reviews: 1749\", \"Alaska<br># reviews: 3651\", \"Pennsylvania<br># reviews: 4709\", \"Connecticut<br># reviews: 253\", \"Ohio<br># reviews: 71603\", \"Washington<br># reviews: 5782\", \"Colorado<br># reviews: 28979\", \"West Virginia<br># reviews: 41\", \"New Mexico<br># reviews: 23\", \"North Carolina<br># reviews: 2531\", \"Iowa<br># reviews: 266\", \"Massachusetts<br># reviews: 19437\", \"North Dakota<br># reviews: 6\", \"Maryland<br># reviews: 19607\", \"Montana<br># reviews: 3179\", \"Indiana<br># reviews: 1290\", \"New Jersey<br># reviews: 2645\", \"Idaho<br># reviews: 1224\", \"District of Columbia<br># reviews: 59\", \"Nevada<br># reviews: 448\", \"Vermont<br># reviews: 12234\", \"Arizona<br># reviews: 797\", \"Mississippi<br># reviews: 630\", \"Hawaii<br># reviews: 4048\", \"Wyoming<br># reviews: 20\", \"New Hampshire<br># reviews: 1514\", \"Wisconsin<br># reviews: 12923\", \"Rhode Island<br># reviews: 313\", \"Utah<br># reviews: 1052\", \"Kentucky<br># reviews: 588\", \"Texas<br># reviews: 7528\", \"Arkansas<br># reviews: 276\", \"South Dakota<br># reviews: 92\", \"Tennessee<br># reviews: 237\", \"Louisiana<br># reviews: 4991\", \"Oklahoma<br># reviews: 100\", \"Missouri<br># reviews: 25067\"], \"type\": \"choropleth\", \"z\": [4.11, 4.1, 4.03, 4.03, 4.0, 4.0, 4.0, 4.0, 3.98, 3.98, 3.97, 3.93, 3.92, 3.92, 3.91, 3.87, 3.84, 3.82, 3.81, 3.8, 3.8, 3.79, 3.78, 3.78, 3.77, 3.77, 3.74, 3.73, 3.72, 3.72, 3.71, 3.71, 3.7, 3.7, 3.69, 3.68, 3.67, 3.65, 3.62, 3.6, 3.59, 3.58, 3.57, 3.57, 3.55, 3.52, 3.5, 3.49, 3.45, 3.09, 3.07]}, {\"geo\": \"geo2\", \"lat\": [null], \"lon\": [null], \"marker\": {\"color\": \"lightgrey\", \"line\": {\"color\": \"rgb(40,40,40)\", \"width\": 0.5}, \"size\": 8}, \"name\": \"1 - 2\", \"showlegend\": true, \"type\": \"scattergeo\", \"visible\": \"legendonly\"}, {\"geo\": \"geo2\", \"lat\": [], \"locationmode\": \"USA-states\", \"lon\": [], \"marker\": {\"color\": \"lightcyan\", \"line\": {\"color\": \"rgb(40,40,40)\", \"width\": 0.5}, \"opacity\": 0.8, \"size\": 8}, \"name\": \"1 - 2\", \"text\": [], \"type\": \"scattergeo\"}, {\"geo\": \"geo2\", \"lat\": [42.6, 43.8, 44.58, 38.74, 34.24], \"locationmode\": \"USA-states\", \"lon\": [-89.64, -91.25, -91.23, -90.3, -116.92], \"marker\": {\"color\": \"rgb(59,59,59)\", \"line\": {\"color\": \"rgb(40,40,40)\", \"width\": 0.5}, \"opacity\": 0.8, \"size\": 8}, \"name\": \"2 - 3\", \"text\": [\"Monroe<br>Review score: 2.91<br># reviews: 1341.0\", \"La Crosse<br>Review score: 2.73<br># reviews: 409.0\", \"Osseo<br>Review score: 2.67<br># reviews: 60.0\", \"Saint Louis<br>Review score: 2.58<br># reviews: 15344.0\", \"Big Bear Lake<br>Review score: 2.32<br># reviews: 18.0\"], \"type\": \"scattergeo\"}, {\"geo\": \"geo2\", \"lat\": [41.54, 42.32, 42.37, 42.58, 30.34, 30.29, 41.07, 44.56, 44.96, 29.4, 48.75, 20.85, 42.22, 42.49, 40.66, 25.79, 38.77, 34.61, 42.48, 36.0, 42.39, 42.77, 41.52, 39.71, 40.67, 39.1, 37.73, 41.62, 40.06, 33.87, 40.06, 39.75, 43.12, 43.05, 42.18, 47.66, 39.0, 36.01, 37.38, 41.93, 47.74, 45.71, 35.66, 40.76, 45.2, 39.97, 58.36, 34.14, 33.56, 42.12, 43.16, 37.78, 41.18, 41.25, 38.44, 40.2, 40.88, 42.6, 37.99, 34.24, 33.22, 41.75, 44.66, 40.62, 48.52, 35.66, 40.39, 42.32, 39.28, 29.77, 44.96, 38.13, 36.33, 35.62, 42.25, 41.26, 46.79, 48.3, 43.09, 37.53, 42.53, 39.3, 39.54, 39.48, 46.54, 42.63, 36.83, 48.48, 35.78, 40.16, 42.28, 37.87, 30.32, 42.79, 44.07, 38.57, 43.42, 42.74, 42.93, 39.82, 40.81, 41.51, 43.05, 44.28, 42.88, 46.92, 39.85, 45.78, 40.76, 48.31, 44.1, 40.11, 33.42, 35.21, 45.09, 38.99, 39.27, 44.29, 42.52, 41.23, 42.3, 34.42, 45.04, 39.36, 33.84, 44.43, 41.31, 38.9, 46.25, 35.41, 45.9, 35.59, 30.38, 38.95, 42.61, 43.06, 42.35, 39.29, 37.96, 39.11, 40.29, 43.62, 46.74, 47.69, 32.21, 41.79, 37.78, 40.61, 41.55, 42.49, 45.21, 38.71, 34.28, 40.16, 19.64, 40.44, 33.51, 33.89, 36.73, 39.17, 42.28, 38.05, 48.42, 44.44, 41.82, 40.76, 26.3, 44.43, 37.32, 42.38, 42.28, 34.76, 41.61, 40.7, 41.58, 31.1, 41.14, 34.02, 44.52, 38.68, 43.05, 35.05, 38.56, 41.51, 38.26, 34.8, 44.03, 37.5, 43.95, 43.75, 42.11, 47.24, 40.77, 44.08, 35.94, 34.05, 44.63, 44.51, 29.96, 38.13, 36.39, 19.71, 38.23, 47.25, 35.57, 47.38, 29.62, 41.05, 28.32, 40.37, 41.43, 38.78, 37.78, 34.4, 39.96, 40.93, 28.4, 46.01], \"locationmode\": \"USA-states\", \"lon\": [-87.68, -83.88, -72.53, -72.5, -97.72, -81.39, -81.52, -123.26, -89.62, -98.48, -122.48, -156.65, -85.88, -83.03, -74.28, -80.14, -75.31, -120.2, -72.61, -78.9, -71.04, -71.08, -90.57, -104.95, -74.01, -94.59, -122.5, -79.67, -75.19, -117.93, -105.2, -86.14, -89.35, -88.35, -122.66, -122.31, -95.68, -75.66, -122.03, -74.01, -122.66, -121.51, -105.97, -73.41, -109.25, -83.0, -134.49, -118.77, -81.72, -86.45, -77.58, -122.31, -96.08, -95.93, -122.71, -77.19, -123.99, -76.18, -122.59, -77.95, -117.35, -74.09, -90.18, -111.89, -122.61, -78.85, -79.83, -72.63, -76.57, -95.35, -93.07, -121.27, -119.29, -78.81, -83.18, -70.13, -92.09, -122.65, -89.52, -77.44, -83.14, -85.22, -119.78, -119.79, -87.39, -82.97, -76.3, -120.19, -78.65, -105.12, -78.67, -122.27, -81.64, -86.1, -123.14, -92.16, -73.71, -73.69, -73.35, -82.83, -91.11, -90.52, -76.15, -73.98, -78.85, -114.07, -75.02, -108.5, -73.02, -116.55, -70.22, -76.5, -111.9, -111.52, -93.01, -104.81, -76.8, -90.85, -70.89, -75.87, -85.57, -119.69, -92.83, -77.43, -118.32, -68.99, -105.6, -77.01, -114.16, -80.58, -123.96, -82.56, -89.45, -92.33, -70.67, -71.44, -71.03, -81.53, -121.29, -84.52, -76.88, -116.2, -123.0, -122.15, -110.96, -71.47, -122.23, -75.46, -71.05, -83.14, -123.19, -90.45, -119.29, -76.31, -156.0, -86.13, -112.07, -117.56, -119.79, -86.51, -87.85, -84.52, -122.34, -95.78, -71.42, -111.88, -80.25, -73.22, -121.87, -76.87, -83.75, -92.27, -86.73, -99.08, -93.61, -97.34, -81.47, -86.01, -103.87, -75.38, -87.91, -85.31, -121.48, -90.51, -85.76, -82.42, -71.69, -122.24, -76.12, -122.46, -87.86, -122.44, -74.04, -88.59, -86.83, -118.24, -68.85, -89.57, -90.06, -122.26, -78.98, -155.07, -122.64, -122.25, -97.51, -122.14, -81.19, -75.33, -80.61, -105.53, -78.55, -76.22, -89.33, -119.52, -74.19, -124.1, -80.61, -91.49], \"marker\": {\"color\": \"cornflowerblue\", \"line\": {\"color\": \"rgb(40,40,40)\", \"width\": 0.5}, \"opacity\": 0.8, \"size\": 8}, \"name\": \"3 - 4\", \"text\": [\"Flossmoor<br>Review score: 4.0<br># reviews: 1568.0\", \"Dexter<br>Review score: 3.99<br># reviews: 4963.0\", \"Amherst<br>Review score: 3.99<br># reviews: 2710.0\", \"Millers Falls<br>Review score: 3.99<br># reviews: 161.0\", \"Austin<br>Review score: 3.98<br># reviews: 390.0\", \"Jacksonville Beach<br>Review score: 3.96<br># reviews: 20.0\", \"Akron<br>Review score: 3.96<br># reviews: 5073.0\", \"Corvallis<br>Review score: 3.95<br># reviews: 213.0\", \"Wausau<br>Review score: 3.95<br># reviews: 27.0\", \"San Antonio<br>Review score: 3.94<br># reviews: 368.0\", \"Bellingham<br>Review score: 3.94<br># reviews: 211.0\", \"Lahaina<br>Review score: 3.94<br># reviews: 764.0\", \"Paw Paw<br>Review score: 3.94<br># reviews: 13.0\", \"Warren<br>Review score: 3.94<br># reviews: 1323.0\", \"Roselle Park<br>Review score: 3.94<br># reviews: 194.0\", \"Miami Beach<br>Review score: 3.93<br># reviews: 35.0\", \"Milton<br>Review score: 3.92<br># reviews: 33800.0\", \"Buellton<br>Review score: 3.92<br># reviews: 22.0\", \"South Deerfield<br>Review score: 3.92<br># reviews: 2990.0\", \"Durham<br>Review score: 3.91<br># reviews: 103.0\", \"Chelsea<br>Review score: 3.9<br># reviews: 73.0\", \"Haverhill<br>Review score: 3.9<br># reviews: 882.0\", \"Davenport<br>Review score: 3.9<br># reviews: 141.0\", \"Denver<br>Review score: 3.9<br># reviews: 203.0\", \"Brooklyn<br>Review score: 3.9<br># reviews: 15913.0\", \"Kansas City<br>Review score: 3.89<br># reviews: 7716.0\", \"San Francisco<br>Review score: 3.89<br># reviews: 9993.0\", \"Titusville<br>Review score: 3.88<br># reviews: 13.0\", \"Philadelphia<br>Review score: 3.88<br># reviews: 109.0\", \"Fullerton<br>Review score: 3.88<br># reviews: 1130.0\", \"Boulder<br>Review score: 3.88<br># reviews: 16250.0\", \"Indianapolis<br>Review score: 3.88<br># reviews: 350.0\", \"Madison<br>Review score: 3.88<br># reviews: 809.0\", \"Delafield<br>Review score: 3.87<br># reviews: 51.0\", \"Ashland<br>Review score: 3.87<br># reviews: 930.0\", \"Seattle<br>Review score: 3.87<br># reviews: 3731.0\", \"Topeka<br>Review score: 3.87<br># reviews: 11.0\", \"Kill Devil Hills<br>Review score: 3.86<br># reviews: 166.0\", \"Sunnyvale<br>Review score: 3.86<br># reviews: 95.0\", \"Kingston<br>Review score: 3.86<br># reviews: 434.0\", \"Poulsbo<br>Review score: 3.86<br># reviews: 18.0\", \"Hood River<br>Review score: 3.86<br># reviews: 57.0\", \"Santa Fe<br>Review score: 3.85<br># reviews: 15.0\", \"Farmingdale<br>Review score: 3.85<br># reviews: 166.0\", \"Red Lodge<br>Review score: 3.84<br># reviews: 24.0\", \"Columbus<br>Review score: 3.84<br># reviews: 328.0\", \"Juneau<br>Review score: 3.84<br># reviews: 3226.0\", \"Agoura Hills<br>Review score: 3.84<br># reviews: 95.0\", \"Aiken<br>Review score: 3.83<br># reviews: 19.0\", \"Benton Harbor<br>Review score: 3.83<br># reviews: 205.0\", \"Rochester<br>Review score: 3.83<br># reviews: 215.0\", \"Alameda<br>Review score: 3.82<br># reviews: 58.0\", \"La Vista<br>Review score: 3.82<br># reviews: 498.0\", \"Omaha<br>Review score: 3.82<br># reviews: 198.0\", \"Santa Rosa<br>Review score: 3.82<br># reviews: 74.0\", \"Carlisle<br>Review score: 3.82<br># reviews: 32.0\", \"Blue Lake<br>Review score: 3.82<br># reviews: 1968.0\", \"Cortland<br>Review score: 3.82<br># reviews: 30.0\", \"Fairfax<br>Review score: 3.81<br># reviews: 158.0\", \"Wilmington<br>Review score: 3.81<br># reviews: 41.0\", \"Oceanside<br>Review score: 3.81<br># reviews: 756.0\", \"New Paltz<br>Review score: 3.81<br># reviews: 89.0\", \"Marshfield<br>Review score: 3.81<br># reviews: 16.0\", \"Midvale<br>Review score: 3.81<br># reviews: 78.0\", \"Anacortes<br>Review score: 3.81<br># reviews: 83.0\", \"Holly Springs<br>Review score: 3.81<br># reviews: 462.0\", \"North Versailles<br>Review score: 3.8<br># reviews: 153.0\", \"Northampton<br>Review score: 3.8<br># reviews: 55.0\", \"Baltimore<br>Review score: 3.8<br># reviews: 7572.0\", \"Houston<br>Review score: 3.79<br># reviews: 2881.0\", \"Saint Paul<br>Review score: 3.79<br># reviews: 586.0\", \"Lodi<br>Review score: 3.79<br># reviews: 13.0\", \"Visalia<br>Review score: 3.79<br># reviews: 15.0\", \"Fuquay Varina<br>Review score: 3.78<br># reviews: 92.0\", \"Lincoln Park<br>Review score: 3.78<br># reviews: 67.0\", \"Nantucket<br>Review score: 3.78<br># reviews: 1624.0\", \"Duluth<br>Review score: 3.78<br># reviews: 126.0\", \"Oak Harbor<br>Review score: 3.78<br># reviews: 47.0\", \"Middleton<br>Review score: 3.78<br># reviews: 2039.0\", \"Richmond<br>Review score: 3.77<br># reviews: 857.0\", \"Clawson<br>Review score: 3.77<br># reviews: 29.0\", \"Batesville<br>Review score: 3.77<br># reviews: 11.0\", \"Sparks<br>Review score: 3.77<br># reviews: 55.0\", \"Reno<br>Review score: 3.77<br># reviews: 55.0\", \"Marquette<br>Review score: 3.77<br># reviews: 21.0\", \"Shelby Township<br>Review score: 3.76<br># reviews: 19.0\", \"Portsmouth<br>Review score: 3.76<br># reviews: 835.0\", \"Winthrop<br>Review score: 3.76<br># reviews: 101.0\", \"Raleigh<br>Review score: 3.76<br># reviews: 514.0\", \"Longmont<br>Review score: 3.75<br># reviews: 7695.0\", \"Ellicottville<br>Review score: 3.75<br># reviews: 296.0\", \"Berkeley<br>Review score: 3.75<br># reviews: 44.0\", \"Jacksonville<br>Review score: 3.75<br># reviews: 194.0\", \"Holland<br>Review score: 3.75<br># reviews: 5706.0\", \"Eugene<br>Review score: 3.75<br># reviews: 335.0\", \"Jefferson City<br>Review score: 3.74<br># reviews: 20.0\", \"Lake George<br>Review score: 3.74<br># reviews: 59.0\", \"Troy<br>Review score: 3.74<br># reviews: 288.0\", \"North Hoosick<br>Review score: 3.74<br># reviews: 288.0\", \"Canal Winchester<br>Review score: 3.73<br># reviews: 4033.0\", \"Burlington<br>Review score: 3.73<br># reviews: 52.0\", \"Moline<br>Review score: 3.73<br># reviews: 52.0\", \"Syracuse<br>Review score: 3.72<br># reviews: 134.0\", \"Lake Placid<br>Review score: 3.72<br># reviews: 585.0\", \"Buffalo<br>Review score: 3.72<br># reviews: 215.0\", \"Missoula<br>Review score: 3.72<br># reviews: 2835.0\", \"Somerdale<br>Review score: 3.72<br># reviews: 2167.0\", \"Billings<br>Review score: 3.71<br># reviews: 75.0\", \"Patchogue<br>Review score: 3.71<br># reviews: 2378.0\", \"Ponderay<br>Review score: 3.71<br># reviews: 1136.0\", \"Lewiston<br>Review score: 3.71<br># reviews: 164.0\", \"Mount Joy<br>Review score: 3.7<br># reviews: 79.0\", \"Tempe<br>Review score: 3.7<br># reviews: 563.0\", \"Flagstaff<br>Review score: 3.7<br># reviews: 36.0\", \"White Bear Lake<br>Review score: 3.7<br># reviews: 12.0\", \"Colorado Springs<br>Review score: 3.7<br># reviews: 547.0\", \"Ellicott City<br>Review score: 3.69<br># reviews: 52.0\", \"Black River Falls<br>Review score: 3.69<br># reviews: 744.0\", \"Salem<br>Review score: 3.69<br># reviews: 99.0\", \"Wilkes Barre<br>Review score: 3.69<br># reviews: 50.0\", \"Kalamazoo<br>Review score: 3.69<br># reviews: 3595.0\", \"Santa Barbara<br>Review score: 3.69<br># reviews: 358.0\", \"Stillwater<br>Review score: 3.68<br># reviews: 216.0\", \"Frederick<br>Review score: 3.68<br># reviews: 11905.0\", \"Torrance<br>Review score: 3.68<br># reviews: 39.0\", \"Belfast<br>Review score: 3.68<br># reviews: 195.0\", \"Laramie<br>Review score: 3.68<br># reviews: 12.0\", \"Washington<br>Review score: 3.68<br># reviews: 93.0\", \"Hamilton<br>Review score: 3.68<br># reviews: 56.0\", \"Concord<br>Review score: 3.68<br># reviews: 120.0\", \"Cannon Beach<br>Review score: 3.67<br># reviews: 21.0\", \"Asheville<br>Review score: 3.67<br># reviews: 147.0\", \"Kiln<br>Review score: 3.67<br># reviews: 630.0\", \"Columbia<br>Review score: 3.67<br># reviews: 81.0\", \"Gloucester<br>Review score: 3.66<br># reviews: 755.0\", \"Hooksett<br>Review score: 3.66<br># reviews: 992.0\", \"Boston<br>Review score: 3.66<br># reviews: 9537.0\", \"Parkersburg<br>Review score: 3.66<br># reviews: 19.0\", \"Stockton<br>Review score: 3.65<br># reviews: 105.0\", \"Cincinnati<br>Review score: 3.65<br># reviews: 38812.0\", \"Harrisburg<br>Review score: 3.65<br># reviews: 1078.0\", \"Boise<br>Review score: 3.65<br># reviews: 82.0\", \"Centralia<br>Review score: 3.65<br># reviews: 673.0\", \"Redmond<br>Review score: 3.64<br># reviews: 400.0\", \"Tucson<br>Review score: 3.64<br># reviews: 123.0\", \"Cranston<br>Review score: 3.63<br># reviews: 13.0\", \"Oakland<br>Review score: 3.63<br># reviews: 41.0\", \"Allentown<br>Review score: 3.63<br># reviews: 337.0\", \"Westport<br>Review score: 3.63<br># reviews: 423.0\", \"Royal Oak<br>Review score: 3.62<br># reviews: 50.0\", \"McMinnville<br>Review score: 3.62<br># reviews: 149.0\", \"Maryland Heights<br>Review score: 3.62<br># reviews: 1667.0\", \"Ventura<br>Review score: 3.62<br># reviews: 43.0\", \"Lititz<br>Review score: 3.62<br># reviews: 30.0\", \"Kailua Kona<br>Review score: 3.6<br># reviews: 2056.0\", \"Kokomo<br>Review score: 3.6<br># reviews: 27.0\", \"Phoenix<br>Review score: 3.59<br># reviews: 72.0\", \"Corona<br>Review score: 3.59<br># reviews: 19.0\", \"Fresno<br>Review score: 3.59<br># reviews: 18.0\", \"Bloomington<br>Review score: 3.58<br># reviews: 52.0\", \"Lake Bluff<br>Review score: 3.58<br># reviews: 14.0\", \"Lexington<br>Review score: 3.58<br># reviews: 485.0\", \"Mount Vernon<br>Review score: 3.58<br># reviews: 67.0\", \"Marshall<br>Review score: 3.57<br># reviews: 618.0\", \"Providence<br>Review score: 3.57<br># reviews: 300.0\", \"Salt Lake City<br>Review score: 3.57<br># reviews: 852.0\", \"Coral Springs<br>Review score: 3.56<br># reviews: 32.0\", \"South Burlington<br>Review score: 3.56<br># reviews: 8724.0\", \"San Jose<br>Review score: 3.56<br># reviews: 961.0\", \"Watkins Glen<br>Review score: 3.56<br># reviews: 72.0\", \"Ann Arbor<br>Review score: 3.55<br># reviews: 799.0\", \"North Little Rock<br>Review score: 3.55<br># reviews: 272.0\", \"La Porte<br>Review score: 3.55<br># reviews: 204.0\", \"Kearney<br>Review score: 3.54<br># reviews: 43.0\", \"Des Moines<br>Review score: 3.54<br># reviews: 73.0\", \"Temple<br>Review score: 3.53<br># reviews: 18.0\", \"Cuyahoga Falls<br>Review score: 3.53<br># reviews: 61.0\", \"Gadsden<br>Review score: 3.52<br># reviews: 40.0\", \"Spearfish<br>Review score: 3.52<br># reviews: 90.0\", \"Georgetown<br>Review score: 3.51<br># reviews: 92.0\", \"Milwaukee<br>Review score: 3.51<br># reviews: 3100.0\", \"Chattanooga<br>Review score: 3.51<br># reviews: 164.0\", \"Sacramento<br>Review score: 3.5<br># reviews: 167.0\", \"Rock Island<br>Review score: 3.49<br># reviews: 44.0\", \"Louisville<br>Review score: 3.49<br># reviews: 100.0\", \"Greenville<br>Review score: 3.48<br># reviews: 632.0\", \"North Woodstock<br>Review score: 3.48<br># reviews: 431.0\", \"San Carlos<br>Review score: 3.47<br># reviews: 28.0\", \"Sackets Harbor<br>Review score: 3.47<br># reviews: 48.0\", \"Oakridge<br>Review score: 3.46<br># reviews: 12.0\", \"Northbrook<br>Review score: 3.45<br># reviews: 65.0\", \"Tacoma<br>Review score: 3.45<br># reviews: 50.0\", \"North Bergen<br>Review score: 3.45<br># reviews: 38.0\", \"Oshkosh<br>Review score: 3.45<br># reviews: 14.0\", \"Franklin<br>Review score: 3.44<br># reviews: 69.0\", \"Los Angeles<br>Review score: 3.42<br># reviews: 176.0\", \"Winterport<br>Review score: 3.42<br># reviews: 34.0\", \"Stevens Point<br>Review score: 3.41<br># reviews: 1424.0\", \"New Orleans<br>Review score: 3.4<br># reviews: 18.0\", \"Vallejo<br>Review score: 3.38<br># reviews: 296.0\", \"Roxboro<br>Review score: 3.37<br># reviews: 72.0\", \"Hilo<br>Review score: 3.36<br># reviews: 59.0\", \"Petaluma<br>Review score: 3.33<br># reviews: 18.0\", \"Pacific<br>Review score: 3.32<br># reviews: 159.0\", \"Oklahoma City<br>Review score: 3.31<br># reviews: 47.0\", \"Kent<br>Review score: 3.31<br># reviews: 22.0\", \"Palm Coast<br>Review score: 3.27<br># reviews: 89.0\", \"Tannersville<br>Review score: 3.27<br># reviews: 140.0\", \"Cocoa Beach<br>Review score: 3.26<br># reviews: 32.0\", \"Estes Park<br>Review score: 3.24<br># reviews: 99.0\", \"Saint Marys<br>Review score: 3.22<br># reviews: 182.0\", \"Saint Michaels<br>Review score: 3.19<br># reviews: 13.0\", \"Murphysboro<br>Review score: 3.19<br># reviews: 40.0\", \"Carpinteria<br>Review score: 3.18<br># reviews: 91.0\", \"Toms River<br>Review score: 3.17<br># reviews: 28.0\", \"McKinleyville<br>Review score: 3.12<br># reviews: 100.0\", \"Cape Canaveral<br>Review score: 3.09<br># reviews: 496.0\", \"Hayward<br>Review score: 3.08<br># reviews: 1257.0\"], \"type\": \"scattergeo\"}, {\"geo\": \"geo2\", \"lat\": [44.78, 45.04, 45.05, 42.95, 40.41, 38.61, 42.28, 38.94, 32.92, 42.34, 37.44, 39.75, 61.22, 33.83, 33.76, 41.05, 44.94, 44.06, 41.03, 27.96, 41.5, 42.55, 40.77, 40.46, 46.59, 45.53, 42.75, 45.04, 41.24, 41.69, 39.33, 35.19, 40.81, 41.54], \"locationmode\": \"USA-states\", \"lon\": [-117.83, -93.32, -93.27, -85.68, -74.04, -122.87, -71.41, -95.28, -117.11, -83.06, -79.91, -105.22, -149.84, -117.91, -118.15, -76.24, -93.34, -121.31, -73.84, -82.51, -81.5, -83.2, -80.32, -79.91, -112.04, -122.69, -74.86, -93.2, -77.05, -87.61, -82.1, -80.88, -96.7, -87.68], \"marker\": {\"color\": \"rgb(241,105,19)\", \"line\": {\"color\": \"rgb(40,40,40)\", \"width\": 0.5}, \"opacity\": 0.8, \"size\": 8}, \"name\": \"4 - 5\", \"text\": [\"Baker City<br>Review score: 4.25<br># reviews: 36.0\", \"Brooklyn Ctr<br>Review score: 4.22<br># reviews: 6212.0\", \"Minneapolis<br>Review score: 4.21<br># reviews: 8971.0\", \"Grand Rapids<br>Review score: 4.18<br># reviews: 20101.0\", \"Atlantic Highlands<br>Review score: 4.15<br># reviews: 14.0\", \"Healdsburg<br>Review score: 4.15<br># reviews: 7816.0\", \"Framingham<br>Review score: 4.15<br># reviews: 59.0\", \"Lawrence<br>Review score: 4.14<br># reviews: 121.0\", \"San Diego<br>Review score: 4.12<br># reviews: 24634.0\", \"Detroit<br>Review score: 4.12<br># reviews: 21384.0\", \"Daleville<br>Review score: 4.11<br># reviews: 4952.0\", \"Golden<br>Review score: 4.11<br># reviews: 35.0\", \"Anchorage<br>Review score: 4.11<br># reviews: 425.0\", \"Anaheim<br>Review score: 4.1<br># reviews: 5086.0\", \"Long Beach<br>Review score: 4.1<br># reviews: 5100.0\", \"Berwick<br>Review score: 4.08<br># reviews: 62.0\", \"St Louis Park<br>Review score: 4.08<br># reviews: 79.0\", \"Bend<br>Review score: 4.08<br># reviews: 11502.0\", \"Elmsford<br>Review score: 4.06<br># reviews: 2696.0\", \"Tampa<br>Review score: 4.06<br># reviews: 6435.0\", \"Cleveland<br>Review score: 4.05<br># reviews: 21965.0\", \"Birmingham<br>Review score: 4.05<br># reviews: 359.0\", \"Beaver Falls<br>Review score: 4.04<br># reviews: 48.0\", \"Pittsburgh<br>Review score: 4.04<br># reviews: 948.0\", \"Helena<br>Review score: 4.04<br># reviews: 35.0\", \"Portland<br>Review score: 4.04<br># reviews: 8636.0\", \"Cooperstown<br>Review score: 4.03<br># reviews: 9899.0\", \"New Brighton<br>Review score: 4.03<br># reviews: 231.0\", \"Williamsport<br>Review score: 4.03<br># reviews: 900.0\", \"Chicago<br>Review score: 4.02<br># reviews: 19511.0\", \"Athens<br>Review score: 4.02<br># reviews: 1297.0\", \"Charlotte<br>Review score: 4.01<br># reviews: 142.0\", \"Lincoln<br>Review score: 4.01<br># reviews: 5405.0\", \"Flossmoor<br>Review score: 4.0<br># reviews: 1568.0\"], \"type\": \"scattergeo\"}],\n",
       "                        {\"annotations\": [{\"font\": {\"size\": 16}, \"showarrow\": false, \"text\": \"Average Beer Rating by State<br>(Hover for more info)\", \"x\": 0.5, \"xanchor\": \"center\", \"xref\": \"paper\", \"y\": 1.0, \"yanchor\": \"bottom\", \"yref\": \"paper\"}], \"geo\": {\"domain\": {\"x\": [0.0, 1.0], \"y\": [0.55, 1.0]}, \"lakecolor\": \"rgb(255, 255, 255)\", \"projection\": {\"type\": \"albers usa\"}, \"scope\": \"usa\", \"showlakes\": true}, \"geo2\": {\"domain\": {\"x\": [0.0, 1.0], \"y\": [0.0, 0.45]}}, \"template\": {\"data\": {\"bar\": [{\"error_x\": {\"color\": \"#2a3f5f\"}, \"error_y\": {\"color\": \"#2a3f5f\"}, \"marker\": {\"line\": {\"color\": \"#E5ECF6\", \"width\": 0.5}}, \"type\": \"bar\"}], \"barpolar\": [{\"marker\": {\"line\": {\"color\": \"#E5ECF6\", \"width\": 0.5}}, \"type\": \"barpolar\"}], \"carpet\": [{\"aaxis\": {\"endlinecolor\": \"#2a3f5f\", \"gridcolor\": \"white\", \"linecolor\": \"white\", \"minorgridcolor\": \"white\", \"startlinecolor\": \"#2a3f5f\"}, \"baxis\": {\"endlinecolor\": \"#2a3f5f\", \"gridcolor\": \"white\", \"linecolor\": \"white\", \"minorgridcolor\": \"white\", \"startlinecolor\": \"#2a3f5f\"}, \"type\": \"carpet\"}], \"choropleth\": [{\"colorbar\": {\"outlinewidth\": 0, \"ticks\": \"\"}, \"type\": \"choropleth\"}], \"contour\": [{\"colorbar\": {\"outlinewidth\": 0, \"ticks\": \"\"}, \"colorscale\": [[0.0, \"#0d0887\"], [0.1111111111111111, \"#46039f\"], [0.2222222222222222, \"#7201a8\"], [0.3333333333333333, \"#9c179e\"], [0.4444444444444444, \"#bd3786\"], [0.5555555555555556, \"#d8576b\"], [0.6666666666666666, \"#ed7953\"], [0.7777777777777778, \"#fb9f3a\"], [0.8888888888888888, \"#fdca26\"], [1.0, \"#f0f921\"]], \"type\": \"contour\"}], \"contourcarpet\": [{\"colorbar\": {\"outlinewidth\": 0, \"ticks\": \"\"}, \"type\": \"contourcarpet\"}], \"heatmap\": [{\"colorbar\": {\"outlinewidth\": 0, \"ticks\": \"\"}, \"colorscale\": [[0.0, \"#0d0887\"], [0.1111111111111111, \"#46039f\"], [0.2222222222222222, \"#7201a8\"], [0.3333333333333333, \"#9c179e\"], [0.4444444444444444, \"#bd3786\"], [0.5555555555555556, \"#d8576b\"], [0.6666666666666666, \"#ed7953\"], [0.7777777777777778, \"#fb9f3a\"], [0.8888888888888888, \"#fdca26\"], [1.0, \"#f0f921\"]], \"type\": \"heatmap\"}], \"heatmapgl\": [{\"colorbar\": {\"outlinewidth\": 0, \"ticks\": \"\"}, \"colorscale\": [[0.0, \"#0d0887\"], [0.1111111111111111, \"#46039f\"], [0.2222222222222222, \"#7201a8\"], [0.3333333333333333, \"#9c179e\"], [0.4444444444444444, \"#bd3786\"], [0.5555555555555556, \"#d8576b\"], [0.6666666666666666, \"#ed7953\"], [0.7777777777777778, \"#fb9f3a\"], [0.8888888888888888, \"#fdca26\"], [1.0, \"#f0f921\"]], \"type\": \"heatmapgl\"}], \"histogram\": [{\"marker\": {\"colorbar\": {\"outlinewidth\": 0, \"ticks\": \"\"}}, \"type\": \"histogram\"}], \"histogram2d\": [{\"colorbar\": {\"outlinewidth\": 0, \"ticks\": \"\"}, \"colorscale\": [[0.0, \"#0d0887\"], [0.1111111111111111, \"#46039f\"], [0.2222222222222222, \"#7201a8\"], [0.3333333333333333, \"#9c179e\"], [0.4444444444444444, \"#bd3786\"], [0.5555555555555556, \"#d8576b\"], [0.6666666666666666, \"#ed7953\"], [0.7777777777777778, \"#fb9f3a\"], [0.8888888888888888, \"#fdca26\"], [1.0, \"#f0f921\"]], \"type\": \"histogram2d\"}], \"histogram2dcontour\": [{\"colorbar\": {\"outlinewidth\": 0, \"ticks\": \"\"}, \"colorscale\": [[0.0, \"#0d0887\"], [0.1111111111111111, \"#46039f\"], [0.2222222222222222, \"#7201a8\"], [0.3333333333333333, \"#9c179e\"], [0.4444444444444444, \"#bd3786\"], [0.5555555555555556, \"#d8576b\"], [0.6666666666666666, \"#ed7953\"], [0.7777777777777778, \"#fb9f3a\"], [0.8888888888888888, \"#fdca26\"], [1.0, \"#f0f921\"]], \"type\": \"histogram2dcontour\"}], \"mesh3d\": [{\"colorbar\": {\"outlinewidth\": 0, \"ticks\": \"\"}, \"type\": \"mesh3d\"}], \"parcoords\": [{\"line\": {\"colorbar\": {\"outlinewidth\": 0, \"ticks\": \"\"}}, \"type\": \"parcoords\"}], \"pie\": [{\"automargin\": true, \"type\": \"pie\"}], \"scatter\": [{\"marker\": {\"colorbar\": {\"outlinewidth\": 0, \"ticks\": \"\"}}, \"type\": \"scatter\"}], \"scatter3d\": [{\"line\": {\"colorbar\": {\"outlinewidth\": 0, \"ticks\": \"\"}}, \"marker\": {\"colorbar\": {\"outlinewidth\": 0, \"ticks\": \"\"}}, \"type\": \"scatter3d\"}], \"scattercarpet\": [{\"marker\": {\"colorbar\": {\"outlinewidth\": 0, \"ticks\": \"\"}}, \"type\": \"scattercarpet\"}], \"scattergeo\": [{\"marker\": {\"colorbar\": {\"outlinewidth\": 0, \"ticks\": \"\"}}, \"type\": \"scattergeo\"}], \"scattergl\": [{\"marker\": {\"colorbar\": {\"outlinewidth\": 0, \"ticks\": \"\"}}, \"type\": \"scattergl\"}], \"scattermapbox\": [{\"marker\": {\"colorbar\": {\"outlinewidth\": 0, \"ticks\": \"\"}}, \"type\": \"scattermapbox\"}], \"scatterpolar\": [{\"marker\": {\"colorbar\": {\"outlinewidth\": 0, \"ticks\": \"\"}}, \"type\": \"scatterpolar\"}], \"scatterpolargl\": [{\"marker\": {\"colorbar\": {\"outlinewidth\": 0, \"ticks\": \"\"}}, \"type\": \"scatterpolargl\"}], \"scatterternary\": [{\"marker\": {\"colorbar\": {\"outlinewidth\": 0, \"ticks\": \"\"}}, \"type\": \"scatterternary\"}], \"surface\": [{\"colorbar\": {\"outlinewidth\": 0, \"ticks\": \"\"}, \"colorscale\": [[0.0, \"#0d0887\"], [0.1111111111111111, \"#46039f\"], [0.2222222222222222, \"#7201a8\"], [0.3333333333333333, \"#9c179e\"], [0.4444444444444444, \"#bd3786\"], [0.5555555555555556, \"#d8576b\"], [0.6666666666666666, \"#ed7953\"], [0.7777777777777778, \"#fb9f3a\"], [0.8888888888888888, \"#fdca26\"], [1.0, \"#f0f921\"]], \"type\": \"surface\"}], \"table\": [{\"cells\": {\"fill\": {\"color\": \"#EBF0F8\"}, \"line\": {\"color\": \"white\"}}, \"header\": {\"fill\": {\"color\": \"#C8D4E3\"}, \"line\": {\"color\": \"white\"}}, \"type\": \"table\"}]}, \"layout\": {\"annotationdefaults\": {\"arrowcolor\": \"#2a3f5f\", \"arrowhead\": 0, \"arrowwidth\": 1}, \"coloraxis\": {\"colorbar\": {\"outlinewidth\": 0, \"ticks\": \"\"}}, \"colorscale\": {\"diverging\": [[0, \"#8e0152\"], [0.1, \"#c51b7d\"], [0.2, \"#de77ae\"], [0.3, \"#f1b6da\"], [0.4, \"#fde0ef\"], [0.5, \"#f7f7f7\"], [0.6, \"#e6f5d0\"], [0.7, \"#b8e186\"], [0.8, \"#7fbc41\"], [0.9, \"#4d9221\"], [1, \"#276419\"]], \"sequential\": [[0.0, \"#0d0887\"], [0.1111111111111111, \"#46039f\"], [0.2222222222222222, \"#7201a8\"], [0.3333333333333333, \"#9c179e\"], [0.4444444444444444, \"#bd3786\"], [0.5555555555555556, \"#d8576b\"], [0.6666666666666666, \"#ed7953\"], [0.7777777777777778, \"#fb9f3a\"], [0.8888888888888888, \"#fdca26\"], [1.0, \"#f0f921\"]], \"sequentialminus\": [[0.0, \"#0d0887\"], [0.1111111111111111, \"#46039f\"], [0.2222222222222222, \"#7201a8\"], [0.3333333333333333, \"#9c179e\"], [0.4444444444444444, \"#bd3786\"], [0.5555555555555556, \"#d8576b\"], [0.6666666666666666, \"#ed7953\"], [0.7777777777777778, \"#fb9f3a\"], [0.8888888888888888, \"#fdca26\"], [1.0, \"#f0f921\"]]}, \"colorway\": [\"#636efa\", \"#EF553B\", \"#00cc96\", \"#ab63fa\", \"#FFA15A\", \"#19d3f3\", \"#FF6692\", \"#B6E880\", \"#FF97FF\", \"#FECB52\"], \"font\": {\"color\": \"#2a3f5f\"}, \"geo\": {\"bgcolor\": \"white\", \"lakecolor\": \"white\", \"landcolor\": \"#E5ECF6\", \"showlakes\": true, \"showland\": true, \"subunitcolor\": \"white\"}, \"hoverlabel\": {\"align\": \"left\"}, \"hovermode\": \"closest\", \"mapbox\": {\"style\": \"light\"}, \"paper_bgcolor\": \"white\", \"plot_bgcolor\": \"#E5ECF6\", \"polar\": {\"angularaxis\": {\"gridcolor\": \"white\", \"linecolor\": \"white\", \"ticks\": \"\"}, \"bgcolor\": \"#E5ECF6\", \"radialaxis\": {\"gridcolor\": \"white\", \"linecolor\": \"white\", \"ticks\": \"\"}}, \"scene\": {\"xaxis\": {\"backgroundcolor\": \"#E5ECF6\", \"gridcolor\": \"white\", \"gridwidth\": 2, \"linecolor\": \"white\", \"showbackground\": true, \"ticks\": \"\", \"zerolinecolor\": \"white\"}, \"yaxis\": {\"backgroundcolor\": \"#E5ECF6\", \"gridcolor\": \"white\", \"gridwidth\": 2, \"linecolor\": \"white\", \"showbackground\": true, \"ticks\": \"\", \"zerolinecolor\": \"white\"}, \"zaxis\": {\"backgroundcolor\": \"#E5ECF6\", \"gridcolor\": \"white\", \"gridwidth\": 2, \"linecolor\": \"white\", \"showbackground\": true, \"ticks\": \"\", \"zerolinecolor\": \"white\"}}, \"shapedefaults\": {\"line\": {\"color\": \"#2a3f5f\"}}, \"ternary\": {\"aaxis\": {\"gridcolor\": \"white\", \"linecolor\": \"white\", \"ticks\": \"\"}, \"baxis\": {\"gridcolor\": \"white\", \"linecolor\": \"white\", \"ticks\": \"\"}, \"bgcolor\": \"#E5ECF6\", \"caxis\": {\"gridcolor\": \"white\", \"linecolor\": \"white\", \"ticks\": \"\"}}, \"title\": {\"x\": 0.05}, \"xaxis\": {\"automargin\": true, \"gridcolor\": \"white\", \"linecolor\": \"white\", \"ticks\": \"\", \"title\": {\"standoff\": 15}, \"zerolinecolor\": \"white\", \"zerolinewidth\": 2}, \"yaxis\": {\"automargin\": true, \"gridcolor\": \"white\", \"linecolor\": \"white\", \"ticks\": \"\", \"title\": {\"standoff\": 15}, \"zerolinecolor\": \"white\", \"zerolinewidth\": 2}}}},\n",
       "                        {\"responsive\": true}\n",
       "                    ).then(function(){\n",
       "                            \n",
       "var gd = document.getElementById('519a6b89-45b2-44f1-83d5-e97dfc938f9f');\n",
       "var x = new MutationObserver(function (mutations, observer) {{\n",
       "        var display = window.getComputedStyle(gd).display;\n",
       "        if (!display || display === 'none') {{\n",
       "            console.log([gd, 'removed!']);\n",
       "            Plotly.purge(gd);\n",
       "            observer.disconnect();\n",
       "        }}\n",
       "}});\n",
       "\n",
       "// Listen for the removal of the full notebook cells\n",
       "var notebookContainer = gd.closest('#notebook-container');\n",
       "if (notebookContainer) {{\n",
       "    x.observe(notebookContainer, {childList: true});\n",
       "}}\n",
       "\n",
       "// Listen for the clearing of the current output cell\n",
       "var outputEl = gd.closest('.output');\n",
       "if (outputEl) {{\n",
       "    x.observe(outputEl, {childList: true});\n",
       "}}\n",
       "\n",
       "                        })\n",
       "                };\n",
       "                });\n",
       "            </script>\n",
       "        </div>"
      ]
     },
     "metadata": {},
     "output_type": "display_data"
    }
   ],
   "source": [
    "fig = make_subplots(\n",
    "    rows=2, cols=1,\n",
    "    specs=[[{'type':'choropleth'}], [{'type':'scattergeo'}]],\n",
    "    subplot_titles=['Average Beer Rating by State<br>(Hover for more info)'],\n",
    "    vertical_spacing=0.1)\n",
    "\n",
    "# states\n",
    "fig.add_trace(go.Choropleth(\n",
    "    locations = top_states['state_code'],\n",
    "    z = top_states['mean'],\n",
    "    locationmode = 'USA-states',\n",
    "    text = top_states['state']+'<br>'+'# reviews: '+ top_states['count'].astype(str),\n",
    "    colorscale = 'Blues',\n",
    "    colorbar_title = 'Average<br>Review<br>Score',\n",
    "    colorbar = {'ticks':'outside'}\n",
    "), row=1, col=1)\n",
    "\n",
    "# cities\n",
    "limits = [1,2,3,4]\n",
    "colors = ['lightcyan', 'rgb(59,59,59)', 'cornflowerblue', 'rgb(241,105,19)']\n",
    "\n",
    "# trace for dummy data, used to populate a 1-2 marker in the legend. \n",
    "df_1_2 = top_cities.query(\"city == 'Dummy row'\")    \n",
    "fig.add_trace(go.Scattergeo(\n",
    "    name = '1 - 2',\n",
    "    visible = 'legendonly',\n",
    "    showlegend = True,\n",
    "    lon = df_1_2['longitude'],\n",
    "    lat = df_1_2['latitude'],\n",
    "    marker = dict(\n",
    "        color = 'lightgrey',\n",
    "        line_color = 'rgb(40,40,40)',\n",
    "        line_width = 0.5,\n",
    "        size = 8)), row=2, col=1)\n",
    "\n",
    "# city review data\n",
    "for i in range(len(limits)):\n",
    "    df_sub = top_cities[top_cities['mean'].between(i+1, i+2)]\n",
    "    fig.add_trace(go.Scattergeo(\n",
    "        locationmode = 'USA-states',\n",
    "        lon = df_sub['longitude'],\n",
    "        lat = df_sub['latitude'],\n",
    "        text = df_sub['city']+'<br>'+'Review score: '+df_sub['mean'].astype(str)+'<br>'+'# reviews: '+df_sub['count'].astype(str),\n",
    "        name = f'{i+1} - {i+2}',\n",
    "        marker = dict(\n",
    "            color = colors[i],\n",
    "            opacity = 0.8,\n",
    "            size = 8,\n",
    "            line_color = 'rgb(40,40,40)',\n",
    "            line_width = 0.5)), row=2, col=1)\n",
    "\n",
    "fig.update_layout(\n",
    "    geo = dict(\n",
    "        scope = 'usa'\n",
    "        projection = go.layout.geo.Projection(type = 'albers usa'),\n",
    "        showlakes=True,\n",
    "        lakecolor='rgb(255, 255, 255)',\n",
    "        **{'geo2_scope': 'usa' + np.arange(2,rows*cols+1).tolist()})\n",
    ")\n",
    "\n",
    "# fig.update_layout(\n",
    "#         title = dict(\n",
    "#             text = 'Average Beer Rating by City<br>(Click on legend to toggle ratings)',\n",
    "#             xanchor = 'center',\n",
    "#             x = 0.5),\n",
    "#         showlegend = True,\n",
    "#         legend = dict(\n",
    "#             title = 'Review Score',\n",
    "#             x = 0.92,\n",
    "#             y = 0.52),\n",
    "#         geo = dict(\n",
    "#             scope = 'usa',\n",
    "#             landcolor = 'rgb(217,217,217)'))"
   ]
  },
  {
   "cell_type": "code",
   "execution_count": null,
   "metadata": {},
   "outputs": [],
   "source": []
  },
  {
   "cell_type": "code",
   "execution_count": null,
   "metadata": {},
   "outputs": [],
   "source": []
  },
  {
   "cell_type": "code",
   "execution_count": null,
   "metadata": {},
   "outputs": [],
   "source": []
  },
  {
   "cell_type": "code",
   "execution_count": null,
   "metadata": {},
   "outputs": [],
   "source": []
  },
  {
   "cell_type": "code",
   "execution_count": null,
   "metadata": {},
   "outputs": [],
   "source": []
  },
  {
   "cell_type": "code",
   "execution_count": null,
   "metadata": {},
   "outputs": [],
   "source": []
  },
  {
   "cell_type": "code",
   "execution_count": null,
   "metadata": {},
   "outputs": [],
   "source": []
  },
  {
   "cell_type": "code",
   "execution_count": null,
   "metadata": {},
   "outputs": [],
   "source": []
  }
 ],
 "metadata": {
  "kernelspec": {
   "display_name": "Python [conda env:root] *",
   "language": "python",
   "name": "conda-root-py"
  },
  "language_info": {
   "codemirror_mode": {
    "name": "ipython",
    "version": 3
   },
   "file_extension": ".py",
   "mimetype": "text/x-python",
   "name": "python",
   "nbconvert_exporter": "python",
   "pygments_lexer": "ipython3",
   "version": "3.7.7"
  }
 },
 "nbformat": 4,
 "nbformat_minor": 4
}
