{
 "cells": [
  {
   "cell_type": "code",
   "execution_count": 195,
   "metadata": {},
   "outputs": [],
   "source": [
    "import numpy as np\n",
    "import pandas as pd\n",
    "import matplotlib.pyplot as plt\n",
    "import seaborn as sns\n",
    "import ipywidgets as widgets\n",
    "\n",
    "%matplotlib inline"
   ]
  },
  {
   "cell_type": "code",
   "execution_count": 266,
   "metadata": {
    "scrolled": true
   },
   "outputs": [
    {
     "data": {
      "text/html": [
       "<div>\n",
       "<style scoped>\n",
       "    .dataframe tbody tr th:only-of-type {\n",
       "        vertical-align: middle;\n",
       "    }\n",
       "\n",
       "    .dataframe tbody tr th {\n",
       "        vertical-align: top;\n",
       "    }\n",
       "\n",
       "    .dataframe thead th {\n",
       "        text-align: right;\n",
       "    }\n",
       "</style>\n",
       "<table border=\"1\" class=\"dataframe\">\n",
       "  <thead>\n",
       "    <tr style=\"text-align: right;\">\n",
       "      <th></th>\n",
       "      <th>beer_id</th>\n",
       "      <th>beer_name</th>\n",
       "      <th>beer_style</th>\n",
       "      <th>beer_abv</th>\n",
       "      <th>weighted_review</th>\n",
       "      <th>review_overall</th>\n",
       "      <th>review_aroma</th>\n",
       "      <th>review_appearance</th>\n",
       "      <th>review_palate</th>\n",
       "      <th>review_taste</th>\n",
       "      <th>review_profilename</th>\n",
       "      <th>brewery_name</th>\n",
       "      <th>brewery_type</th>\n",
       "      <th>city</th>\n",
       "      <th>state</th>\n",
       "      <th>longitude</th>\n",
       "      <th>latitude</th>\n",
       "    </tr>\n",
       "  </thead>\n",
       "  <tbody>\n",
       "    <tr>\n",
       "      <th>0</th>\n",
       "      <td>64883</td>\n",
       "      <td>Cauldron DIPA</td>\n",
       "      <td>American Double / Imperial IPA</td>\n",
       "      <td>7.7</td>\n",
       "      <td>4.32</td>\n",
       "      <td>4.0</td>\n",
       "      <td>4.5</td>\n",
       "      <td>4.0</td>\n",
       "      <td>4.0</td>\n",
       "      <td>4.5</td>\n",
       "      <td>johnmichaelsen</td>\n",
       "      <td>Caldera Brewing Company</td>\n",
       "      <td>micro</td>\n",
       "      <td>Ashland</td>\n",
       "      <td>Oregon</td>\n",
       "      <td>-122.663374</td>\n",
       "      <td>42.183738</td>\n",
       "    </tr>\n",
       "    <tr>\n",
       "      <th>1</th>\n",
       "      <td>52159</td>\n",
       "      <td>Caldera Ginger Beer</td>\n",
       "      <td>Herbed / Spiced Beer</td>\n",
       "      <td>4.7</td>\n",
       "      <td>3.35</td>\n",
       "      <td>3.0</td>\n",
       "      <td>3.5</td>\n",
       "      <td>3.5</td>\n",
       "      <td>3.0</td>\n",
       "      <td>3.5</td>\n",
       "      <td>oline73</td>\n",
       "      <td>Caldera Brewing Company</td>\n",
       "      <td>micro</td>\n",
       "      <td>Ashland</td>\n",
       "      <td>Oregon</td>\n",
       "      <td>-122.663374</td>\n",
       "      <td>42.183738</td>\n",
       "    </tr>\n",
       "    <tr>\n",
       "      <th>2</th>\n",
       "      <td>52159</td>\n",
       "      <td>Caldera Ginger Beer</td>\n",
       "      <td>Herbed / Spiced Beer</td>\n",
       "      <td>4.7</td>\n",
       "      <td>3.75</td>\n",
       "      <td>3.5</td>\n",
       "      <td>3.5</td>\n",
       "      <td>3.5</td>\n",
       "      <td>4.0</td>\n",
       "      <td>4.0</td>\n",
       "      <td>Reidrover</td>\n",
       "      <td>Caldera Brewing Company</td>\n",
       "      <td>micro</td>\n",
       "      <td>Ashland</td>\n",
       "      <td>Oregon</td>\n",
       "      <td>-122.663374</td>\n",
       "      <td>42.183738</td>\n",
       "    </tr>\n",
       "    <tr>\n",
       "      <th>3</th>\n",
       "      <td>52159</td>\n",
       "      <td>Caldera Ginger Beer</td>\n",
       "      <td>Herbed / Spiced Beer</td>\n",
       "      <td>4.7</td>\n",
       "      <td>3.01</td>\n",
       "      <td>3.0</td>\n",
       "      <td>2.5</td>\n",
       "      <td>3.5</td>\n",
       "      <td>2.0</td>\n",
       "      <td>3.5</td>\n",
       "      <td>alpinebryant</td>\n",
       "      <td>Caldera Brewing Company</td>\n",
       "      <td>micro</td>\n",
       "      <td>Ashland</td>\n",
       "      <td>Oregon</td>\n",
       "      <td>-122.663374</td>\n",
       "      <td>42.183738</td>\n",
       "    </tr>\n",
       "    <tr>\n",
       "      <th>4</th>\n",
       "      <td>52159</td>\n",
       "      <td>Caldera Ginger Beer</td>\n",
       "      <td>Herbed / Spiced Beer</td>\n",
       "      <td>4.7</td>\n",
       "      <td>3.68</td>\n",
       "      <td>4.0</td>\n",
       "      <td>3.0</td>\n",
       "      <td>3.5</td>\n",
       "      <td>3.5</td>\n",
       "      <td>4.0</td>\n",
       "      <td>LordAdmNelson</td>\n",
       "      <td>Caldera Brewing Company</td>\n",
       "      <td>micro</td>\n",
       "      <td>Ashland</td>\n",
       "      <td>Oregon</td>\n",
       "      <td>-122.663374</td>\n",
       "      <td>42.183738</td>\n",
       "    </tr>\n",
       "    <tr>\n",
       "      <th>...</th>\n",
       "      <td>...</td>\n",
       "      <td>...</td>\n",
       "      <td>...</td>\n",
       "      <td>...</td>\n",
       "      <td>...</td>\n",
       "      <td>...</td>\n",
       "      <td>...</td>\n",
       "      <td>...</td>\n",
       "      <td>...</td>\n",
       "      <td>...</td>\n",
       "      <td>...</td>\n",
       "      <td>...</td>\n",
       "      <td>...</td>\n",
       "      <td>...</td>\n",
       "      <td>...</td>\n",
       "      <td>...</td>\n",
       "      <td>...</td>\n",
       "    </tr>\n",
       "    <tr>\n",
       "      <th>563512</th>\n",
       "      <td>58076</td>\n",
       "      <td>Amber Wave</td>\n",
       "      <td>American Amber / Red Ale</td>\n",
       "      <td>5.4</td>\n",
       "      <td>3.46</td>\n",
       "      <td>3.5</td>\n",
       "      <td>3.0</td>\n",
       "      <td>4.0</td>\n",
       "      <td>4.0</td>\n",
       "      <td>3.5</td>\n",
       "      <td>DoubleJ</td>\n",
       "      <td>Pacific Beach Ale House</td>\n",
       "      <td>brewpub</td>\n",
       "      <td>San Diego</td>\n",
       "      <td>California</td>\n",
       "      <td>-117.255265</td>\n",
       "      <td>32.794255</td>\n",
       "    </tr>\n",
       "    <tr>\n",
       "      <th>563513</th>\n",
       "      <td>58078</td>\n",
       "      <td>Shipwrecked Stout</td>\n",
       "      <td>American Stout</td>\n",
       "      <td>6.5</td>\n",
       "      <td>3.31</td>\n",
       "      <td>3.0</td>\n",
       "      <td>3.0</td>\n",
       "      <td>4.0</td>\n",
       "      <td>3.5</td>\n",
       "      <td>3.5</td>\n",
       "      <td>glid02</td>\n",
       "      <td>Pacific Beach Ale House</td>\n",
       "      <td>brewpub</td>\n",
       "      <td>San Diego</td>\n",
       "      <td>California</td>\n",
       "      <td>-117.255265</td>\n",
       "      <td>32.794255</td>\n",
       "    </tr>\n",
       "    <tr>\n",
       "      <th>563514</th>\n",
       "      <td>58078</td>\n",
       "      <td>Shipwrecked Stout</td>\n",
       "      <td>American Stout</td>\n",
       "      <td>6.5</td>\n",
       "      <td>3.75</td>\n",
       "      <td>3.5</td>\n",
       "      <td>3.5</td>\n",
       "      <td>3.5</td>\n",
       "      <td>4.0</td>\n",
       "      <td>4.0</td>\n",
       "      <td>DoubleJ</td>\n",
       "      <td>Pacific Beach Ale House</td>\n",
       "      <td>brewpub</td>\n",
       "      <td>San Diego</td>\n",
       "      <td>California</td>\n",
       "      <td>-117.255265</td>\n",
       "      <td>32.794255</td>\n",
       "    </tr>\n",
       "    <tr>\n",
       "      <th>563515</th>\n",
       "      <td>58385</td>\n",
       "      <td>Belgian Blonde Anniversary Ale</td>\n",
       "      <td>Belgian Pale Ale</td>\n",
       "      <td>6.5</td>\n",
       "      <td>3.63</td>\n",
       "      <td>4.0</td>\n",
       "      <td>3.5</td>\n",
       "      <td>4.0</td>\n",
       "      <td>3.5</td>\n",
       "      <td>3.5</td>\n",
       "      <td>glid02</td>\n",
       "      <td>Pacific Beach Ale House</td>\n",
       "      <td>brewpub</td>\n",
       "      <td>San Diego</td>\n",
       "      <td>California</td>\n",
       "      <td>-117.255265</td>\n",
       "      <td>32.794255</td>\n",
       "    </tr>\n",
       "    <tr>\n",
       "      <th>563516</th>\n",
       "      <td>69416</td>\n",
       "      <td>Belgian Dubbel</td>\n",
       "      <td>Dubbel</td>\n",
       "      <td>6.0</td>\n",
       "      <td>3.27</td>\n",
       "      <td>3.0</td>\n",
       "      <td>3.5</td>\n",
       "      <td>3.0</td>\n",
       "      <td>2.5</td>\n",
       "      <td>3.5</td>\n",
       "      <td>mactrail</td>\n",
       "      <td>Pacific Beach Ale House</td>\n",
       "      <td>brewpub</td>\n",
       "      <td>San Diego</td>\n",
       "      <td>California</td>\n",
       "      <td>-117.255265</td>\n",
       "      <td>32.794255</td>\n",
       "    </tr>\n",
       "  </tbody>\n",
       "</table>\n",
       "<p>563517 rows × 17 columns</p>\n",
       "</div>"
      ],
      "text/plain": [
       "        beer_id                       beer_name  \\\n",
       "0         64883                   Cauldron DIPA   \n",
       "1         52159             Caldera Ginger Beer   \n",
       "2         52159             Caldera Ginger Beer   \n",
       "3         52159             Caldera Ginger Beer   \n",
       "4         52159             Caldera Ginger Beer   \n",
       "...         ...                             ...   \n",
       "563512    58076                      Amber Wave   \n",
       "563513    58078               Shipwrecked Stout   \n",
       "563514    58078               Shipwrecked Stout   \n",
       "563515    58385  Belgian Blonde Anniversary Ale   \n",
       "563516    69416                  Belgian Dubbel   \n",
       "\n",
       "                            beer_style  beer_abv  weighted_review  \\\n",
       "0       American Double / Imperial IPA       7.7             4.32   \n",
       "1                 Herbed / Spiced Beer       4.7             3.35   \n",
       "2                 Herbed / Spiced Beer       4.7             3.75   \n",
       "3                 Herbed / Spiced Beer       4.7             3.01   \n",
       "4                 Herbed / Spiced Beer       4.7             3.68   \n",
       "...                                ...       ...              ...   \n",
       "563512        American Amber / Red Ale       5.4             3.46   \n",
       "563513                  American Stout       6.5             3.31   \n",
       "563514                  American Stout       6.5             3.75   \n",
       "563515                Belgian Pale Ale       6.5             3.63   \n",
       "563516                          Dubbel       6.0             3.27   \n",
       "\n",
       "        review_overall  review_aroma  review_appearance  review_palate  \\\n",
       "0                  4.0           4.5                4.0            4.0   \n",
       "1                  3.0           3.5                3.5            3.0   \n",
       "2                  3.5           3.5                3.5            4.0   \n",
       "3                  3.0           2.5                3.5            2.0   \n",
       "4                  4.0           3.0                3.5            3.5   \n",
       "...                ...           ...                ...            ...   \n",
       "563512             3.5           3.0                4.0            4.0   \n",
       "563513             3.0           3.0                4.0            3.5   \n",
       "563514             3.5           3.5                3.5            4.0   \n",
       "563515             4.0           3.5                4.0            3.5   \n",
       "563516             3.0           3.5                3.0            2.5   \n",
       "\n",
       "        review_taste review_profilename             brewery_name brewery_type  \\\n",
       "0                4.5     johnmichaelsen  Caldera Brewing Company        micro   \n",
       "1                3.5            oline73  Caldera Brewing Company        micro   \n",
       "2                4.0          Reidrover  Caldera Brewing Company        micro   \n",
       "3                3.5       alpinebryant  Caldera Brewing Company        micro   \n",
       "4                4.0      LordAdmNelson  Caldera Brewing Company        micro   \n",
       "...              ...                ...                      ...          ...   \n",
       "563512           3.5            DoubleJ  Pacific Beach Ale House      brewpub   \n",
       "563513           3.5             glid02  Pacific Beach Ale House      brewpub   \n",
       "563514           4.0            DoubleJ  Pacific Beach Ale House      brewpub   \n",
       "563515           3.5             glid02  Pacific Beach Ale House      brewpub   \n",
       "563516           3.5           mactrail  Pacific Beach Ale House      brewpub   \n",
       "\n",
       "             city       state   longitude   latitude  \n",
       "0         Ashland      Oregon -122.663374  42.183738  \n",
       "1         Ashland      Oregon -122.663374  42.183738  \n",
       "2         Ashland      Oregon -122.663374  42.183738  \n",
       "3         Ashland      Oregon -122.663374  42.183738  \n",
       "4         Ashland      Oregon -122.663374  42.183738  \n",
       "...           ...         ...         ...        ...  \n",
       "563512  San Diego  California -117.255265  32.794255  \n",
       "563513  San Diego  California -117.255265  32.794255  \n",
       "563514  San Diego  California -117.255265  32.794255  \n",
       "563515  San Diego  California -117.255265  32.794255  \n",
       "563516  San Diego  California -117.255265  32.794255  \n",
       "\n",
       "[563517 rows x 17 columns]"
      ]
     },
     "execution_count": 266,
     "metadata": {},
     "output_type": "execute_result"
    }
   ],
   "source": [
    "beer_df_clean = pd.read_csv('export_csv/beer_df_clean.csv')\n",
    "beer_df_clean"
   ]
  },
  {
   "cell_type": "markdown",
   "metadata": {},
   "source": [
    "### Rankings"
   ]
  },
  {
   "cell_type": "code",
   "execution_count": 94,
   "metadata": {
    "scrolled": false
   },
   "outputs": [
    {
     "data": {
      "application/vnd.jupyter.widget-view+json": {
       "model_id": "8201441263eb497aa90a03307ee65cf1",
       "version_major": 2,
       "version_minor": 0
      },
      "text/plain": [
       "interactive(children=(Dropdown(description='category', options={'Top Rated Beer': 'beer_name', 'Top Rated Beer…"
      ]
     },
     "metadata": {},
     "output_type": "display_data"
    },
    {
     "data": {
      "text/plain": [
       "<function __main__.f(category)>"
      ]
     },
     "execution_count": 94,
     "metadata": {},
     "output_type": "execute_result"
    }
   ],
   "source": [
    "def f(category):\n",
    "    plt.figure(figsize=(12,15))\n",
    "    sns.set_theme(style='darkgrid')\n",
    "    if category in ['beer_name', 'beer_style', 'brewery_name', 'brewery_type']:\n",
    "        # filter out reviews with less than 10 reviews \n",
    "        df_filter = beer_df_clean[category].value_counts()\n",
    "        df_filter = df_filter[df_filter>9].index\n",
    "        top25_df = beer_df_clean[beer_df_clean[category].isin(df_filter)]\n",
    "        # list of top 25\n",
    "        top25_list = top25_df.groupby(category).mean().weighted_review.sort_values(ascending=False).head(25).index\n",
    "        # plot\n",
    "        sns.pointplot(data=top25_df, x='weighted_review', y=category, order=top25_list, capsize=0.2)\n",
    "        plt.grid(True)\n",
    "        plt.xlabel('Average Review Score', fontsize=16, weight='bold', labelpad=20)\n",
    "        plt.yticks(fontsize=12.5)\n",
    "        if category == 'beer_name':     \n",
    "            plt.title('Top 25 Beers by Average Review Score', fontsize=18, weight='bold', pad=20)\n",
    "            plt.ylabel('Beer Name', fofntsize=16, weight='bold', labelpad=10)\n",
    "        elif category == 'beer_style':\n",
    "            plt.title('Top 25 Beer Styles by Average Review Score', fontsize=18, weight='bold', pad=20)\n",
    "            plt.ylabel('Beer Style', fontsize=16, weight='bold', labelpad=10)\n",
    "        elif category == 'brewery_name':\n",
    "            plt.title('Top 25 Breweries by Average Review Score', fontsize=18, weight='bold', pad=20)\n",
    "            plt.ylabel('Brewery Name', fontsize=16, weight='bold', labelpad=10)\n",
    "        elif category == 'brewery_type':\n",
    "            plt.title('Brewery Type by Average Review Score', fontsize=18, weight='bold', pad=20)\n",
    "            plt.ylabel('Brewery Type', fontsize=16, weight='bold', labelpad=10)\n",
    "    elif category == 'state':\n",
    "        # descending order for the plot\n",
    "        top_states = beer_df_clean.groupby('state').weighted_review.mean().sort_values(ascending=False).index\n",
    "        # plot\n",
    "        sns.pointplot(data=beer_df_clean, x='weighted_review', y='state', order=top_states, capsize=0.2)\n",
    "        plt.grid(True)\n",
    "        plt.title('States by Average Review Score', fontsize=18, weight='bold', pad=20)\n",
    "        plt.ylabel('State', fontsize=16, weight='bold', labelpad=10)\n",
    "        plt.xlabel('Average Review Score', fontsize=16, weight='bold', labelpad=20)\n",
    "        plt.yticks(fontsize=12.5)\n",
    "    elif category == 'city':\n",
    "        # filter out cities with less than 10 reviews\n",
    "        city_filter = beer_df_clean.city.value_counts()\n",
    "        city_filter = city_filter[city_filter>9].index\n",
    "        top_cities_df = beer_df_clean[beer_df_clean.city.isin(city_filter)]\n",
    "        # top 25\n",
    "        top25_cities = top_cities_df.groupby('city').mean().weighted_review.sort_values(ascending=False).head(25).index\n",
    "        # plot\n",
    "        sns.pointplot(data=top_cities_df, x='weighted_review', y='city', order=top25_cities, capsize=0.2)\n",
    "        plt.grid(True)\n",
    "        plt.title('Top 25 Cities by Average Review Score', fontsize=18, weight='bold', pad=20)\n",
    "        plt.ylabel('City', fontsize=16, weight='bold', labelpad=10)\n",
    "        plt.xlabel('Average Review Score', fontsize=16, weight='bold', labelpad=20)\n",
    "        plt.yticks(fontsize=12.5)    \n",
    "    ;\n",
    "\n",
    "categories = {\n",
    "    'Top Rated Beer':'beer_name', \n",
    "    'Top Rated Beer Styles':'beer_style',\n",
    "    'Top Rated Breweries':'brewery_name',\n",
    "    'Top Rated Brewery Types':'brewery_type',\n",
    "    'Top Rated States':'state',\n",
    "    'Top Rated Cities':'city'\n",
    "}\n",
    "widgets.interact(f, category=categories)"
   ]
  },
  {
   "cell_type": "markdown",
   "metadata": {},
   "source": [
    "-------"
   ]
  },
  {
   "cell_type": "markdown",
   "metadata": {},
   "source": [
    "### Geospatial Visualizations"
   ]
  },
  {
   "cell_type": "code",
   "execution_count": 267,
   "metadata": {},
   "outputs": [],
   "source": [
    "from plotly.subplots import make_subplots\n",
    "import plotly.graph_objects as go\n",
    "\n",
    "top_states = pd.read_csv('export_csv/state_data.csv')\n",
    "top_cities = pd.read_csv('export_csv/city_data.csv')"
   ]
  },
  {
   "cell_type": "code",
   "execution_count": 268,
   "metadata": {},
   "outputs": [
    {
     "name": "stderr",
     "output_type": "stream",
     "text": [
      "C:\\Users\\mcmco\\anaconda3\\lib\\site-packages\\ipykernel_launcher.py:49: SettingWithCopyWarning:\n",
      "\n",
      "\n",
      "A value is trying to be set on a copy of a slice from a DataFrame.\n",
      "Try using .loc[row_indexer,col_indexer] = value instead\n",
      "\n",
      "See the caveats in the documentation: https://pandas.pydata.org/pandas-docs/stable/user_guide/indexing.html#returning-a-view-versus-a-copy\n",
      "\n"
     ]
    },
    {
     "data": {
      "application/vnd.plotly.v1+json": {
       "config": {
        "plotlyServerURL": "https://plot.ly"
       },
       "data": [
        {
         "colorbar": {
          "len": 0.4,
          "ticks": "outside",
          "title": {
           "text": "Review<br>Score"
          },
          "x": 0.98,
          "y": 0.8
         },
         "colorscale": [
          [
           0,
           "rgb(247,251,255)"
          ],
          [
           0.125,
           "rgb(222,235,247)"
          ],
          [
           0.25,
           "rgb(198,219,239)"
          ],
          [
           0.375,
           "rgb(158,202,225)"
          ],
          [
           0.5,
           "rgb(107,174,214)"
          ],
          [
           0.625,
           "rgb(66,146,198)"
          ],
          [
           0.75,
           "rgb(33,113,181)"
          ],
          [
           0.875,
           "rgb(8,81,156)"
          ],
          [
           1,
           "rgb(8,48,107)"
          ]
         ],
         "geo": "geo",
         "hoverinfo": "text",
         "hoverlabel": {
          "namelength": 0
         },
         "locationmode": "USA-states",
         "locations": [
          "KS",
          "MN",
          "MI",
          "OR",
          "VA",
          "AL",
          "IL",
          "CA",
          "NE",
          "ME",
          "FL",
          "NY",
          "DE",
          "GA",
          "SC",
          "AK",
          "PA",
          "CT",
          "OH",
          "WA",
          "CO",
          "WV",
          "NM",
          "NC",
          "IA",
          "MA",
          "ND",
          "MD",
          "MT",
          "IN",
          "NJ",
          "ID",
          "DC",
          "NV",
          "VT",
          "AZ",
          "MS",
          "HI",
          "WY",
          "NH",
          "WI",
          "RI",
          "UT",
          "KY",
          "TX",
          "AR",
          "SD",
          "TN",
          "LA",
          "OK",
          "MO"
         ],
         "name": "Info",
         "text": [
          "State: Kansas<br>Review score: 4.11<br># of reviews: 132",
          "State: Minnesota<br>Review score: 4.1<br># of reviews: 19380",
          "State: Michigan<br>Review score: 4.03<br># of reviews: 83054",
          "State: Oregon<br>Review score: 4.03<br># of reviews: 14889",
          "State: Virginia<br>Review score: 4.0<br># of reviews: 7578",
          "State: Alabama<br>Review score: 4.0<br># of reviews: 328",
          "State: Illinois<br>Review score: 4.0<br># of reviews: 21491",
          "State: California<br>Review score: 4.0<br># of reviews: 81833",
          "State: Nebraska<br>Review score: 3.98<br># of reviews: 6144",
          "State: Maine<br>Review score: 3.98<br># of reviews: 8982",
          "State: Florida<br>Review score: 3.97<br># of reviews: 7373",
          "State: New York<br>Review score: 3.93<br># of reviews: 38440",
          "State: Delaware<br>Review score: 3.92<br># of reviews: 33892",
          "State: Georgia<br>Review score: 3.92<br># of reviews: 109",
          "State: South Carolina<br>Review score: 3.91<br># of reviews: 1749",
          "State: Alaska<br>Review score: 3.87<br># of reviews: 3651",
          "State: Pennsylvania<br>Review score: 3.84<br># of reviews: 4709",
          "State: Connecticut<br>Review score: 3.82<br># of reviews: 253",
          "State: Ohio<br>Review score: 3.81<br># of reviews: 71603",
          "State: Washington<br>Review score: 3.8<br># of reviews: 5782",
          "State: Colorado<br>Review score: 3.8<br># of reviews: 28979",
          "State: West Virginia<br>Review score: 3.79<br># of reviews: 41",
          "State: New Mexico<br>Review score: 3.78<br># of reviews: 23",
          "State: North Carolina<br>Review score: 3.78<br># of reviews: 2531",
          "State: Iowa<br>Review score: 3.77<br># of reviews: 266",
          "State: Massachusetts<br>Review score: 3.77<br># of reviews: 19437",
          "State: North Dakota<br>Review score: 3.74<br># of reviews: 6",
          "State: Maryland<br>Review score: 3.73<br># of reviews: 19607",
          "State: Montana<br>Review score: 3.72<br># of reviews: 3179",
          "State: Indiana<br>Review score: 3.72<br># of reviews: 1290",
          "State: New Jersey<br>Review score: 3.71<br># of reviews: 2645",
          "State: Idaho<br>Review score: 3.71<br># of reviews: 1224",
          "State: District of Columbia<br>Review score: 3.7<br># of reviews: 59",
          "State: Nevada<br>Review score: 3.7<br># of reviews: 448",
          "State: Vermont<br>Review score: 3.69<br># of reviews: 12234",
          "State: Arizona<br>Review score: 3.68<br># of reviews: 797",
          "State: Mississippi<br>Review score: 3.67<br># of reviews: 630",
          "State: Hawaii<br>Review score: 3.65<br># of reviews: 4048",
          "State: Wyoming<br>Review score: 3.62<br># of reviews: 20",
          "State: New Hampshire<br>Review score: 3.6<br># of reviews: 1514",
          "State: Wisconsin<br>Review score: 3.59<br># of reviews: 12923",
          "State: Rhode Island<br>Review score: 3.58<br># of reviews: 313",
          "State: Utah<br>Review score: 3.57<br># of reviews: 1052",
          "State: Kentucky<br>Review score: 3.57<br># of reviews: 588",
          "State: Texas<br>Review score: 3.55<br># of reviews: 7528",
          "State: Arkansas<br>Review score: 3.52<br># of reviews: 276",
          "State: South Dakota<br>Review score: 3.5<br># of reviews: 92",
          "State: Tennessee<br>Review score: 3.49<br># of reviews: 237",
          "State: Louisiana<br>Review score: 3.45<br># of reviews: 4991",
          "State: Oklahoma<br>Review score: 3.09<br># of reviews: 100",
          "State: Missouri<br>Review score: 3.07<br># of reviews: 25067"
         ],
         "type": "choropleth",
         "z": [
          4.11,
          4.1,
          4.03,
          4.03,
          4,
          4,
          4,
          4,
          3.98,
          3.98,
          3.97,
          3.93,
          3.92,
          3.92,
          3.91,
          3.87,
          3.84,
          3.82,
          3.81,
          3.8,
          3.8,
          3.79,
          3.78,
          3.78,
          3.77,
          3.77,
          3.74,
          3.73,
          3.72,
          3.72,
          3.71,
          3.71,
          3.7,
          3.7,
          3.69,
          3.68,
          3.67,
          3.65,
          3.62,
          3.6,
          3.59,
          3.58,
          3.57,
          3.57,
          3.55,
          3.52,
          3.5,
          3.49,
          3.45,
          3.09,
          3.07
         ]
        },
        {
         "geo": "geo2",
         "lat": [
          null
         ],
         "lon": [
          null
         ],
         "marker": {
          "color": "lightgrey",
          "line": {
           "color": "rgb(40,40,40)",
           "width": 0.5
          },
          "size": 8
         },
         "name": "1 - 2",
         "showlegend": true,
         "type": "scattergeo",
         "visible": "legendonly"
        },
        {
         "geo": "geo2",
         "hoverinfo": "text",
         "lat": [],
         "locationmode": "USA-states",
         "lon": [],
         "marker": {
          "color": "lightcyan",
          "line": {
           "color": "rgb(40,40,40)",
           "width": 0.5
          },
          "opacity": 0.8,
          "size": 8
         },
         "name": "1 - 2",
         "text": [],
         "type": "scattergeo"
        },
        {
         "geo": "geo2",
         "hoverinfo": "text",
         "lat": [
          42.6,
          43.8,
          44.58,
          38.74,
          34.24
         ],
         "locationmode": "USA-states",
         "lon": [
          -89.64,
          -91.25,
          -91.23,
          -90.3,
          -116.92
         ],
         "marker": {
          "color": "rgb(59,59,59)",
          "line": {
           "color": "rgb(40,40,40)",
           "width": 0.5
          },
          "opacity": 0.8,
          "size": 8
         },
         "name": "2 - 3",
         "text": [
          "City: Monroe<br>Review score: 2.91<br># of reviews: 1341",
          "City: La Crosse<br>Review score: 2.73<br># of reviews: 409",
          "City: Osseo<br>Review score: 2.67<br># of reviews: 60",
          "City: Saint Louis<br>Review score: 2.58<br># of reviews: 15344",
          "City: Big Bear Lake<br>Review score: 2.32<br># of reviews: 18"
         ],
         "type": "scattergeo"
        },
        {
         "geo": "geo2",
         "hoverinfo": "text",
         "lat": [
          41.54,
          42.32,
          42.37,
          42.58,
          30.34,
          30.29,
          41.07,
          44.56,
          44.96,
          29.4,
          48.75,
          20.85,
          42.22,
          42.49,
          40.66,
          25.79,
          38.77,
          34.61,
          42.48,
          36,
          42.39,
          42.77,
          41.52,
          39.71,
          40.67,
          39.1,
          37.73,
          41.62,
          40.06,
          33.87,
          40.06,
          39.75,
          43.12,
          43.05,
          42.18,
          47.66,
          39,
          36.01,
          37.38,
          41.93,
          47.74,
          45.71,
          35.66,
          40.76,
          45.2,
          39.97,
          58.36,
          34.14,
          33.56,
          42.12,
          43.16,
          37.78,
          41.18,
          41.25,
          38.44,
          40.2,
          40.88,
          42.6,
          37.99,
          34.24,
          33.22,
          41.75,
          44.66,
          40.62,
          48.52,
          35.66,
          40.39,
          42.32,
          39.28,
          29.77,
          44.96,
          38.13,
          36.33,
          35.62,
          42.25,
          41.26,
          46.79,
          48.3,
          43.09,
          37.53,
          42.53,
          39.3,
          39.54,
          39.48,
          46.54,
          42.63,
          36.83,
          48.48,
          35.78,
          40.16,
          42.28,
          37.87,
          30.32,
          42.79,
          44.07,
          38.57,
          43.42,
          42.74,
          42.93,
          39.82,
          40.81,
          41.51,
          43.05,
          44.28,
          42.88,
          46.92,
          39.85,
          45.78,
          40.76,
          48.31,
          44.1,
          40.11,
          33.42,
          35.21,
          45.09,
          38.99,
          39.27,
          44.29,
          42.52,
          41.23,
          42.3,
          34.42,
          45.04,
          39.36,
          33.84,
          44.43,
          41.31,
          38.9,
          46.25,
          35.41,
          45.9,
          35.59,
          30.38,
          38.95,
          42.61,
          43.06,
          42.35,
          39.29,
          37.96,
          39.11,
          40.29,
          43.62,
          46.74,
          47.69,
          32.21,
          41.79,
          37.78,
          40.61,
          41.55,
          42.49,
          45.21,
          38.71,
          34.28,
          40.16,
          19.64,
          40.44,
          33.51,
          33.89,
          36.73,
          39.17,
          42.28,
          38.05,
          48.42,
          44.44,
          41.82,
          40.76,
          26.3,
          44.43,
          37.32,
          42.38,
          42.28,
          34.76,
          41.61,
          40.7,
          41.58,
          31.1,
          41.14,
          34.02,
          44.52,
          38.68,
          43.05,
          35.05,
          38.56,
          41.51,
          38.26,
          34.8,
          44.03,
          37.5,
          43.95,
          43.75,
          42.11,
          47.24,
          40.77,
          44.08,
          35.94,
          34.05,
          44.63,
          44.51,
          29.96,
          38.13,
          36.39,
          19.71,
          38.23,
          47.25,
          35.57,
          47.38,
          29.62,
          41.05,
          28.32,
          40.37,
          41.43,
          38.78,
          37.78,
          34.4,
          39.96,
          40.93,
          28.4,
          46.01
         ],
         "locationmode": "USA-states",
         "lon": [
          -87.68,
          -83.88,
          -72.53,
          -72.5,
          -97.72,
          -81.39,
          -81.52,
          -123.26,
          -89.62,
          -98.48,
          -122.48,
          -156.65,
          -85.88,
          -83.03,
          -74.28,
          -80.14,
          -75.31,
          -120.2,
          -72.61,
          -78.9,
          -71.04,
          -71.08,
          -90.57,
          -104.95,
          -74.01,
          -94.59,
          -122.5,
          -79.67,
          -75.19,
          -117.93,
          -105.2,
          -86.14,
          -89.35,
          -88.35,
          -122.66,
          -122.31,
          -95.68,
          -75.66,
          -122.03,
          -74.01,
          -122.66,
          -121.51,
          -105.97,
          -73.41,
          -109.25,
          -83,
          -134.49,
          -118.77,
          -81.72,
          -86.45,
          -77.58,
          -122.31,
          -96.08,
          -95.93,
          -122.71,
          -77.19,
          -123.99,
          -76.18,
          -122.59,
          -77.95,
          -117.35,
          -74.09,
          -90.18,
          -111.89,
          -122.61,
          -78.85,
          -79.83,
          -72.63,
          -76.57,
          -95.35,
          -93.07,
          -121.27,
          -119.29,
          -78.81,
          -83.18,
          -70.13,
          -92.09,
          -122.65,
          -89.52,
          -77.44,
          -83.14,
          -85.22,
          -119.78,
          -119.79,
          -87.39,
          -82.97,
          -76.3,
          -120.19,
          -78.65,
          -105.12,
          -78.67,
          -122.27,
          -81.64,
          -86.1,
          -123.14,
          -92.16,
          -73.71,
          -73.69,
          -73.35,
          -82.83,
          -91.11,
          -90.52,
          -76.15,
          -73.98,
          -78.85,
          -114.07,
          -75.02,
          -108.5,
          -73.02,
          -116.55,
          -70.22,
          -76.5,
          -111.9,
          -111.52,
          -93.01,
          -104.81,
          -76.8,
          -90.85,
          -70.89,
          -75.87,
          -85.57,
          -119.69,
          -92.83,
          -77.43,
          -118.32,
          -68.99,
          -105.6,
          -77.01,
          -114.16,
          -80.58,
          -123.96,
          -82.56,
          -89.45,
          -92.33,
          -70.67,
          -71.44,
          -71.03,
          -81.53,
          -121.29,
          -84.52,
          -76.88,
          -116.2,
          -123,
          -122.15,
          -110.96,
          -71.47,
          -122.23,
          -75.46,
          -71.05,
          -83.14,
          -123.19,
          -90.45,
          -119.29,
          -76.31,
          -156,
          -86.13,
          -112.07,
          -117.56,
          -119.79,
          -86.51,
          -87.85,
          -84.52,
          -122.34,
          -95.78,
          -71.42,
          -111.88,
          -80.25,
          -73.22,
          -121.87,
          -76.87,
          -83.75,
          -92.27,
          -86.73,
          -99.08,
          -93.61,
          -97.34,
          -81.47,
          -86.01,
          -103.87,
          -75.38,
          -87.91,
          -85.31,
          -121.48,
          -90.51,
          -85.76,
          -82.42,
          -71.69,
          -122.24,
          -76.12,
          -122.46,
          -87.86,
          -122.44,
          -74.04,
          -88.59,
          -86.83,
          -118.24,
          -68.85,
          -89.57,
          -90.06,
          -122.26,
          -78.98,
          -155.07,
          -122.64,
          -122.25,
          -97.51,
          -122.14,
          -81.19,
          -75.33,
          -80.61,
          -105.53,
          -78.55,
          -76.22,
          -89.33,
          -119.52,
          -74.19,
          -124.1,
          -80.61,
          -91.49
         ],
         "marker": {
          "color": "cornflowerblue",
          "line": {
           "color": "rgb(40,40,40)",
           "width": 0.5
          },
          "opacity": 0.8,
          "size": 8
         },
         "name": "3 - 4",
         "text": [
          "City: Flossmoor<br>Review score: 4.0<br># of reviews: 1568",
          "City: Dexter<br>Review score: 3.99<br># of reviews: 4963",
          "City: Amherst<br>Review score: 3.99<br># of reviews: 2710",
          "City: Millers Falls<br>Review score: 3.99<br># of reviews: 161",
          "City: Austin<br>Review score: 3.98<br># of reviews: 390",
          "City: Jacksonville Beach<br>Review score: 3.96<br># of reviews: 20",
          "City: Akron<br>Review score: 3.96<br># of reviews: 5073",
          "City: Corvallis<br>Review score: 3.95<br># of reviews: 213",
          "City: Wausau<br>Review score: 3.95<br># of reviews: 27",
          "City: San Antonio<br>Review score: 3.94<br># of reviews: 368",
          "City: Bellingham<br>Review score: 3.94<br># of reviews: 211",
          "City: Lahaina<br>Review score: 3.94<br># of reviews: 764",
          "City: Paw Paw<br>Review score: 3.94<br># of reviews: 13",
          "City: Warren<br>Review score: 3.94<br># of reviews: 1323",
          "City: Roselle Park<br>Review score: 3.94<br># of reviews: 194",
          "City: Miami Beach<br>Review score: 3.93<br># of reviews: 35",
          "City: Milton<br>Review score: 3.92<br># of reviews: 33800",
          "City: Buellton<br>Review score: 3.92<br># of reviews: 22",
          "City: South Deerfield<br>Review score: 3.92<br># of reviews: 2990",
          "City: Durham<br>Review score: 3.91<br># of reviews: 103",
          "City: Chelsea<br>Review score: 3.9<br># of reviews: 73",
          "City: Haverhill<br>Review score: 3.9<br># of reviews: 882",
          "City: Davenport<br>Review score: 3.9<br># of reviews: 141",
          "City: Denver<br>Review score: 3.9<br># of reviews: 203",
          "City: Brooklyn<br>Review score: 3.9<br># of reviews: 15913",
          "City: Kansas City<br>Review score: 3.89<br># of reviews: 7716",
          "City: San Francisco<br>Review score: 3.89<br># of reviews: 9993",
          "City: Titusville<br>Review score: 3.88<br># of reviews: 13",
          "City: Philadelphia<br>Review score: 3.88<br># of reviews: 109",
          "City: Fullerton<br>Review score: 3.88<br># of reviews: 1130",
          "City: Boulder<br>Review score: 3.88<br># of reviews: 16250",
          "City: Indianapolis<br>Review score: 3.88<br># of reviews: 350",
          "City: Madison<br>Review score: 3.88<br># of reviews: 809",
          "City: Delafield<br>Review score: 3.87<br># of reviews: 51",
          "City: Ashland<br>Review score: 3.87<br># of reviews: 930",
          "City: Seattle<br>Review score: 3.87<br># of reviews: 3731",
          "City: Topeka<br>Review score: 3.87<br># of reviews: 11",
          "City: Kill Devil Hills<br>Review score: 3.86<br># of reviews: 166",
          "City: Sunnyvale<br>Review score: 3.86<br># of reviews: 95",
          "City: Kingston<br>Review score: 3.86<br># of reviews: 434",
          "City: Poulsbo<br>Review score: 3.86<br># of reviews: 18",
          "City: Hood River<br>Review score: 3.86<br># of reviews: 57",
          "City: Santa Fe<br>Review score: 3.85<br># of reviews: 15",
          "City: Farmingdale<br>Review score: 3.85<br># of reviews: 166",
          "City: Red Lodge<br>Review score: 3.84<br># of reviews: 24",
          "City: Columbus<br>Review score: 3.84<br># of reviews: 328",
          "City: Juneau<br>Review score: 3.84<br># of reviews: 3226",
          "City: Agoura Hills<br>Review score: 3.84<br># of reviews: 95",
          "City: Aiken<br>Review score: 3.83<br># of reviews: 19",
          "City: Benton Harbor<br>Review score: 3.83<br># of reviews: 205",
          "City: Rochester<br>Review score: 3.83<br># of reviews: 215",
          "City: Alameda<br>Review score: 3.82<br># of reviews: 58",
          "City: La Vista<br>Review score: 3.82<br># of reviews: 498",
          "City: Omaha<br>Review score: 3.82<br># of reviews: 198",
          "City: Santa Rosa<br>Review score: 3.82<br># of reviews: 74",
          "City: Carlisle<br>Review score: 3.82<br># of reviews: 32",
          "City: Blue Lake<br>Review score: 3.82<br># of reviews: 1968",
          "City: Cortland<br>Review score: 3.82<br># of reviews: 30",
          "City: Fairfax<br>Review score: 3.81<br># of reviews: 158",
          "City: Wilmington<br>Review score: 3.81<br># of reviews: 41",
          "City: Oceanside<br>Review score: 3.81<br># of reviews: 756",
          "City: New Paltz<br>Review score: 3.81<br># of reviews: 89",
          "City: Marshfield<br>Review score: 3.81<br># of reviews: 16",
          "City: Midvale<br>Review score: 3.81<br># of reviews: 78",
          "City: Anacortes<br>Review score: 3.81<br># of reviews: 83",
          "City: Holly Springs<br>Review score: 3.81<br># of reviews: 462",
          "City: North Versailles<br>Review score: 3.8<br># of reviews: 153",
          "City: Northampton<br>Review score: 3.8<br># of reviews: 55",
          "City: Baltimore<br>Review score: 3.8<br># of reviews: 7572",
          "City: Houston<br>Review score: 3.79<br># of reviews: 2881",
          "City: Saint Paul<br>Review score: 3.79<br># of reviews: 586",
          "City: Lodi<br>Review score: 3.79<br># of reviews: 13",
          "City: Visalia<br>Review score: 3.79<br># of reviews: 15",
          "City: Fuquay Varina<br>Review score: 3.78<br># of reviews: 92",
          "City: Lincoln Park<br>Review score: 3.78<br># of reviews: 67",
          "City: Nantucket<br>Review score: 3.78<br># of reviews: 1624",
          "City: Duluth<br>Review score: 3.78<br># of reviews: 126",
          "City: Oak Harbor<br>Review score: 3.78<br># of reviews: 47",
          "City: Middleton<br>Review score: 3.78<br># of reviews: 2039",
          "City: Richmond<br>Review score: 3.77<br># of reviews: 857",
          "City: Clawson<br>Review score: 3.77<br># of reviews: 29",
          "City: Batesville<br>Review score: 3.77<br># of reviews: 11",
          "City: Sparks<br>Review score: 3.77<br># of reviews: 55",
          "City: Reno<br>Review score: 3.77<br># of reviews: 55",
          "City: Marquette<br>Review score: 3.77<br># of reviews: 21",
          "City: Shelby Township<br>Review score: 3.76<br># of reviews: 19",
          "City: Portsmouth<br>Review score: 3.76<br># of reviews: 835",
          "City: Winthrop<br>Review score: 3.76<br># of reviews: 101",
          "City: Raleigh<br>Review score: 3.76<br># of reviews: 514",
          "City: Longmont<br>Review score: 3.75<br># of reviews: 7695",
          "City: Ellicottville<br>Review score: 3.75<br># of reviews: 296",
          "City: Berkeley<br>Review score: 3.75<br># of reviews: 44",
          "City: Jacksonville<br>Review score: 3.75<br># of reviews: 194",
          "City: Holland<br>Review score: 3.75<br># of reviews: 5706",
          "City: Eugene<br>Review score: 3.75<br># of reviews: 335",
          "City: Jefferson City<br>Review score: 3.74<br># of reviews: 20",
          "City: Lake George<br>Review score: 3.74<br># of reviews: 59",
          "City: Troy<br>Review score: 3.74<br># of reviews: 288",
          "City: North Hoosick<br>Review score: 3.74<br># of reviews: 288",
          "City: Canal Winchester<br>Review score: 3.73<br># of reviews: 4033",
          "City: Burlington<br>Review score: 3.73<br># of reviews: 52",
          "City: Moline<br>Review score: 3.73<br># of reviews: 52",
          "City: Syracuse<br>Review score: 3.72<br># of reviews: 134",
          "City: Lake Placid<br>Review score: 3.72<br># of reviews: 585",
          "City: Buffalo<br>Review score: 3.72<br># of reviews: 215",
          "City: Missoula<br>Review score: 3.72<br># of reviews: 2835",
          "City: Somerdale<br>Review score: 3.72<br># of reviews: 2167",
          "City: Billings<br>Review score: 3.71<br># of reviews: 75",
          "City: Patchogue<br>Review score: 3.71<br># of reviews: 2378",
          "City: Ponderay<br>Review score: 3.71<br># of reviews: 1136",
          "City: Lewiston<br>Review score: 3.71<br># of reviews: 164",
          "City: Mount Joy<br>Review score: 3.7<br># of reviews: 79",
          "City: Tempe<br>Review score: 3.7<br># of reviews: 563",
          "City: Flagstaff<br>Review score: 3.7<br># of reviews: 36",
          "City: White Bear Lake<br>Review score: 3.7<br># of reviews: 12",
          "City: Colorado Springs<br>Review score: 3.7<br># of reviews: 547",
          "City: Ellicott City<br>Review score: 3.69<br># of reviews: 52",
          "City: Black River Falls<br>Review score: 3.69<br># of reviews: 744",
          "City: Salem<br>Review score: 3.69<br># of reviews: 99",
          "City: Wilkes Barre<br>Review score: 3.69<br># of reviews: 50",
          "City: Kalamazoo<br>Review score: 3.69<br># of reviews: 3595",
          "City: Santa Barbara<br>Review score: 3.69<br># of reviews: 358",
          "City: Stillwater<br>Review score: 3.68<br># of reviews: 216",
          "City: Frederick<br>Review score: 3.68<br># of reviews: 11905",
          "City: Torrance<br>Review score: 3.68<br># of reviews: 39",
          "City: Belfast<br>Review score: 3.68<br># of reviews: 195",
          "City: Laramie<br>Review score: 3.68<br># of reviews: 12",
          "City: Washington<br>Review score: 3.68<br># of reviews: 93",
          "City: Hamilton<br>Review score: 3.68<br># of reviews: 56",
          "City: Concord<br>Review score: 3.68<br># of reviews: 120",
          "City: Cannon Beach<br>Review score: 3.67<br># of reviews: 21",
          "City: Asheville<br>Review score: 3.67<br># of reviews: 147",
          "City: Kiln<br>Review score: 3.67<br># of reviews: 630",
          "City: Columbia<br>Review score: 3.67<br># of reviews: 81",
          "City: Gloucester<br>Review score: 3.66<br># of reviews: 755",
          "City: Hooksett<br>Review score: 3.66<br># of reviews: 992",
          "City: Boston<br>Review score: 3.66<br># of reviews: 9537",
          "City: Parkersburg<br>Review score: 3.66<br># of reviews: 19",
          "City: Stockton<br>Review score: 3.65<br># of reviews: 105",
          "City: Cincinnati<br>Review score: 3.65<br># of reviews: 38812",
          "City: Harrisburg<br>Review score: 3.65<br># of reviews: 1078",
          "City: Boise<br>Review score: 3.65<br># of reviews: 82",
          "City: Centralia<br>Review score: 3.65<br># of reviews: 673",
          "City: Redmond<br>Review score: 3.64<br># of reviews: 400",
          "City: Tucson<br>Review score: 3.64<br># of reviews: 123",
          "City: Cranston<br>Review score: 3.63<br># of reviews: 13",
          "City: Oakland<br>Review score: 3.63<br># of reviews: 41",
          "City: Allentown<br>Review score: 3.63<br># of reviews: 337",
          "City: Westport<br>Review score: 3.63<br># of reviews: 423",
          "City: Royal Oak<br>Review score: 3.62<br># of reviews: 50",
          "City: McMinnville<br>Review score: 3.62<br># of reviews: 149",
          "City: Maryland Heights<br>Review score: 3.62<br># of reviews: 1667",
          "City: Ventura<br>Review score: 3.62<br># of reviews: 43",
          "City: Lititz<br>Review score: 3.62<br># of reviews: 30",
          "City: Kailua Kona<br>Review score: 3.6<br># of reviews: 2056",
          "City: Kokomo<br>Review score: 3.6<br># of reviews: 27",
          "City: Phoenix<br>Review score: 3.59<br># of reviews: 72",
          "City: Corona<br>Review score: 3.59<br># of reviews: 19",
          "City: Fresno<br>Review score: 3.59<br># of reviews: 18",
          "City: Bloomington<br>Review score: 3.58<br># of reviews: 52",
          "City: Lake Bluff<br>Review score: 3.58<br># of reviews: 14",
          "City: Lexington<br>Review score: 3.58<br># of reviews: 485",
          "City: Mount Vernon<br>Review score: 3.58<br># of reviews: 67",
          "City: Marshall<br>Review score: 3.57<br># of reviews: 618",
          "City: Providence<br>Review score: 3.57<br># of reviews: 300",
          "City: Salt Lake City<br>Review score: 3.57<br># of reviews: 852",
          "City: Coral Springs<br>Review score: 3.56<br># of reviews: 32",
          "City: South Burlington<br>Review score: 3.56<br># of reviews: 8724",
          "City: San Jose<br>Review score: 3.56<br># of reviews: 961",
          "City: Watkins Glen<br>Review score: 3.56<br># of reviews: 72",
          "City: Ann Arbor<br>Review score: 3.55<br># of reviews: 799",
          "City: North Little Rock<br>Review score: 3.55<br># of reviews: 272",
          "City: La Porte<br>Review score: 3.55<br># of reviews: 204",
          "City: Kearney<br>Review score: 3.54<br># of reviews: 43",
          "City: Des Moines<br>Review score: 3.54<br># of reviews: 73",
          "City: Temple<br>Review score: 3.53<br># of reviews: 18",
          "City: Cuyahoga Falls<br>Review score: 3.53<br># of reviews: 61",
          "City: Gadsden<br>Review score: 3.52<br># of reviews: 40",
          "City: Spearfish<br>Review score: 3.52<br># of reviews: 90",
          "City: Georgetown<br>Review score: 3.51<br># of reviews: 92",
          "City: Milwaukee<br>Review score: 3.51<br># of reviews: 3100",
          "City: Chattanooga<br>Review score: 3.51<br># of reviews: 164",
          "City: Sacramento<br>Review score: 3.5<br># of reviews: 167",
          "City: Rock Island<br>Review score: 3.49<br># of reviews: 44",
          "City: Louisville<br>Review score: 3.49<br># of reviews: 100",
          "City: Greenville<br>Review score: 3.48<br># of reviews: 632",
          "City: North Woodstock<br>Review score: 3.48<br># of reviews: 431",
          "City: San Carlos<br>Review score: 3.47<br># of reviews: 28",
          "City: Sackets Harbor<br>Review score: 3.47<br># of reviews: 48",
          "City: Oakridge<br>Review score: 3.46<br># of reviews: 12",
          "City: Northbrook<br>Review score: 3.45<br># of reviews: 65",
          "City: Tacoma<br>Review score: 3.45<br># of reviews: 50",
          "City: North Bergen<br>Review score: 3.45<br># of reviews: 38",
          "City: Oshkosh<br>Review score: 3.45<br># of reviews: 14",
          "City: Franklin<br>Review score: 3.44<br># of reviews: 69",
          "City: Los Angeles<br>Review score: 3.42<br># of reviews: 176",
          "City: Winterport<br>Review score: 3.42<br># of reviews: 34",
          "City: Stevens Point<br>Review score: 3.41<br># of reviews: 1424",
          "City: New Orleans<br>Review score: 3.4<br># of reviews: 18",
          "City: Vallejo<br>Review score: 3.38<br># of reviews: 296",
          "City: Roxboro<br>Review score: 3.37<br># of reviews: 72",
          "City: Hilo<br>Review score: 3.36<br># of reviews: 59",
          "City: Petaluma<br>Review score: 3.33<br># of reviews: 18",
          "City: Pacific<br>Review score: 3.32<br># of reviews: 159",
          "City: Oklahoma City<br>Review score: 3.31<br># of reviews: 47",
          "City: Kent<br>Review score: 3.31<br># of reviews: 22",
          "City: Palm Coast<br>Review score: 3.27<br># of reviews: 89",
          "City: Tannersville<br>Review score: 3.27<br># of reviews: 140",
          "City: Cocoa Beach<br>Review score: 3.26<br># of reviews: 32",
          "City: Estes Park<br>Review score: 3.24<br># of reviews: 99",
          "City: Saint Marys<br>Review score: 3.22<br># of reviews: 182",
          "City: Saint Michaels<br>Review score: 3.19<br># of reviews: 13",
          "City: Murphysboro<br>Review score: 3.19<br># of reviews: 40",
          "City: Carpinteria<br>Review score: 3.18<br># of reviews: 91",
          "City: Toms River<br>Review score: 3.17<br># of reviews: 28",
          "City: McKinleyville<br>Review score: 3.12<br># of reviews: 100",
          "City: Cape Canaveral<br>Review score: 3.09<br># of reviews: 496",
          "City: Hayward<br>Review score: 3.08<br># of reviews: 1257"
         ],
         "type": "scattergeo"
        },
        {
         "geo": "geo2",
         "hoverinfo": "text",
         "lat": [
          44.78,
          45.04,
          45.05,
          42.95,
          40.41,
          38.61,
          42.28,
          38.94,
          32.92,
          42.34,
          37.44,
          39.75,
          61.22,
          33.83,
          33.76,
          41.05,
          44.94,
          44.06,
          41.03,
          27.96,
          41.5,
          42.55,
          40.77,
          40.46,
          46.59,
          45.53,
          42.75,
          45.04,
          41.24,
          41.69,
          39.33,
          35.19,
          40.81,
          41.54
         ],
         "locationmode": "USA-states",
         "lon": [
          -117.83,
          -93.32,
          -93.27,
          -85.68,
          -74.04,
          -122.87,
          -71.41,
          -95.28,
          -117.11,
          -83.06,
          -79.91,
          -105.22,
          -149.84,
          -117.91,
          -118.15,
          -76.24,
          -93.34,
          -121.31,
          -73.84,
          -82.51,
          -81.5,
          -83.2,
          -80.32,
          -79.91,
          -112.04,
          -122.69,
          -74.86,
          -93.2,
          -77.05,
          -87.61,
          -82.1,
          -80.88,
          -96.7,
          -87.68
         ],
         "marker": {
          "color": "rgb(241,105,19)",
          "line": {
           "color": "rgb(40,40,40)",
           "width": 0.5
          },
          "opacity": 0.8,
          "size": 8
         },
         "name": "4 - 5",
         "text": [
          "City: Baker City<br>Review score: 4.25<br># of reviews: 36",
          "City: Brooklyn Ctr<br>Review score: 4.22<br># of reviews: 6212",
          "City: Minneapolis<br>Review score: 4.21<br># of reviews: 8971",
          "City: Grand Rapids<br>Review score: 4.18<br># of reviews: 20101",
          "City: Atlantic Highlands<br>Review score: 4.15<br># of reviews: 14",
          "City: Healdsburg<br>Review score: 4.15<br># of reviews: 7816",
          "City: Framingham<br>Review score: 4.15<br># of reviews: 59",
          "City: Lawrence<br>Review score: 4.14<br># of reviews: 121",
          "City: San Diego<br>Review score: 4.12<br># of reviews: 24634",
          "City: Detroit<br>Review score: 4.12<br># of reviews: 21384",
          "City: Daleville<br>Review score: 4.11<br># of reviews: 4952",
          "City: Golden<br>Review score: 4.11<br># of reviews: 35",
          "City: Anchorage<br>Review score: 4.11<br># of reviews: 425",
          "City: Anaheim<br>Review score: 4.1<br># of reviews: 5086",
          "City: Long Beach<br>Review score: 4.1<br># of reviews: 5100",
          "City: Berwick<br>Review score: 4.08<br># of reviews: 62",
          "City: St Louis Park<br>Review score: 4.08<br># of reviews: 79",
          "City: Bend<br>Review score: 4.08<br># of reviews: 11502",
          "City: Elmsford<br>Review score: 4.06<br># of reviews: 2696",
          "City: Tampa<br>Review score: 4.06<br># of reviews: 6435",
          "City: Cleveland<br>Review score: 4.05<br># of reviews: 21965",
          "City: Birmingham<br>Review score: 4.05<br># of reviews: 359",
          "City: Beaver Falls<br>Review score: 4.04<br># of reviews: 48",
          "City: Pittsburgh<br>Review score: 4.04<br># of reviews: 948",
          "City: Helena<br>Review score: 4.04<br># of reviews: 35",
          "City: Portland<br>Review score: 4.04<br># of reviews: 8636",
          "City: Cooperstown<br>Review score: 4.03<br># of reviews: 9899",
          "City: New Brighton<br>Review score: 4.03<br># of reviews: 231",
          "City: Williamsport<br>Review score: 4.03<br># of reviews: 900",
          "City: Chicago<br>Review score: 4.02<br># of reviews: 19511",
          "City: Athens<br>Review score: 4.02<br># of reviews: 1297",
          "City: Charlotte<br>Review score: 4.01<br># of reviews: 142",
          "City: Lincoln<br>Review score: 4.01<br># of reviews: 5405",
          "City: Flossmoor<br>Review score: 4.0<br># of reviews: 1568"
         ],
         "type": "scattergeo"
        }
       ],
       "layout": {
        "annotations": [
         {
          "font": {
           "size": 16
          },
          "showarrow": false,
          "text": "Average Beer Rating by State<br>(Hover for more info)",
          "x": 0.5,
          "xanchor": "center",
          "xref": "paper",
          "y": 1,
          "yanchor": "bottom",
          "yref": "paper"
         },
         {
          "font": {
           "size": 16
          },
          "showarrow": false,
          "text": "Average Beer Rating by City<br>(Click on legend to toggle ratings)",
          "x": 0.5,
          "xanchor": "center",
          "xref": "paper",
          "y": 0.44,
          "yanchor": "bottom",
          "yref": "paper"
         }
        ],
        "geo": {
         "domain": {
          "x": [
           0,
           1
          ],
          "y": [
           0.56,
           1
          ]
         },
         "lakecolor": "rgb(255, 255, 255)",
         "projection": {
          "type": "albers usa"
         },
         "scope": "usa",
         "showlakes": true
        },
        "geo2": {
         "domain": {
          "x": [
           0,
           1
          ],
          "y": [
           0,
           0.44
          ]
         },
         "scope": "usa"
        },
        "height": 1000,
        "legend": {
         "title": {
          "text": "Review Score"
         },
         "x": 0.95,
         "y": 0.15
        },
        "template": {
         "data": {
          "bar": [
           {
            "error_x": {
             "color": "#2a3f5f"
            },
            "error_y": {
             "color": "#2a3f5f"
            },
            "marker": {
             "line": {
              "color": "#E5ECF6",
              "width": 0.5
             }
            },
            "type": "bar"
           }
          ],
          "barpolar": [
           {
            "marker": {
             "line": {
              "color": "#E5ECF6",
              "width": 0.5
             }
            },
            "type": "barpolar"
           }
          ],
          "carpet": [
           {
            "aaxis": {
             "endlinecolor": "#2a3f5f",
             "gridcolor": "white",
             "linecolor": "white",
             "minorgridcolor": "white",
             "startlinecolor": "#2a3f5f"
            },
            "baxis": {
             "endlinecolor": "#2a3f5f",
             "gridcolor": "white",
             "linecolor": "white",
             "minorgridcolor": "white",
             "startlinecolor": "#2a3f5f"
            },
            "type": "carpet"
           }
          ],
          "choropleth": [
           {
            "colorbar": {
             "outlinewidth": 0,
             "ticks": ""
            },
            "type": "choropleth"
           }
          ],
          "contour": [
           {
            "colorbar": {
             "outlinewidth": 0,
             "ticks": ""
            },
            "colorscale": [
             [
              0,
              "#0d0887"
             ],
             [
              0.1111111111111111,
              "#46039f"
             ],
             [
              0.2222222222222222,
              "#7201a8"
             ],
             [
              0.3333333333333333,
              "#9c179e"
             ],
             [
              0.4444444444444444,
              "#bd3786"
             ],
             [
              0.5555555555555556,
              "#d8576b"
             ],
             [
              0.6666666666666666,
              "#ed7953"
             ],
             [
              0.7777777777777778,
              "#fb9f3a"
             ],
             [
              0.8888888888888888,
              "#fdca26"
             ],
             [
              1,
              "#f0f921"
             ]
            ],
            "type": "contour"
           }
          ],
          "contourcarpet": [
           {
            "colorbar": {
             "outlinewidth": 0,
             "ticks": ""
            },
            "type": "contourcarpet"
           }
          ],
          "heatmap": [
           {
            "colorbar": {
             "outlinewidth": 0,
             "ticks": ""
            },
            "colorscale": [
             [
              0,
              "#0d0887"
             ],
             [
              0.1111111111111111,
              "#46039f"
             ],
             [
              0.2222222222222222,
              "#7201a8"
             ],
             [
              0.3333333333333333,
              "#9c179e"
             ],
             [
              0.4444444444444444,
              "#bd3786"
             ],
             [
              0.5555555555555556,
              "#d8576b"
             ],
             [
              0.6666666666666666,
              "#ed7953"
             ],
             [
              0.7777777777777778,
              "#fb9f3a"
             ],
             [
              0.8888888888888888,
              "#fdca26"
             ],
             [
              1,
              "#f0f921"
             ]
            ],
            "type": "heatmap"
           }
          ],
          "heatmapgl": [
           {
            "colorbar": {
             "outlinewidth": 0,
             "ticks": ""
            },
            "colorscale": [
             [
              0,
              "#0d0887"
             ],
             [
              0.1111111111111111,
              "#46039f"
             ],
             [
              0.2222222222222222,
              "#7201a8"
             ],
             [
              0.3333333333333333,
              "#9c179e"
             ],
             [
              0.4444444444444444,
              "#bd3786"
             ],
             [
              0.5555555555555556,
              "#d8576b"
             ],
             [
              0.6666666666666666,
              "#ed7953"
             ],
             [
              0.7777777777777778,
              "#fb9f3a"
             ],
             [
              0.8888888888888888,
              "#fdca26"
             ],
             [
              1,
              "#f0f921"
             ]
            ],
            "type": "heatmapgl"
           }
          ],
          "histogram": [
           {
            "marker": {
             "colorbar": {
              "outlinewidth": 0,
              "ticks": ""
             }
            },
            "type": "histogram"
           }
          ],
          "histogram2d": [
           {
            "colorbar": {
             "outlinewidth": 0,
             "ticks": ""
            },
            "colorscale": [
             [
              0,
              "#0d0887"
             ],
             [
              0.1111111111111111,
              "#46039f"
             ],
             [
              0.2222222222222222,
              "#7201a8"
             ],
             [
              0.3333333333333333,
              "#9c179e"
             ],
             [
              0.4444444444444444,
              "#bd3786"
             ],
             [
              0.5555555555555556,
              "#d8576b"
             ],
             [
              0.6666666666666666,
              "#ed7953"
             ],
             [
              0.7777777777777778,
              "#fb9f3a"
             ],
             [
              0.8888888888888888,
              "#fdca26"
             ],
             [
              1,
              "#f0f921"
             ]
            ],
            "type": "histogram2d"
           }
          ],
          "histogram2dcontour": [
           {
            "colorbar": {
             "outlinewidth": 0,
             "ticks": ""
            },
            "colorscale": [
             [
              0,
              "#0d0887"
             ],
             [
              0.1111111111111111,
              "#46039f"
             ],
             [
              0.2222222222222222,
              "#7201a8"
             ],
             [
              0.3333333333333333,
              "#9c179e"
             ],
             [
              0.4444444444444444,
              "#bd3786"
             ],
             [
              0.5555555555555556,
              "#d8576b"
             ],
             [
              0.6666666666666666,
              "#ed7953"
             ],
             [
              0.7777777777777778,
              "#fb9f3a"
             ],
             [
              0.8888888888888888,
              "#fdca26"
             ],
             [
              1,
              "#f0f921"
             ]
            ],
            "type": "histogram2dcontour"
           }
          ],
          "mesh3d": [
           {
            "colorbar": {
             "outlinewidth": 0,
             "ticks": ""
            },
            "type": "mesh3d"
           }
          ],
          "parcoords": [
           {
            "line": {
             "colorbar": {
              "outlinewidth": 0,
              "ticks": ""
             }
            },
            "type": "parcoords"
           }
          ],
          "pie": [
           {
            "automargin": true,
            "type": "pie"
           }
          ],
          "scatter": [
           {
            "marker": {
             "colorbar": {
              "outlinewidth": 0,
              "ticks": ""
             }
            },
            "type": "scatter"
           }
          ],
          "scatter3d": [
           {
            "line": {
             "colorbar": {
              "outlinewidth": 0,
              "ticks": ""
             }
            },
            "marker": {
             "colorbar": {
              "outlinewidth": 0,
              "ticks": ""
             }
            },
            "type": "scatter3d"
           }
          ],
          "scattercarpet": [
           {
            "marker": {
             "colorbar": {
              "outlinewidth": 0,
              "ticks": ""
             }
            },
            "type": "scattercarpet"
           }
          ],
          "scattergeo": [
           {
            "marker": {
             "colorbar": {
              "outlinewidth": 0,
              "ticks": ""
             }
            },
            "type": "scattergeo"
           }
          ],
          "scattergl": [
           {
            "marker": {
             "colorbar": {
              "outlinewidth": 0,
              "ticks": ""
             }
            },
            "type": "scattergl"
           }
          ],
          "scattermapbox": [
           {
            "marker": {
             "colorbar": {
              "outlinewidth": 0,
              "ticks": ""
             }
            },
            "type": "scattermapbox"
           }
          ],
          "scatterpolar": [
           {
            "marker": {
             "colorbar": {
              "outlinewidth": 0,
              "ticks": ""
             }
            },
            "type": "scatterpolar"
           }
          ],
          "scatterpolargl": [
           {
            "marker": {
             "colorbar": {
              "outlinewidth": 0,
              "ticks": ""
             }
            },
            "type": "scatterpolargl"
           }
          ],
          "scatterternary": [
           {
            "marker": {
             "colorbar": {
              "outlinewidth": 0,
              "ticks": ""
             }
            },
            "type": "scatterternary"
           }
          ],
          "surface": [
           {
            "colorbar": {
             "outlinewidth": 0,
             "ticks": ""
            },
            "colorscale": [
             [
              0,
              "#0d0887"
             ],
             [
              0.1111111111111111,
              "#46039f"
             ],
             [
              0.2222222222222222,
              "#7201a8"
             ],
             [
              0.3333333333333333,
              "#9c179e"
             ],
             [
              0.4444444444444444,
              "#bd3786"
             ],
             [
              0.5555555555555556,
              "#d8576b"
             ],
             [
              0.6666666666666666,
              "#ed7953"
             ],
             [
              0.7777777777777778,
              "#fb9f3a"
             ],
             [
              0.8888888888888888,
              "#fdca26"
             ],
             [
              1,
              "#f0f921"
             ]
            ],
            "type": "surface"
           }
          ],
          "table": [
           {
            "cells": {
             "fill": {
              "color": "#EBF0F8"
             },
             "line": {
              "color": "white"
             }
            },
            "header": {
             "fill": {
              "color": "#C8D4E3"
             },
             "line": {
              "color": "white"
             }
            },
            "type": "table"
           }
          ]
         },
         "layout": {
          "annotationdefaults": {
           "arrowcolor": "#2a3f5f",
           "arrowhead": 0,
           "arrowwidth": 1
          },
          "coloraxis": {
           "colorbar": {
            "outlinewidth": 0,
            "ticks": ""
           }
          },
          "colorscale": {
           "diverging": [
            [
             0,
             "#8e0152"
            ],
            [
             0.1,
             "#c51b7d"
            ],
            [
             0.2,
             "#de77ae"
            ],
            [
             0.3,
             "#f1b6da"
            ],
            [
             0.4,
             "#fde0ef"
            ],
            [
             0.5,
             "#f7f7f7"
            ],
            [
             0.6,
             "#e6f5d0"
            ],
            [
             0.7,
             "#b8e186"
            ],
            [
             0.8,
             "#7fbc41"
            ],
            [
             0.9,
             "#4d9221"
            ],
            [
             1,
             "#276419"
            ]
           ],
           "sequential": [
            [
             0,
             "#0d0887"
            ],
            [
             0.1111111111111111,
             "#46039f"
            ],
            [
             0.2222222222222222,
             "#7201a8"
            ],
            [
             0.3333333333333333,
             "#9c179e"
            ],
            [
             0.4444444444444444,
             "#bd3786"
            ],
            [
             0.5555555555555556,
             "#d8576b"
            ],
            [
             0.6666666666666666,
             "#ed7953"
            ],
            [
             0.7777777777777778,
             "#fb9f3a"
            ],
            [
             0.8888888888888888,
             "#fdca26"
            ],
            [
             1,
             "#f0f921"
            ]
           ],
           "sequentialminus": [
            [
             0,
             "#0d0887"
            ],
            [
             0.1111111111111111,
             "#46039f"
            ],
            [
             0.2222222222222222,
             "#7201a8"
            ],
            [
             0.3333333333333333,
             "#9c179e"
            ],
            [
             0.4444444444444444,
             "#bd3786"
            ],
            [
             0.5555555555555556,
             "#d8576b"
            ],
            [
             0.6666666666666666,
             "#ed7953"
            ],
            [
             0.7777777777777778,
             "#fb9f3a"
            ],
            [
             0.8888888888888888,
             "#fdca26"
            ],
            [
             1,
             "#f0f921"
            ]
           ]
          },
          "colorway": [
           "#636efa",
           "#EF553B",
           "#00cc96",
           "#ab63fa",
           "#FFA15A",
           "#19d3f3",
           "#FF6692",
           "#B6E880",
           "#FF97FF",
           "#FECB52"
          ],
          "font": {
           "color": "#2a3f5f"
          },
          "geo": {
           "bgcolor": "white",
           "lakecolor": "white",
           "landcolor": "#E5ECF6",
           "showlakes": true,
           "showland": true,
           "subunitcolor": "white"
          },
          "hoverlabel": {
           "align": "left"
          },
          "hovermode": "closest",
          "mapbox": {
           "style": "light"
          },
          "paper_bgcolor": "white",
          "plot_bgcolor": "#E5ECF6",
          "polar": {
           "angularaxis": {
            "gridcolor": "white",
            "linecolor": "white",
            "ticks": ""
           },
           "bgcolor": "#E5ECF6",
           "radialaxis": {
            "gridcolor": "white",
            "linecolor": "white",
            "ticks": ""
           }
          },
          "scene": {
           "xaxis": {
            "backgroundcolor": "#E5ECF6",
            "gridcolor": "white",
            "gridwidth": 2,
            "linecolor": "white",
            "showbackground": true,
            "ticks": "",
            "zerolinecolor": "white"
           },
           "yaxis": {
            "backgroundcolor": "#E5ECF6",
            "gridcolor": "white",
            "gridwidth": 2,
            "linecolor": "white",
            "showbackground": true,
            "ticks": "",
            "zerolinecolor": "white"
           },
           "zaxis": {
            "backgroundcolor": "#E5ECF6",
            "gridcolor": "white",
            "gridwidth": 2,
            "linecolor": "white",
            "showbackground": true,
            "ticks": "",
            "zerolinecolor": "white"
           }
          },
          "shapedefaults": {
           "line": {
            "color": "#2a3f5f"
           }
          },
          "ternary": {
           "aaxis": {
            "gridcolor": "white",
            "linecolor": "white",
            "ticks": ""
           },
           "baxis": {
            "gridcolor": "white",
            "linecolor": "white",
            "ticks": ""
           },
           "bgcolor": "#E5ECF6",
           "caxis": {
            "gridcolor": "white",
            "linecolor": "white",
            "ticks": ""
           }
          },
          "title": {
           "x": 0.05
          },
          "xaxis": {
           "automargin": true,
           "gridcolor": "white",
           "linecolor": "white",
           "ticks": "",
           "title": {
            "standoff": 15
           },
           "zerolinecolor": "white",
           "zerolinewidth": 2
          },
          "yaxis": {
           "automargin": true,
           "gridcolor": "white",
           "linecolor": "white",
           "ticks": "",
           "title": {
            "standoff": 15
           },
           "zerolinecolor": "white",
           "zerolinewidth": 2
          }
         }
        }
       }
      },
      "text/html": [
       "<div>\n",
       "        \n",
       "        \n",
       "            <div id=\"5407af57-76fc-4b8d-80ae-362348019d63\" class=\"plotly-graph-div\" style=\"height:1000px; width:100%;\"></div>\n",
       "            <script type=\"text/javascript\">\n",
       "                require([\"plotly\"], function(Plotly) {\n",
       "                    window.PLOTLYENV=window.PLOTLYENV || {};\n",
       "                    \n",
       "                if (document.getElementById(\"5407af57-76fc-4b8d-80ae-362348019d63\")) {\n",
       "                    Plotly.newPlot(\n",
       "                        '5407af57-76fc-4b8d-80ae-362348019d63',\n",
       "                        [{\"colorbar\": {\"len\": 0.4, \"ticks\": \"outside\", \"title\": {\"text\": \"Review<br>Score\"}, \"x\": 0.98, \"y\": 0.8}, \"colorscale\": [[0.0, \"rgb(247,251,255)\"], [0.125, \"rgb(222,235,247)\"], [0.25, \"rgb(198,219,239)\"], [0.375, \"rgb(158,202,225)\"], [0.5, \"rgb(107,174,214)\"], [0.625, \"rgb(66,146,198)\"], [0.75, \"rgb(33,113,181)\"], [0.875, \"rgb(8,81,156)\"], [1.0, \"rgb(8,48,107)\"]], \"geo\": \"geo\", \"hoverinfo\": \"text\", \"hoverlabel\": {\"namelength\": 0}, \"locationmode\": \"USA-states\", \"locations\": [\"KS\", \"MN\", \"MI\", \"OR\", \"VA\", \"AL\", \"IL\", \"CA\", \"NE\", \"ME\", \"FL\", \"NY\", \"DE\", \"GA\", \"SC\", \"AK\", \"PA\", \"CT\", \"OH\", \"WA\", \"CO\", \"WV\", \"NM\", \"NC\", \"IA\", \"MA\", \"ND\", \"MD\", \"MT\", \"IN\", \"NJ\", \"ID\", \"DC\", \"NV\", \"VT\", \"AZ\", \"MS\", \"HI\", \"WY\", \"NH\", \"WI\", \"RI\", \"UT\", \"KY\", \"TX\", \"AR\", \"SD\", \"TN\", \"LA\", \"OK\", \"MO\"], \"name\": \"Info\", \"text\": [\"State: Kansas<br>Review score: 4.11<br># of reviews: 132\", \"State: Minnesota<br>Review score: 4.1<br># of reviews: 19380\", \"State: Michigan<br>Review score: 4.03<br># of reviews: 83054\", \"State: Oregon<br>Review score: 4.03<br># of reviews: 14889\", \"State: Virginia<br>Review score: 4.0<br># of reviews: 7578\", \"State: Alabama<br>Review score: 4.0<br># of reviews: 328\", \"State: Illinois<br>Review score: 4.0<br># of reviews: 21491\", \"State: California<br>Review score: 4.0<br># of reviews: 81833\", \"State: Nebraska<br>Review score: 3.98<br># of reviews: 6144\", \"State: Maine<br>Review score: 3.98<br># of reviews: 8982\", \"State: Florida<br>Review score: 3.97<br># of reviews: 7373\", \"State: New York<br>Review score: 3.93<br># of reviews: 38440\", \"State: Delaware<br>Review score: 3.92<br># of reviews: 33892\", \"State: Georgia<br>Review score: 3.92<br># of reviews: 109\", \"State: South Carolina<br>Review score: 3.91<br># of reviews: 1749\", \"State: Alaska<br>Review score: 3.87<br># of reviews: 3651\", \"State: Pennsylvania<br>Review score: 3.84<br># of reviews: 4709\", \"State: Connecticut<br>Review score: 3.82<br># of reviews: 253\", \"State: Ohio<br>Review score: 3.81<br># of reviews: 71603\", \"State: Washington<br>Review score: 3.8<br># of reviews: 5782\", \"State: Colorado<br>Review score: 3.8<br># of reviews: 28979\", \"State: West Virginia<br>Review score: 3.79<br># of reviews: 41\", \"State: New Mexico<br>Review score: 3.78<br># of reviews: 23\", \"State: North Carolina<br>Review score: 3.78<br># of reviews: 2531\", \"State: Iowa<br>Review score: 3.77<br># of reviews: 266\", \"State: Massachusetts<br>Review score: 3.77<br># of reviews: 19437\", \"State: North Dakota<br>Review score: 3.74<br># of reviews: 6\", \"State: Maryland<br>Review score: 3.73<br># of reviews: 19607\", \"State: Montana<br>Review score: 3.72<br># of reviews: 3179\", \"State: Indiana<br>Review score: 3.72<br># of reviews: 1290\", \"State: New Jersey<br>Review score: 3.71<br># of reviews: 2645\", \"State: Idaho<br>Review score: 3.71<br># of reviews: 1224\", \"State: District of Columbia<br>Review score: 3.7<br># of reviews: 59\", \"State: Nevada<br>Review score: 3.7<br># of reviews: 448\", \"State: Vermont<br>Review score: 3.69<br># of reviews: 12234\", \"State: Arizona<br>Review score: 3.68<br># of reviews: 797\", \"State: Mississippi<br>Review score: 3.67<br># of reviews: 630\", \"State: Hawaii<br>Review score: 3.65<br># of reviews: 4048\", \"State: Wyoming<br>Review score: 3.62<br># of reviews: 20\", \"State: New Hampshire<br>Review score: 3.6<br># of reviews: 1514\", \"State: Wisconsin<br>Review score: 3.59<br># of reviews: 12923\", \"State: Rhode Island<br>Review score: 3.58<br># of reviews: 313\", \"State: Utah<br>Review score: 3.57<br># of reviews: 1052\", \"State: Kentucky<br>Review score: 3.57<br># of reviews: 588\", \"State: Texas<br>Review score: 3.55<br># of reviews: 7528\", \"State: Arkansas<br>Review score: 3.52<br># of reviews: 276\", \"State: South Dakota<br>Review score: 3.5<br># of reviews: 92\", \"State: Tennessee<br>Review score: 3.49<br># of reviews: 237\", \"State: Louisiana<br>Review score: 3.45<br># of reviews: 4991\", \"State: Oklahoma<br>Review score: 3.09<br># of reviews: 100\", \"State: Missouri<br>Review score: 3.07<br># of reviews: 25067\"], \"type\": \"choropleth\", \"z\": [4.11, 4.1, 4.03, 4.03, 4.0, 4.0, 4.0, 4.0, 3.98, 3.98, 3.97, 3.93, 3.92, 3.92, 3.91, 3.87, 3.84, 3.82, 3.81, 3.8, 3.8, 3.79, 3.78, 3.78, 3.77, 3.77, 3.74, 3.73, 3.72, 3.72, 3.71, 3.71, 3.7, 3.7, 3.69, 3.68, 3.67, 3.65, 3.62, 3.6, 3.59, 3.58, 3.57, 3.57, 3.55, 3.52, 3.5, 3.49, 3.45, 3.09, 3.07]}, {\"geo\": \"geo2\", \"lat\": [null], \"lon\": [null], \"marker\": {\"color\": \"lightgrey\", \"line\": {\"color\": \"rgb(40,40,40)\", \"width\": 0.5}, \"size\": 8}, \"name\": \"1 - 2\", \"showlegend\": true, \"type\": \"scattergeo\", \"visible\": \"legendonly\"}, {\"geo\": \"geo2\", \"hoverinfo\": \"text\", \"lat\": [], \"locationmode\": \"USA-states\", \"lon\": [], \"marker\": {\"color\": \"lightcyan\", \"line\": {\"color\": \"rgb(40,40,40)\", \"width\": 0.5}, \"opacity\": 0.8, \"size\": 8}, \"name\": \"1 - 2\", \"text\": [], \"type\": \"scattergeo\"}, {\"geo\": \"geo2\", \"hoverinfo\": \"text\", \"lat\": [42.6, 43.8, 44.58, 38.74, 34.24], \"locationmode\": \"USA-states\", \"lon\": [-89.64, -91.25, -91.23, -90.3, -116.92], \"marker\": {\"color\": \"rgb(59,59,59)\", \"line\": {\"color\": \"rgb(40,40,40)\", \"width\": 0.5}, \"opacity\": 0.8, \"size\": 8}, \"name\": \"2 - 3\", \"text\": [\"City: Monroe<br>Review score: 2.91<br># of reviews: 1341\", \"City: La Crosse<br>Review score: 2.73<br># of reviews: 409\", \"City: Osseo<br>Review score: 2.67<br># of reviews: 60\", \"City: Saint Louis<br>Review score: 2.58<br># of reviews: 15344\", \"City: Big Bear Lake<br>Review score: 2.32<br># of reviews: 18\"], \"type\": \"scattergeo\"}, {\"geo\": \"geo2\", \"hoverinfo\": \"text\", \"lat\": [41.54, 42.32, 42.37, 42.58, 30.34, 30.29, 41.07, 44.56, 44.96, 29.4, 48.75, 20.85, 42.22, 42.49, 40.66, 25.79, 38.77, 34.61, 42.48, 36.0, 42.39, 42.77, 41.52, 39.71, 40.67, 39.1, 37.73, 41.62, 40.06, 33.87, 40.06, 39.75, 43.12, 43.05, 42.18, 47.66, 39.0, 36.01, 37.38, 41.93, 47.74, 45.71, 35.66, 40.76, 45.2, 39.97, 58.36, 34.14, 33.56, 42.12, 43.16, 37.78, 41.18, 41.25, 38.44, 40.2, 40.88, 42.6, 37.99, 34.24, 33.22, 41.75, 44.66, 40.62, 48.52, 35.66, 40.39, 42.32, 39.28, 29.77, 44.96, 38.13, 36.33, 35.62, 42.25, 41.26, 46.79, 48.3, 43.09, 37.53, 42.53, 39.3, 39.54, 39.48, 46.54, 42.63, 36.83, 48.48, 35.78, 40.16, 42.28, 37.87, 30.32, 42.79, 44.07, 38.57, 43.42, 42.74, 42.93, 39.82, 40.81, 41.51, 43.05, 44.28, 42.88, 46.92, 39.85, 45.78, 40.76, 48.31, 44.1, 40.11, 33.42, 35.21, 45.09, 38.99, 39.27, 44.29, 42.52, 41.23, 42.3, 34.42, 45.04, 39.36, 33.84, 44.43, 41.31, 38.9, 46.25, 35.41, 45.9, 35.59, 30.38, 38.95, 42.61, 43.06, 42.35, 39.29, 37.96, 39.11, 40.29, 43.62, 46.74, 47.69, 32.21, 41.79, 37.78, 40.61, 41.55, 42.49, 45.21, 38.71, 34.28, 40.16, 19.64, 40.44, 33.51, 33.89, 36.73, 39.17, 42.28, 38.05, 48.42, 44.44, 41.82, 40.76, 26.3, 44.43, 37.32, 42.38, 42.28, 34.76, 41.61, 40.7, 41.58, 31.1, 41.14, 34.02, 44.52, 38.68, 43.05, 35.05, 38.56, 41.51, 38.26, 34.8, 44.03, 37.5, 43.95, 43.75, 42.11, 47.24, 40.77, 44.08, 35.94, 34.05, 44.63, 44.51, 29.96, 38.13, 36.39, 19.71, 38.23, 47.25, 35.57, 47.38, 29.62, 41.05, 28.32, 40.37, 41.43, 38.78, 37.78, 34.4, 39.96, 40.93, 28.4, 46.01], \"locationmode\": \"USA-states\", \"lon\": [-87.68, -83.88, -72.53, -72.5, -97.72, -81.39, -81.52, -123.26, -89.62, -98.48, -122.48, -156.65, -85.88, -83.03, -74.28, -80.14, -75.31, -120.2, -72.61, -78.9, -71.04, -71.08, -90.57, -104.95, -74.01, -94.59, -122.5, -79.67, -75.19, -117.93, -105.2, -86.14, -89.35, -88.35, -122.66, -122.31, -95.68, -75.66, -122.03, -74.01, -122.66, -121.51, -105.97, -73.41, -109.25, -83.0, -134.49, -118.77, -81.72, -86.45, -77.58, -122.31, -96.08, -95.93, -122.71, -77.19, -123.99, -76.18, -122.59, -77.95, -117.35, -74.09, -90.18, -111.89, -122.61, -78.85, -79.83, -72.63, -76.57, -95.35, -93.07, -121.27, -119.29, -78.81, -83.18, -70.13, -92.09, -122.65, -89.52, -77.44, -83.14, -85.22, -119.78, -119.79, -87.39, -82.97, -76.3, -120.19, -78.65, -105.12, -78.67, -122.27, -81.64, -86.1, -123.14, -92.16, -73.71, -73.69, -73.35, -82.83, -91.11, -90.52, -76.15, -73.98, -78.85, -114.07, -75.02, -108.5, -73.02, -116.55, -70.22, -76.5, -111.9, -111.52, -93.01, -104.81, -76.8, -90.85, -70.89, -75.87, -85.57, -119.69, -92.83, -77.43, -118.32, -68.99, -105.6, -77.01, -114.16, -80.58, -123.96, -82.56, -89.45, -92.33, -70.67, -71.44, -71.03, -81.53, -121.29, -84.52, -76.88, -116.2, -123.0, -122.15, -110.96, -71.47, -122.23, -75.46, -71.05, -83.14, -123.19, -90.45, -119.29, -76.31, -156.0, -86.13, -112.07, -117.56, -119.79, -86.51, -87.85, -84.52, -122.34, -95.78, -71.42, -111.88, -80.25, -73.22, -121.87, -76.87, -83.75, -92.27, -86.73, -99.08, -93.61, -97.34, -81.47, -86.01, -103.87, -75.38, -87.91, -85.31, -121.48, -90.51, -85.76, -82.42, -71.69, -122.24, -76.12, -122.46, -87.86, -122.44, -74.04, -88.59, -86.83, -118.24, -68.85, -89.57, -90.06, -122.26, -78.98, -155.07, -122.64, -122.25, -97.51, -122.14, -81.19, -75.33, -80.61, -105.53, -78.55, -76.22, -89.33, -119.52, -74.19, -124.1, -80.61, -91.49], \"marker\": {\"color\": \"cornflowerblue\", \"line\": {\"color\": \"rgb(40,40,40)\", \"width\": 0.5}, \"opacity\": 0.8, \"size\": 8}, \"name\": \"3 - 4\", \"text\": [\"City: Flossmoor<br>Review score: 4.0<br># of reviews: 1568\", \"City: Dexter<br>Review score: 3.99<br># of reviews: 4963\", \"City: Amherst<br>Review score: 3.99<br># of reviews: 2710\", \"City: Millers Falls<br>Review score: 3.99<br># of reviews: 161\", \"City: Austin<br>Review score: 3.98<br># of reviews: 390\", \"City: Jacksonville Beach<br>Review score: 3.96<br># of reviews: 20\", \"City: Akron<br>Review score: 3.96<br># of reviews: 5073\", \"City: Corvallis<br>Review score: 3.95<br># of reviews: 213\", \"City: Wausau<br>Review score: 3.95<br># of reviews: 27\", \"City: San Antonio<br>Review score: 3.94<br># of reviews: 368\", \"City: Bellingham<br>Review score: 3.94<br># of reviews: 211\", \"City: Lahaina<br>Review score: 3.94<br># of reviews: 764\", \"City: Paw Paw<br>Review score: 3.94<br># of reviews: 13\", \"City: Warren<br>Review score: 3.94<br># of reviews: 1323\", \"City: Roselle Park<br>Review score: 3.94<br># of reviews: 194\", \"City: Miami Beach<br>Review score: 3.93<br># of reviews: 35\", \"City: Milton<br>Review score: 3.92<br># of reviews: 33800\", \"City: Buellton<br>Review score: 3.92<br># of reviews: 22\", \"City: South Deerfield<br>Review score: 3.92<br># of reviews: 2990\", \"City: Durham<br>Review score: 3.91<br># of reviews: 103\", \"City: Chelsea<br>Review score: 3.9<br># of reviews: 73\", \"City: Haverhill<br>Review score: 3.9<br># of reviews: 882\", \"City: Davenport<br>Review score: 3.9<br># of reviews: 141\", \"City: Denver<br>Review score: 3.9<br># of reviews: 203\", \"City: Brooklyn<br>Review score: 3.9<br># of reviews: 15913\", \"City: Kansas City<br>Review score: 3.89<br># of reviews: 7716\", \"City: San Francisco<br>Review score: 3.89<br># of reviews: 9993\", \"City: Titusville<br>Review score: 3.88<br># of reviews: 13\", \"City: Philadelphia<br>Review score: 3.88<br># of reviews: 109\", \"City: Fullerton<br>Review score: 3.88<br># of reviews: 1130\", \"City: Boulder<br>Review score: 3.88<br># of reviews: 16250\", \"City: Indianapolis<br>Review score: 3.88<br># of reviews: 350\", \"City: Madison<br>Review score: 3.88<br># of reviews: 809\", \"City: Delafield<br>Review score: 3.87<br># of reviews: 51\", \"City: Ashland<br>Review score: 3.87<br># of reviews: 930\", \"City: Seattle<br>Review score: 3.87<br># of reviews: 3731\", \"City: Topeka<br>Review score: 3.87<br># of reviews: 11\", \"City: Kill Devil Hills<br>Review score: 3.86<br># of reviews: 166\", \"City: Sunnyvale<br>Review score: 3.86<br># of reviews: 95\", \"City: Kingston<br>Review score: 3.86<br># of reviews: 434\", \"City: Poulsbo<br>Review score: 3.86<br># of reviews: 18\", \"City: Hood River<br>Review score: 3.86<br># of reviews: 57\", \"City: Santa Fe<br>Review score: 3.85<br># of reviews: 15\", \"City: Farmingdale<br>Review score: 3.85<br># of reviews: 166\", \"City: Red Lodge<br>Review score: 3.84<br># of reviews: 24\", \"City: Columbus<br>Review score: 3.84<br># of reviews: 328\", \"City: Juneau<br>Review score: 3.84<br># of reviews: 3226\", \"City: Agoura Hills<br>Review score: 3.84<br># of reviews: 95\", \"City: Aiken<br>Review score: 3.83<br># of reviews: 19\", \"City: Benton Harbor<br>Review score: 3.83<br># of reviews: 205\", \"City: Rochester<br>Review score: 3.83<br># of reviews: 215\", \"City: Alameda<br>Review score: 3.82<br># of reviews: 58\", \"City: La Vista<br>Review score: 3.82<br># of reviews: 498\", \"City: Omaha<br>Review score: 3.82<br># of reviews: 198\", \"City: Santa Rosa<br>Review score: 3.82<br># of reviews: 74\", \"City: Carlisle<br>Review score: 3.82<br># of reviews: 32\", \"City: Blue Lake<br>Review score: 3.82<br># of reviews: 1968\", \"City: Cortland<br>Review score: 3.82<br># of reviews: 30\", \"City: Fairfax<br>Review score: 3.81<br># of reviews: 158\", \"City: Wilmington<br>Review score: 3.81<br># of reviews: 41\", \"City: Oceanside<br>Review score: 3.81<br># of reviews: 756\", \"City: New Paltz<br>Review score: 3.81<br># of reviews: 89\", \"City: Marshfield<br>Review score: 3.81<br># of reviews: 16\", \"City: Midvale<br>Review score: 3.81<br># of reviews: 78\", \"City: Anacortes<br>Review score: 3.81<br># of reviews: 83\", \"City: Holly Springs<br>Review score: 3.81<br># of reviews: 462\", \"City: North Versailles<br>Review score: 3.8<br># of reviews: 153\", \"City: Northampton<br>Review score: 3.8<br># of reviews: 55\", \"City: Baltimore<br>Review score: 3.8<br># of reviews: 7572\", \"City: Houston<br>Review score: 3.79<br># of reviews: 2881\", \"City: Saint Paul<br>Review score: 3.79<br># of reviews: 586\", \"City: Lodi<br>Review score: 3.79<br># of reviews: 13\", \"City: Visalia<br>Review score: 3.79<br># of reviews: 15\", \"City: Fuquay Varina<br>Review score: 3.78<br># of reviews: 92\", \"City: Lincoln Park<br>Review score: 3.78<br># of reviews: 67\", \"City: Nantucket<br>Review score: 3.78<br># of reviews: 1624\", \"City: Duluth<br>Review score: 3.78<br># of reviews: 126\", \"City: Oak Harbor<br>Review score: 3.78<br># of reviews: 47\", \"City: Middleton<br>Review score: 3.78<br># of reviews: 2039\", \"City: Richmond<br>Review score: 3.77<br># of reviews: 857\", \"City: Clawson<br>Review score: 3.77<br># of reviews: 29\", \"City: Batesville<br>Review score: 3.77<br># of reviews: 11\", \"City: Sparks<br>Review score: 3.77<br># of reviews: 55\", \"City: Reno<br>Review score: 3.77<br># of reviews: 55\", \"City: Marquette<br>Review score: 3.77<br># of reviews: 21\", \"City: Shelby Township<br>Review score: 3.76<br># of reviews: 19\", \"City: Portsmouth<br>Review score: 3.76<br># of reviews: 835\", \"City: Winthrop<br>Review score: 3.76<br># of reviews: 101\", \"City: Raleigh<br>Review score: 3.76<br># of reviews: 514\", \"City: Longmont<br>Review score: 3.75<br># of reviews: 7695\", \"City: Ellicottville<br>Review score: 3.75<br># of reviews: 296\", \"City: Berkeley<br>Review score: 3.75<br># of reviews: 44\", \"City: Jacksonville<br>Review score: 3.75<br># of reviews: 194\", \"City: Holland<br>Review score: 3.75<br># of reviews: 5706\", \"City: Eugene<br>Review score: 3.75<br># of reviews: 335\", \"City: Jefferson City<br>Review score: 3.74<br># of reviews: 20\", \"City: Lake George<br>Review score: 3.74<br># of reviews: 59\", \"City: Troy<br>Review score: 3.74<br># of reviews: 288\", \"City: North Hoosick<br>Review score: 3.74<br># of reviews: 288\", \"City: Canal Winchester<br>Review score: 3.73<br># of reviews: 4033\", \"City: Burlington<br>Review score: 3.73<br># of reviews: 52\", \"City: Moline<br>Review score: 3.73<br># of reviews: 52\", \"City: Syracuse<br>Review score: 3.72<br># of reviews: 134\", \"City: Lake Placid<br>Review score: 3.72<br># of reviews: 585\", \"City: Buffalo<br>Review score: 3.72<br># of reviews: 215\", \"City: Missoula<br>Review score: 3.72<br># of reviews: 2835\", \"City: Somerdale<br>Review score: 3.72<br># of reviews: 2167\", \"City: Billings<br>Review score: 3.71<br># of reviews: 75\", \"City: Patchogue<br>Review score: 3.71<br># of reviews: 2378\", \"City: Ponderay<br>Review score: 3.71<br># of reviews: 1136\", \"City: Lewiston<br>Review score: 3.71<br># of reviews: 164\", \"City: Mount Joy<br>Review score: 3.7<br># of reviews: 79\", \"City: Tempe<br>Review score: 3.7<br># of reviews: 563\", \"City: Flagstaff<br>Review score: 3.7<br># of reviews: 36\", \"City: White Bear Lake<br>Review score: 3.7<br># of reviews: 12\", \"City: Colorado Springs<br>Review score: 3.7<br># of reviews: 547\", \"City: Ellicott City<br>Review score: 3.69<br># of reviews: 52\", \"City: Black River Falls<br>Review score: 3.69<br># of reviews: 744\", \"City: Salem<br>Review score: 3.69<br># of reviews: 99\", \"City: Wilkes Barre<br>Review score: 3.69<br># of reviews: 50\", \"City: Kalamazoo<br>Review score: 3.69<br># of reviews: 3595\", \"City: Santa Barbara<br>Review score: 3.69<br># of reviews: 358\", \"City: Stillwater<br>Review score: 3.68<br># of reviews: 216\", \"City: Frederick<br>Review score: 3.68<br># of reviews: 11905\", \"City: Torrance<br>Review score: 3.68<br># of reviews: 39\", \"City: Belfast<br>Review score: 3.68<br># of reviews: 195\", \"City: Laramie<br>Review score: 3.68<br># of reviews: 12\", \"City: Washington<br>Review score: 3.68<br># of reviews: 93\", \"City: Hamilton<br>Review score: 3.68<br># of reviews: 56\", \"City: Concord<br>Review score: 3.68<br># of reviews: 120\", \"City: Cannon Beach<br>Review score: 3.67<br># of reviews: 21\", \"City: Asheville<br>Review score: 3.67<br># of reviews: 147\", \"City: Kiln<br>Review score: 3.67<br># of reviews: 630\", \"City: Columbia<br>Review score: 3.67<br># of reviews: 81\", \"City: Gloucester<br>Review score: 3.66<br># of reviews: 755\", \"City: Hooksett<br>Review score: 3.66<br># of reviews: 992\", \"City: Boston<br>Review score: 3.66<br># of reviews: 9537\", \"City: Parkersburg<br>Review score: 3.66<br># of reviews: 19\", \"City: Stockton<br>Review score: 3.65<br># of reviews: 105\", \"City: Cincinnati<br>Review score: 3.65<br># of reviews: 38812\", \"City: Harrisburg<br>Review score: 3.65<br># of reviews: 1078\", \"City: Boise<br>Review score: 3.65<br># of reviews: 82\", \"City: Centralia<br>Review score: 3.65<br># of reviews: 673\", \"City: Redmond<br>Review score: 3.64<br># of reviews: 400\", \"City: Tucson<br>Review score: 3.64<br># of reviews: 123\", \"City: Cranston<br>Review score: 3.63<br># of reviews: 13\", \"City: Oakland<br>Review score: 3.63<br># of reviews: 41\", \"City: Allentown<br>Review score: 3.63<br># of reviews: 337\", \"City: Westport<br>Review score: 3.63<br># of reviews: 423\", \"City: Royal Oak<br>Review score: 3.62<br># of reviews: 50\", \"City: McMinnville<br>Review score: 3.62<br># of reviews: 149\", \"City: Maryland Heights<br>Review score: 3.62<br># of reviews: 1667\", \"City: Ventura<br>Review score: 3.62<br># of reviews: 43\", \"City: Lititz<br>Review score: 3.62<br># of reviews: 30\", \"City: Kailua Kona<br>Review score: 3.6<br># of reviews: 2056\", \"City: Kokomo<br>Review score: 3.6<br># of reviews: 27\", \"City: Phoenix<br>Review score: 3.59<br># of reviews: 72\", \"City: Corona<br>Review score: 3.59<br># of reviews: 19\", \"City: Fresno<br>Review score: 3.59<br># of reviews: 18\", \"City: Bloomington<br>Review score: 3.58<br># of reviews: 52\", \"City: Lake Bluff<br>Review score: 3.58<br># of reviews: 14\", \"City: Lexington<br>Review score: 3.58<br># of reviews: 485\", \"City: Mount Vernon<br>Review score: 3.58<br># of reviews: 67\", \"City: Marshall<br>Review score: 3.57<br># of reviews: 618\", \"City: Providence<br>Review score: 3.57<br># of reviews: 300\", \"City: Salt Lake City<br>Review score: 3.57<br># of reviews: 852\", \"City: Coral Springs<br>Review score: 3.56<br># of reviews: 32\", \"City: South Burlington<br>Review score: 3.56<br># of reviews: 8724\", \"City: San Jose<br>Review score: 3.56<br># of reviews: 961\", \"City: Watkins Glen<br>Review score: 3.56<br># of reviews: 72\", \"City: Ann Arbor<br>Review score: 3.55<br># of reviews: 799\", \"City: North Little Rock<br>Review score: 3.55<br># of reviews: 272\", \"City: La Porte<br>Review score: 3.55<br># of reviews: 204\", \"City: Kearney<br>Review score: 3.54<br># of reviews: 43\", \"City: Des Moines<br>Review score: 3.54<br># of reviews: 73\", \"City: Temple<br>Review score: 3.53<br># of reviews: 18\", \"City: Cuyahoga Falls<br>Review score: 3.53<br># of reviews: 61\", \"City: Gadsden<br>Review score: 3.52<br># of reviews: 40\", \"City: Spearfish<br>Review score: 3.52<br># of reviews: 90\", \"City: Georgetown<br>Review score: 3.51<br># of reviews: 92\", \"City: Milwaukee<br>Review score: 3.51<br># of reviews: 3100\", \"City: Chattanooga<br>Review score: 3.51<br># of reviews: 164\", \"City: Sacramento<br>Review score: 3.5<br># of reviews: 167\", \"City: Rock Island<br>Review score: 3.49<br># of reviews: 44\", \"City: Louisville<br>Review score: 3.49<br># of reviews: 100\", \"City: Greenville<br>Review score: 3.48<br># of reviews: 632\", \"City: North Woodstock<br>Review score: 3.48<br># of reviews: 431\", \"City: San Carlos<br>Review score: 3.47<br># of reviews: 28\", \"City: Sackets Harbor<br>Review score: 3.47<br># of reviews: 48\", \"City: Oakridge<br>Review score: 3.46<br># of reviews: 12\", \"City: Northbrook<br>Review score: 3.45<br># of reviews: 65\", \"City: Tacoma<br>Review score: 3.45<br># of reviews: 50\", \"City: North Bergen<br>Review score: 3.45<br># of reviews: 38\", \"City: Oshkosh<br>Review score: 3.45<br># of reviews: 14\", \"City: Franklin<br>Review score: 3.44<br># of reviews: 69\", \"City: Los Angeles<br>Review score: 3.42<br># of reviews: 176\", \"City: Winterport<br>Review score: 3.42<br># of reviews: 34\", \"City: Stevens Point<br>Review score: 3.41<br># of reviews: 1424\", \"City: New Orleans<br>Review score: 3.4<br># of reviews: 18\", \"City: Vallejo<br>Review score: 3.38<br># of reviews: 296\", \"City: Roxboro<br>Review score: 3.37<br># of reviews: 72\", \"City: Hilo<br>Review score: 3.36<br># of reviews: 59\", \"City: Petaluma<br>Review score: 3.33<br># of reviews: 18\", \"City: Pacific<br>Review score: 3.32<br># of reviews: 159\", \"City: Oklahoma City<br>Review score: 3.31<br># of reviews: 47\", \"City: Kent<br>Review score: 3.31<br># of reviews: 22\", \"City: Palm Coast<br>Review score: 3.27<br># of reviews: 89\", \"City: Tannersville<br>Review score: 3.27<br># of reviews: 140\", \"City: Cocoa Beach<br>Review score: 3.26<br># of reviews: 32\", \"City: Estes Park<br>Review score: 3.24<br># of reviews: 99\", \"City: Saint Marys<br>Review score: 3.22<br># of reviews: 182\", \"City: Saint Michaels<br>Review score: 3.19<br># of reviews: 13\", \"City: Murphysboro<br>Review score: 3.19<br># of reviews: 40\", \"City: Carpinteria<br>Review score: 3.18<br># of reviews: 91\", \"City: Toms River<br>Review score: 3.17<br># of reviews: 28\", \"City: McKinleyville<br>Review score: 3.12<br># of reviews: 100\", \"City: Cape Canaveral<br>Review score: 3.09<br># of reviews: 496\", \"City: Hayward<br>Review score: 3.08<br># of reviews: 1257\"], \"type\": \"scattergeo\"}, {\"geo\": \"geo2\", \"hoverinfo\": \"text\", \"lat\": [44.78, 45.04, 45.05, 42.95, 40.41, 38.61, 42.28, 38.94, 32.92, 42.34, 37.44, 39.75, 61.22, 33.83, 33.76, 41.05, 44.94, 44.06, 41.03, 27.96, 41.5, 42.55, 40.77, 40.46, 46.59, 45.53, 42.75, 45.04, 41.24, 41.69, 39.33, 35.19, 40.81, 41.54], \"locationmode\": \"USA-states\", \"lon\": [-117.83, -93.32, -93.27, -85.68, -74.04, -122.87, -71.41, -95.28, -117.11, -83.06, -79.91, -105.22, -149.84, -117.91, -118.15, -76.24, -93.34, -121.31, -73.84, -82.51, -81.5, -83.2, -80.32, -79.91, -112.04, -122.69, -74.86, -93.2, -77.05, -87.61, -82.1, -80.88, -96.7, -87.68], \"marker\": {\"color\": \"rgb(241,105,19)\", \"line\": {\"color\": \"rgb(40,40,40)\", \"width\": 0.5}, \"opacity\": 0.8, \"size\": 8}, \"name\": \"4 - 5\", \"text\": [\"City: Baker City<br>Review score: 4.25<br># of reviews: 36\", \"City: Brooklyn Ctr<br>Review score: 4.22<br># of reviews: 6212\", \"City: Minneapolis<br>Review score: 4.21<br># of reviews: 8971\", \"City: Grand Rapids<br>Review score: 4.18<br># of reviews: 20101\", \"City: Atlantic Highlands<br>Review score: 4.15<br># of reviews: 14\", \"City: Healdsburg<br>Review score: 4.15<br># of reviews: 7816\", \"City: Framingham<br>Review score: 4.15<br># of reviews: 59\", \"City: Lawrence<br>Review score: 4.14<br># of reviews: 121\", \"City: San Diego<br>Review score: 4.12<br># of reviews: 24634\", \"City: Detroit<br>Review score: 4.12<br># of reviews: 21384\", \"City: Daleville<br>Review score: 4.11<br># of reviews: 4952\", \"City: Golden<br>Review score: 4.11<br># of reviews: 35\", \"City: Anchorage<br>Review score: 4.11<br># of reviews: 425\", \"City: Anaheim<br>Review score: 4.1<br># of reviews: 5086\", \"City: Long Beach<br>Review score: 4.1<br># of reviews: 5100\", \"City: Berwick<br>Review score: 4.08<br># of reviews: 62\", \"City: St Louis Park<br>Review score: 4.08<br># of reviews: 79\", \"City: Bend<br>Review score: 4.08<br># of reviews: 11502\", \"City: Elmsford<br>Review score: 4.06<br># of reviews: 2696\", \"City: Tampa<br>Review score: 4.06<br># of reviews: 6435\", \"City: Cleveland<br>Review score: 4.05<br># of reviews: 21965\", \"City: Birmingham<br>Review score: 4.05<br># of reviews: 359\", \"City: Beaver Falls<br>Review score: 4.04<br># of reviews: 48\", \"City: Pittsburgh<br>Review score: 4.04<br># of reviews: 948\", \"City: Helena<br>Review score: 4.04<br># of reviews: 35\", \"City: Portland<br>Review score: 4.04<br># of reviews: 8636\", \"City: Cooperstown<br>Review score: 4.03<br># of reviews: 9899\", \"City: New Brighton<br>Review score: 4.03<br># of reviews: 231\", \"City: Williamsport<br>Review score: 4.03<br># of reviews: 900\", \"City: Chicago<br>Review score: 4.02<br># of reviews: 19511\", \"City: Athens<br>Review score: 4.02<br># of reviews: 1297\", \"City: Charlotte<br>Review score: 4.01<br># of reviews: 142\", \"City: Lincoln<br>Review score: 4.01<br># of reviews: 5405\", \"City: Flossmoor<br>Review score: 4.0<br># of reviews: 1568\"], \"type\": \"scattergeo\"}],\n",
       "                        {\"annotations\": [{\"font\": {\"size\": 16}, \"showarrow\": false, \"text\": \"Average Beer Rating by State<br>(Hover for more info)\", \"x\": 0.5, \"xanchor\": \"center\", \"xref\": \"paper\", \"y\": 1.0, \"yanchor\": \"bottom\", \"yref\": \"paper\"}, {\"font\": {\"size\": 16}, \"showarrow\": false, \"text\": \"Average Beer Rating by City<br>(Click on legend to toggle ratings)\", \"x\": 0.5, \"xanchor\": \"center\", \"xref\": \"paper\", \"y\": 0.44, \"yanchor\": \"bottom\", \"yref\": \"paper\"}], \"geo\": {\"domain\": {\"x\": [0.0, 1.0], \"y\": [0.56, 1.0]}, \"lakecolor\": \"rgb(255, 255, 255)\", \"projection\": {\"type\": \"albers usa\"}, \"scope\": \"usa\", \"showlakes\": true}, \"geo2\": {\"domain\": {\"x\": [0.0, 1.0], \"y\": [0.0, 0.44]}, \"scope\": \"usa\"}, \"height\": 1000, \"legend\": {\"title\": {\"text\": \"Review Score\"}, \"x\": 0.95, \"y\": 0.15}, \"template\": {\"data\": {\"bar\": [{\"error_x\": {\"color\": \"#2a3f5f\"}, \"error_y\": {\"color\": \"#2a3f5f\"}, \"marker\": {\"line\": {\"color\": \"#E5ECF6\", \"width\": 0.5}}, \"type\": \"bar\"}], \"barpolar\": [{\"marker\": {\"line\": {\"color\": \"#E5ECF6\", \"width\": 0.5}}, \"type\": \"barpolar\"}], \"carpet\": [{\"aaxis\": {\"endlinecolor\": \"#2a3f5f\", \"gridcolor\": \"white\", \"linecolor\": \"white\", \"minorgridcolor\": \"white\", \"startlinecolor\": \"#2a3f5f\"}, \"baxis\": {\"endlinecolor\": \"#2a3f5f\", \"gridcolor\": \"white\", \"linecolor\": \"white\", \"minorgridcolor\": \"white\", \"startlinecolor\": \"#2a3f5f\"}, \"type\": \"carpet\"}], \"choropleth\": [{\"colorbar\": {\"outlinewidth\": 0, \"ticks\": \"\"}, \"type\": \"choropleth\"}], \"contour\": [{\"colorbar\": {\"outlinewidth\": 0, \"ticks\": \"\"}, \"colorscale\": [[0.0, \"#0d0887\"], [0.1111111111111111, \"#46039f\"], [0.2222222222222222, \"#7201a8\"], [0.3333333333333333, \"#9c179e\"], [0.4444444444444444, \"#bd3786\"], [0.5555555555555556, \"#d8576b\"], [0.6666666666666666, \"#ed7953\"], [0.7777777777777778, \"#fb9f3a\"], [0.8888888888888888, \"#fdca26\"], [1.0, \"#f0f921\"]], \"type\": \"contour\"}], \"contourcarpet\": [{\"colorbar\": {\"outlinewidth\": 0, \"ticks\": \"\"}, \"type\": \"contourcarpet\"}], \"heatmap\": [{\"colorbar\": {\"outlinewidth\": 0, \"ticks\": \"\"}, \"colorscale\": [[0.0, \"#0d0887\"], [0.1111111111111111, \"#46039f\"], [0.2222222222222222, \"#7201a8\"], [0.3333333333333333, \"#9c179e\"], [0.4444444444444444, \"#bd3786\"], [0.5555555555555556, \"#d8576b\"], [0.6666666666666666, \"#ed7953\"], [0.7777777777777778, \"#fb9f3a\"], [0.8888888888888888, \"#fdca26\"], [1.0, \"#f0f921\"]], \"type\": \"heatmap\"}], \"heatmapgl\": [{\"colorbar\": {\"outlinewidth\": 0, \"ticks\": \"\"}, \"colorscale\": [[0.0, \"#0d0887\"], [0.1111111111111111, \"#46039f\"], [0.2222222222222222, \"#7201a8\"], [0.3333333333333333, \"#9c179e\"], [0.4444444444444444, \"#bd3786\"], [0.5555555555555556, \"#d8576b\"], [0.6666666666666666, \"#ed7953\"], [0.7777777777777778, \"#fb9f3a\"], [0.8888888888888888, \"#fdca26\"], [1.0, \"#f0f921\"]], \"type\": \"heatmapgl\"}], \"histogram\": [{\"marker\": {\"colorbar\": {\"outlinewidth\": 0, \"ticks\": \"\"}}, \"type\": \"histogram\"}], \"histogram2d\": [{\"colorbar\": {\"outlinewidth\": 0, \"ticks\": \"\"}, \"colorscale\": [[0.0, \"#0d0887\"], [0.1111111111111111, \"#46039f\"], [0.2222222222222222, \"#7201a8\"], [0.3333333333333333, \"#9c179e\"], [0.4444444444444444, \"#bd3786\"], [0.5555555555555556, \"#d8576b\"], [0.6666666666666666, \"#ed7953\"], [0.7777777777777778, \"#fb9f3a\"], [0.8888888888888888, \"#fdca26\"], [1.0, \"#f0f921\"]], \"type\": \"histogram2d\"}], \"histogram2dcontour\": [{\"colorbar\": {\"outlinewidth\": 0, \"ticks\": \"\"}, \"colorscale\": [[0.0, \"#0d0887\"], [0.1111111111111111, \"#46039f\"], [0.2222222222222222, \"#7201a8\"], [0.3333333333333333, \"#9c179e\"], [0.4444444444444444, \"#bd3786\"], [0.5555555555555556, \"#d8576b\"], [0.6666666666666666, \"#ed7953\"], [0.7777777777777778, \"#fb9f3a\"], [0.8888888888888888, \"#fdca26\"], [1.0, \"#f0f921\"]], \"type\": \"histogram2dcontour\"}], \"mesh3d\": [{\"colorbar\": {\"outlinewidth\": 0, \"ticks\": \"\"}, \"type\": \"mesh3d\"}], \"parcoords\": [{\"line\": {\"colorbar\": {\"outlinewidth\": 0, \"ticks\": \"\"}}, \"type\": \"parcoords\"}], \"pie\": [{\"automargin\": true, \"type\": \"pie\"}], \"scatter\": [{\"marker\": {\"colorbar\": {\"outlinewidth\": 0, \"ticks\": \"\"}}, \"type\": \"scatter\"}], \"scatter3d\": [{\"line\": {\"colorbar\": {\"outlinewidth\": 0, \"ticks\": \"\"}}, \"marker\": {\"colorbar\": {\"outlinewidth\": 0, \"ticks\": \"\"}}, \"type\": \"scatter3d\"}], \"scattercarpet\": [{\"marker\": {\"colorbar\": {\"outlinewidth\": 0, \"ticks\": \"\"}}, \"type\": \"scattercarpet\"}], \"scattergeo\": [{\"marker\": {\"colorbar\": {\"outlinewidth\": 0, \"ticks\": \"\"}}, \"type\": \"scattergeo\"}], \"scattergl\": [{\"marker\": {\"colorbar\": {\"outlinewidth\": 0, \"ticks\": \"\"}}, \"type\": \"scattergl\"}], \"scattermapbox\": [{\"marker\": {\"colorbar\": {\"outlinewidth\": 0, \"ticks\": \"\"}}, \"type\": \"scattermapbox\"}], \"scatterpolar\": [{\"marker\": {\"colorbar\": {\"outlinewidth\": 0, \"ticks\": \"\"}}, \"type\": \"scatterpolar\"}], \"scatterpolargl\": [{\"marker\": {\"colorbar\": {\"outlinewidth\": 0, \"ticks\": \"\"}}, \"type\": \"scatterpolargl\"}], \"scatterternary\": [{\"marker\": {\"colorbar\": {\"outlinewidth\": 0, \"ticks\": \"\"}}, \"type\": \"scatterternary\"}], \"surface\": [{\"colorbar\": {\"outlinewidth\": 0, \"ticks\": \"\"}, \"colorscale\": [[0.0, \"#0d0887\"], [0.1111111111111111, \"#46039f\"], [0.2222222222222222, \"#7201a8\"], [0.3333333333333333, \"#9c179e\"], [0.4444444444444444, \"#bd3786\"], [0.5555555555555556, \"#d8576b\"], [0.6666666666666666, \"#ed7953\"], [0.7777777777777778, \"#fb9f3a\"], [0.8888888888888888, \"#fdca26\"], [1.0, \"#f0f921\"]], \"type\": \"surface\"}], \"table\": [{\"cells\": {\"fill\": {\"color\": \"#EBF0F8\"}, \"line\": {\"color\": \"white\"}}, \"header\": {\"fill\": {\"color\": \"#C8D4E3\"}, \"line\": {\"color\": \"white\"}}, \"type\": \"table\"}]}, \"layout\": {\"annotationdefaults\": {\"arrowcolor\": \"#2a3f5f\", \"arrowhead\": 0, \"arrowwidth\": 1}, \"coloraxis\": {\"colorbar\": {\"outlinewidth\": 0, \"ticks\": \"\"}}, \"colorscale\": {\"diverging\": [[0, \"#8e0152\"], [0.1, \"#c51b7d\"], [0.2, \"#de77ae\"], [0.3, \"#f1b6da\"], [0.4, \"#fde0ef\"], [0.5, \"#f7f7f7\"], [0.6, \"#e6f5d0\"], [0.7, \"#b8e186\"], [0.8, \"#7fbc41\"], [0.9, \"#4d9221\"], [1, \"#276419\"]], \"sequential\": [[0.0, \"#0d0887\"], [0.1111111111111111, \"#46039f\"], [0.2222222222222222, \"#7201a8\"], [0.3333333333333333, \"#9c179e\"], [0.4444444444444444, \"#bd3786\"], [0.5555555555555556, \"#d8576b\"], [0.6666666666666666, \"#ed7953\"], [0.7777777777777778, \"#fb9f3a\"], [0.8888888888888888, \"#fdca26\"], [1.0, \"#f0f921\"]], \"sequentialminus\": [[0.0, \"#0d0887\"], [0.1111111111111111, \"#46039f\"], [0.2222222222222222, \"#7201a8\"], [0.3333333333333333, \"#9c179e\"], [0.4444444444444444, \"#bd3786\"], [0.5555555555555556, \"#d8576b\"], [0.6666666666666666, \"#ed7953\"], [0.7777777777777778, \"#fb9f3a\"], [0.8888888888888888, \"#fdca26\"], [1.0, \"#f0f921\"]]}, \"colorway\": [\"#636efa\", \"#EF553B\", \"#00cc96\", \"#ab63fa\", \"#FFA15A\", \"#19d3f3\", \"#FF6692\", \"#B6E880\", \"#FF97FF\", \"#FECB52\"], \"font\": {\"color\": \"#2a3f5f\"}, \"geo\": {\"bgcolor\": \"white\", \"lakecolor\": \"white\", \"landcolor\": \"#E5ECF6\", \"showlakes\": true, \"showland\": true, \"subunitcolor\": \"white\"}, \"hoverlabel\": {\"align\": \"left\"}, \"hovermode\": \"closest\", \"mapbox\": {\"style\": \"light\"}, \"paper_bgcolor\": \"white\", \"plot_bgcolor\": \"#E5ECF6\", \"polar\": {\"angularaxis\": {\"gridcolor\": \"white\", \"linecolor\": \"white\", \"ticks\": \"\"}, \"bgcolor\": \"#E5ECF6\", \"radialaxis\": {\"gridcolor\": \"white\", \"linecolor\": \"white\", \"ticks\": \"\"}}, \"scene\": {\"xaxis\": {\"backgroundcolor\": \"#E5ECF6\", \"gridcolor\": \"white\", \"gridwidth\": 2, \"linecolor\": \"white\", \"showbackground\": true, \"ticks\": \"\", \"zerolinecolor\": \"white\"}, \"yaxis\": {\"backgroundcolor\": \"#E5ECF6\", \"gridcolor\": \"white\", \"gridwidth\": 2, \"linecolor\": \"white\", \"showbackground\": true, \"ticks\": \"\", \"zerolinecolor\": \"white\"}, \"zaxis\": {\"backgroundcolor\": \"#E5ECF6\", \"gridcolor\": \"white\", \"gridwidth\": 2, \"linecolor\": \"white\", \"showbackground\": true, \"ticks\": \"\", \"zerolinecolor\": \"white\"}}, \"shapedefaults\": {\"line\": {\"color\": \"#2a3f5f\"}}, \"ternary\": {\"aaxis\": {\"gridcolor\": \"white\", \"linecolor\": \"white\", \"ticks\": \"\"}, \"baxis\": {\"gridcolor\": \"white\", \"linecolor\": \"white\", \"ticks\": \"\"}, \"bgcolor\": \"#E5ECF6\", \"caxis\": {\"gridcolor\": \"white\", \"linecolor\": \"white\", \"ticks\": \"\"}}, \"title\": {\"x\": 0.05}, \"xaxis\": {\"automargin\": true, \"gridcolor\": \"white\", \"linecolor\": \"white\", \"ticks\": \"\", \"title\": {\"standoff\": 15}, \"zerolinecolor\": \"white\", \"zerolinewidth\": 2}, \"yaxis\": {\"automargin\": true, \"gridcolor\": \"white\", \"linecolor\": \"white\", \"ticks\": \"\", \"title\": {\"standoff\": 15}, \"zerolinecolor\": \"white\", \"zerolinewidth\": 2}}}},\n",
       "                        {\"responsive\": true}\n",
       "                    ).then(function(){\n",
       "                            \n",
       "var gd = document.getElementById('5407af57-76fc-4b8d-80ae-362348019d63');\n",
       "var x = new MutationObserver(function (mutations, observer) {{\n",
       "        var display = window.getComputedStyle(gd).display;\n",
       "        if (!display || display === 'none') {{\n",
       "            console.log([gd, 'removed!']);\n",
       "            Plotly.purge(gd);\n",
       "            observer.disconnect();\n",
       "        }}\n",
       "}});\n",
       "\n",
       "// Listen for the removal of the full notebook cells\n",
       "var notebookContainer = gd.closest('#notebook-container');\n",
       "if (notebookContainer) {{\n",
       "    x.observe(notebookContainer, {childList: true});\n",
       "}}\n",
       "\n",
       "// Listen for the clearing of the current output cell\n",
       "var outputEl = gd.closest('.output');\n",
       "if (outputEl) {{\n",
       "    x.observe(outputEl, {childList: true});\n",
       "}}\n",
       "\n",
       "                        })\n",
       "                };\n",
       "                });\n",
       "            </script>\n",
       "        </div>"
      ]
     },
     "metadata": {},
     "output_type": "display_data"
    }
   ],
   "source": [
    "fig = make_subplots(\n",
    "    rows=2, cols=1,\n",
    "    specs=[[{'type':'choropleth'}], [{'type':'scattergeo'}]],\n",
    "    subplot_titles=['Average Beer Rating by State<br>(Hover for more info)',\n",
    "                   'Average Beer Rating by City<br>(Click on legend to toggle ratings)'],\n",
    "    vertical_spacing=0.12)\n",
    "\n",
    "# states\n",
    "fig.add_trace(go.Choropleth(\n",
    "    locations = top_states['state_code'],\n",
    "    z = top_states['mean'],\n",
    "    locationmode = 'USA-states',\n",
    "    text = 'State: ' + top_states['state']+'<br>'+\\\n",
    "            'Review score: ' + top_states['mean'].astype(str)+'<br>'+\\\n",
    "            '# of reviews: ' + top_states['count'].astype(str),\n",
    "    hoverlabel_namelength = 0,\n",
    "    hoverinfo = 'text',\n",
    "    name = 'Info',\n",
    "    colorscale = 'Blues',\n",
    "    colorbar = dict(\n",
    "        ticks='outside',\n",
    "        title = 'Review<br>Score',\n",
    "        len = 0.4,\n",
    "        x=0.98,\n",
    "        y=0.8\n",
    "        )), row=1, col=1)\n",
    "\n",
    "# cities\n",
    "limits = [1,2,3,4]\n",
    "colors = ['lightcyan', 'rgb(59,59,59)', 'cornflowerblue', 'rgb(241,105,19)']\n",
    "\n",
    "# trace for dummy data, used to populate a 1-2 marker in the legend. \n",
    "df_1_2 = top_cities.query(\"city == 'Dummy row'\")    \n",
    "fig.add_trace(go.Scattergeo(\n",
    "    name = '1 - 2',\n",
    "    visible = 'legendonly',\n",
    "    showlegend = True,\n",
    "    lon = df_1_2['longitude'],\n",
    "    lat = df_1_2['latitude'],\n",
    "    marker = dict(\n",
    "        color = 'lightgrey',\n",
    "        line_color = 'rgb(40,40,40)',\n",
    "        line_width = 0.5,\n",
    "        size = 8)), row=2, col=1)\n",
    "\n",
    "# city review data\n",
    "for i in range(len(limits)):\n",
    "    df_sub = top_cities[top_cities['mean'].between(i+1, i+2)]\n",
    "    df_sub['count'] = df_sub['count'].astype(int)\n",
    "    fig.add_trace(go.Scattergeo(\n",
    "        locationmode = 'USA-states',\n",
    "        lon = df_sub['longitude'],\n",
    "        lat = df_sub['latitude'],\n",
    "        text = 'City: ' + df_sub['city'] +'<br>'+\\\n",
    "                'Review score: '+ df_sub['mean'].astype(str)+'<br>'+\\\n",
    "                '# of reviews: '+ df_sub['count'].astype(str),\n",
    "        hoverinfo = 'text',\n",
    "        name = f'{i+1} - {i+2}',\n",
    "        marker = dict(\n",
    "            color = colors[i],\n",
    "            opacity = 0.8,\n",
    "            size = 8,\n",
    "            line_color = 'rgb(40,40,40)',\n",
    "            line_width = 0.5)), row=2, col=1)\n",
    "\n",
    "fig.update_layout(\n",
    "    geo = dict(\n",
    "        scope = 'usa',\n",
    "        projection = go.layout.geo.Projection(type = 'albers usa'),\n",
    "        showlakes=True,\n",
    "        lakecolor='rgb(255, 255, 255)'),\n",
    "    height=1000,\n",
    "    legend = dict(\n",
    "            title = 'Review Score',\n",
    "            x = 0.95,\n",
    "            y = 0.15),\n",
    "    **{'geo2_scope': 'usa'}\n",
    ")"
   ]
  },
  {
   "cell_type": "markdown",
   "metadata": {},
   "source": [
    "-------"
   ]
  },
  {
   "cell_type": "markdown",
   "metadata": {},
   "source": [
    "### Multivariate"
   ]
  },
  {
   "cell_type": "code",
   "execution_count": 271,
   "metadata": {},
   "outputs": [],
   "source": [
    "top25_upper_abv = pd.read_csv('export_csv/upper_abv.csv')\n",
    "top25_median_abv = pd.read_csv('export_csv/median_abv.csv')\n",
    "top25_lower_abv = pd.read_csv('export_csv/lower_abv.csv')"
   ]
  },
  {
   "cell_type": "code",
   "execution_count": 280,
   "metadata": {},
   "outputs": [
    {
     "data": {
      "application/vnd.jupyter.widget-view+json": {
       "model_id": "4e406cc98ad949ea877631afe29a300a",
       "version_major": 2,
       "version_minor": 0
      },
      "text/plain": [
       "interactive(children=(Dropdown(description='quartile', options=('Top Rated High ABV Beer', 'Top Rated Median A…"
      ]
     },
     "metadata": {},
     "output_type": "display_data"
    },
    {
     "data": {
      "text/plain": [
       "<function __main__.f(quartile)>"
      ]
     },
     "execution_count": 280,
     "metadata": {},
     "output_type": "execute_result"
    }
   ],
   "source": [
    "def f(quartile):\n",
    "    plt.figure(figsize=(12,15))\n",
    "    sns.set_theme(style='darkgrid')\n",
    "    # upper quartile\n",
    "    if quartile == 'Top Rated High ABV Beer':\n",
    "        upperqrt_abv = beer_df_clean.query('beer_abv >= 8')\n",
    "        ax = sns.pointplot(data=upperqrt_abv, x='weighted_review', y='beer_name', order=top25_upper_abv.beer_name)\n",
    "        plt.grid(True)\n",
    "        plt.title('Top Rated High ABV Beers', fontsize=18, weight='bold', pad=20)\n",
    "        plt.ylabel('Beer Name', fontsize=16, weight='bold', labelpad=15)\n",
    "        plt.xlabel('Average Review Score', fontsize=16, weight='bold', labelpad=20)\n",
    "        # edit ytick labels to show ABV value\n",
    "        upper_abv = top25_upper_abv.beer_abv.tolist()\n",
    "        labels_upper = [item.get_text() for item in ax.get_yticklabels()]\n",
    "        labels_upper_abv = [f'{label} [{upper_abv[i]} ABV]' for i, label in enumerate(labels_upper)]\n",
    "        ax.set_yticklabels(labels_upper_abv, fontsize=12.5);\n",
    "    # median quartile\n",
    "    elif quartile == 'Top Rated Median ABV Beer':\n",
    "        medianqrt_abv = beer_df_clean.query('5.2 < beer_abv < 8.0')\n",
    "        ax=sns.pointplot(data=medianqrt_abv, x='weighted_review', y='beer_name', order=top25_median_abv.beer_name)\n",
    "        plt.grid(True)\n",
    "        plt.title('Top Rated Median ABV Beers', fontsize=18, weight='bold', pad=20)\n",
    "        plt.ylabel('Beer Name', fontsize=16, weight='bold', labelpad=15)\n",
    "        plt.xlabel('Average Review Score', fontsize=16, weight='bold', labelpad=20)\n",
    "        median_abv = top25_median_abv.beer_abv.tolist()\n",
    "        labels_median = [item.get_text() for item in ax.get_yticklabels()]\n",
    "        labels_median_abv = [f'{label} [{median_abv[i]} ABV]' for i, label in enumerate(labels_median)]\n",
    "        ax.set_yticklabels(labels_median_abv, fontsize=12.5)\n",
    "    # lower quartile\n",
    "    elif quartile == 'Top Rated Low ABV Beer':\n",
    "        lowerqrt_abv = beer_df_clean.query('beer_abv <= 5.2')\n",
    "        ax = sns.pointplot(data=lowerqrt_abv, x='weighted_review', y='beer_name', order=top25_lower_abv.beer_name)\n",
    "        plt.grid(True)\n",
    "        plt.title('Top Rated Low ABV Beers', fontsize=18, weight='bold', pad=20)\n",
    "        plt.ylabel('Beer Name', fontsize=16, weight='bold', labelpad=15)\n",
    "        plt.xlabel('Average Rating', fontsize=16, weight='bold', labelpad=20)\n",
    "        lower_abv = top25_lower_abv.beer_abv.tolist()\n",
    "        labels_lower = [item.get_text() for item in ax.get_yticklabels()]\n",
    "        labels_low_abv = [f'{label} [{lower_abv[i]} ABV]' for i, label in enumerate(labels_lower)]\n",
    "        ax.set_yticklabels(labels_low_abv, fontsize=12.5);\n",
    "    \n",
    "    \n",
    "quartiles = ['Top Rated High ABV Beer', 'Top Rated Median ABV Beer', 'Top Rated Low ABV Beer']\n",
    "widgets.interact(f, quartile=quartiles)"
   ]
  },
  {
   "cell_type": "markdown",
   "metadata": {},
   "source": [
    "--------"
   ]
  },
  {
   "cell_type": "markdown",
   "metadata": {},
   "source": [
    "### Correlations"
   ]
  },
  {
   "cell_type": "code",
   "execution_count": 281,
   "metadata": {},
   "outputs": [
    {
     "data": {
      "text/html": [
       "<style  type=\"text/css\" >\n",
       "    #T_6081a2c6_2d9e_11eb_91f1_3c58c2813c23row0_col0 {\n",
       "            background-color:  #08306b;\n",
       "            color:  #f1f1f1;\n",
       "        }    #T_6081a2c6_2d9e_11eb_91f1_3c58c2813c23row0_col1 {\n",
       "            background-color:  #f7fbff;\n",
       "            color:  #000000;\n",
       "        }    #T_6081a2c6_2d9e_11eb_91f1_3c58c2813c23row0_col2 {\n",
       "            background-color:  #f7fbff;\n",
       "            color:  #000000;\n",
       "        }    #T_6081a2c6_2d9e_11eb_91f1_3c58c2813c23row0_col3 {\n",
       "            background-color:  #f7fbff;\n",
       "            color:  #000000;\n",
       "        }    #T_6081a2c6_2d9e_11eb_91f1_3c58c2813c23row0_col4 {\n",
       "            background-color:  #f7fbff;\n",
       "            color:  #000000;\n",
       "        }    #T_6081a2c6_2d9e_11eb_91f1_3c58c2813c23row0_col5 {\n",
       "            background-color:  #f7fbff;\n",
       "            color:  #000000;\n",
       "        }    #T_6081a2c6_2d9e_11eb_91f1_3c58c2813c23row0_col6 {\n",
       "            background-color:  #f7fbff;\n",
       "            color:  #000000;\n",
       "        }    #T_6081a2c6_2d9e_11eb_91f1_3c58c2813c23row1_col0 {\n",
       "            background-color:  #d1e2f3;\n",
       "            color:  #000000;\n",
       "        }    #T_6081a2c6_2d9e_11eb_91f1_3c58c2813c23row1_col1 {\n",
       "            background-color:  #08306b;\n",
       "            color:  #f1f1f1;\n",
       "        }    #T_6081a2c6_2d9e_11eb_91f1_3c58c2813c23row1_col2 {\n",
       "            background-color:  #0d57a1;\n",
       "            color:  #f1f1f1;\n",
       "        }    #T_6081a2c6_2d9e_11eb_91f1_3c58c2813c23row1_col3 {\n",
       "            background-color:  #1f6eb3;\n",
       "            color:  #f1f1f1;\n",
       "        }    #T_6081a2c6_2d9e_11eb_91f1_3c58c2813c23row1_col4 {\n",
       "            background-color:  #6aaed6;\n",
       "            color:  #000000;\n",
       "        }    #T_6081a2c6_2d9e_11eb_91f1_3c58c2813c23row1_col5 {\n",
       "            background-color:  #2777b8;\n",
       "            color:  #000000;\n",
       "        }    #T_6081a2c6_2d9e_11eb_91f1_3c58c2813c23row1_col6 {\n",
       "            background-color:  #084285;\n",
       "            color:  #f1f1f1;\n",
       "        }    #T_6081a2c6_2d9e_11eb_91f1_3c58c2813c23row2_col0 {\n",
       "            background-color:  #f7fbff;\n",
       "            color:  #000000;\n",
       "        }    #T_6081a2c6_2d9e_11eb_91f1_3c58c2813c23row2_col1 {\n",
       "            background-color:  #1561a9;\n",
       "            color:  #f1f1f1;\n",
       "        }    #T_6081a2c6_2d9e_11eb_91f1_3c58c2813c23row2_col2 {\n",
       "            background-color:  #08306b;\n",
       "            color:  #f1f1f1;\n",
       "        }    #T_6081a2c6_2d9e_11eb_91f1_3c58c2813c23row2_col3 {\n",
       "            background-color:  #8dc1dd;\n",
       "            color:  #000000;\n",
       "        }    #T_6081a2c6_2d9e_11eb_91f1_3c58c2813c23row2_col4 {\n",
       "            background-color:  #b3d3e8;\n",
       "            color:  #000000;\n",
       "        }    #T_6081a2c6_2d9e_11eb_91f1_3c58c2813c23row2_col5 {\n",
       "            background-color:  #56a0ce;\n",
       "            color:  #000000;\n",
       "        }    #T_6081a2c6_2d9e_11eb_91f1_3c58c2813c23row2_col6 {\n",
       "            background-color:  #2f7fbc;\n",
       "            color:  #000000;\n",
       "        }    #T_6081a2c6_2d9e_11eb_91f1_3c58c2813c23row3_col0 {\n",
       "            background-color:  #caddf0;\n",
       "            color:  #000000;\n",
       "        }    #T_6081a2c6_2d9e_11eb_91f1_3c58c2813c23row3_col1 {\n",
       "            background-color:  #1c6bb0;\n",
       "            color:  #f1f1f1;\n",
       "        }    #T_6081a2c6_2d9e_11eb_91f1_3c58c2813c23row3_col2 {\n",
       "            background-color:  #5aa2cf;\n",
       "            color:  #000000;\n",
       "        }    #T_6081a2c6_2d9e_11eb_91f1_3c58c2813c23row3_col3 {\n",
       "            background-color:  #08306b;\n",
       "            color:  #f1f1f1;\n",
       "        }    #T_6081a2c6_2d9e_11eb_91f1_3c58c2813c23row3_col4 {\n",
       "            background-color:  #99c7e0;\n",
       "            color:  #000000;\n",
       "        }    #T_6081a2c6_2d9e_11eb_91f1_3c58c2813c23row3_col5 {\n",
       "            background-color:  #82bbdb;\n",
       "            color:  #000000;\n",
       "        }    #T_6081a2c6_2d9e_11eb_91f1_3c58c2813c23row3_col6 {\n",
       "            background-color:  #4e9acb;\n",
       "            color:  #000000;\n",
       "        }    #T_6081a2c6_2d9e_11eb_91f1_3c58c2813c23row4_col0 {\n",
       "            background-color:  #d8e7f5;\n",
       "            color:  #000000;\n",
       "        }    #T_6081a2c6_2d9e_11eb_91f1_3c58c2813c23row4_col1 {\n",
       "            background-color:  #74b3d8;\n",
       "            color:  #000000;\n",
       "        }    #T_6081a2c6_2d9e_11eb_91f1_3c58c2813c23row4_col2 {\n",
       "            background-color:  #8cc0dd;\n",
       "            color:  #000000;\n",
       "        }    #T_6081a2c6_2d9e_11eb_91f1_3c58c2813c23row4_col3 {\n",
       "            background-color:  #aed1e7;\n",
       "            color:  #000000;\n",
       "        }    #T_6081a2c6_2d9e_11eb_91f1_3c58c2813c23row4_col4 {\n",
       "            background-color:  #08306b;\n",
       "            color:  #f1f1f1;\n",
       "        }    #T_6081a2c6_2d9e_11eb_91f1_3c58c2813c23row4_col5 {\n",
       "            background-color:  #9cc9e1;\n",
       "            color:  #000000;\n",
       "        }    #T_6081a2c6_2d9e_11eb_91f1_3c58c2813c23row4_col6 {\n",
       "            background-color:  #a6cee4;\n",
       "            color:  #000000;\n",
       "        }    #T_6081a2c6_2d9e_11eb_91f1_3c58c2813c23row5_col0 {\n",
       "            background-color:  #d3e3f3;\n",
       "            color:  #000000;\n",
       "        }    #T_6081a2c6_2d9e_11eb_91f1_3c58c2813c23row5_col1 {\n",
       "            background-color:  #2979b9;\n",
       "            color:  #000000;\n",
       "        }    #T_6081a2c6_2d9e_11eb_91f1_3c58c2813c23row5_col2 {\n",
       "            background-color:  #3d8dc4;\n",
       "            color:  #000000;\n",
       "        }    #T_6081a2c6_2d9e_11eb_91f1_3c58c2813c23row5_col3 {\n",
       "            background-color:  #91c3de;\n",
       "            color:  #000000;\n",
       "        }    #T_6081a2c6_2d9e_11eb_91f1_3c58c2813c23row5_col4 {\n",
       "            background-color:  #94c4df;\n",
       "            color:  #000000;\n",
       "        }    #T_6081a2c6_2d9e_11eb_91f1_3c58c2813c23row5_col5 {\n",
       "            background-color:  #08306b;\n",
       "            color:  #f1f1f1;\n",
       "        }    #T_6081a2c6_2d9e_11eb_91f1_3c58c2813c23row5_col6 {\n",
       "            background-color:  #4695c8;\n",
       "            color:  #000000;\n",
       "        }    #T_6081a2c6_2d9e_11eb_91f1_3c58c2813c23row6_col0 {\n",
       "            background-color:  #d3e3f3;\n",
       "            color:  #000000;\n",
       "        }    #T_6081a2c6_2d9e_11eb_91f1_3c58c2813c23row6_col1 {\n",
       "            background-color:  #084285;\n",
       "            color:  #f1f1f1;\n",
       "        }    #T_6081a2c6_2d9e_11eb_91f1_3c58c2813c23row6_col2 {\n",
       "            background-color:  #2070b4;\n",
       "            color:  #f1f1f1;\n",
       "        }    #T_6081a2c6_2d9e_11eb_91f1_3c58c2813c23row6_col3 {\n",
       "            background-color:  #57a0ce;\n",
       "            color:  #000000;\n",
       "        }    #T_6081a2c6_2d9e_11eb_91f1_3c58c2813c23row6_col4 {\n",
       "            background-color:  #a0cbe2;\n",
       "            color:  #000000;\n",
       "        }    #T_6081a2c6_2d9e_11eb_91f1_3c58c2813c23row6_col5 {\n",
       "            background-color:  #4695c8;\n",
       "            color:  #000000;\n",
       "        }    #T_6081a2c6_2d9e_11eb_91f1_3c58c2813c23row6_col6 {\n",
       "            background-color:  #08306b;\n",
       "            color:  #f1f1f1;\n",
       "        }</style><table id=\"T_6081a2c6_2d9e_11eb_91f1_3c58c2813c23\" ><thead>    <tr>        <th class=\"blank level0\" ></th>        <th class=\"col_heading level0 col0\" >beer_abv</th>        <th class=\"col_heading level0 col1\" >weighted_review</th>        <th class=\"col_heading level0 col2\" >review_overall</th>        <th class=\"col_heading level0 col3\" >review_aroma</th>        <th class=\"col_heading level0 col4\" >review_appearance</th>        <th class=\"col_heading level0 col5\" >review_palate</th>        <th class=\"col_heading level0 col6\" >review_taste</th>    </tr></thead><tbody>\n",
       "                <tr>\n",
       "                        <th id=\"T_6081a2c6_2d9e_11eb_91f1_3c58c2813c23level0_row0\" class=\"row_heading level0 row0\" >beer_abv</th>\n",
       "                        <td id=\"T_6081a2c6_2d9e_11eb_91f1_3c58c2813c23row0_col0\" class=\"data row0 col0\" >1.00</td>\n",
       "                        <td id=\"T_6081a2c6_2d9e_11eb_91f1_3c58c2813c23row0_col1\" class=\"data row0 col1\" >0.27</td>\n",
       "                        <td id=\"T_6081a2c6_2d9e_11eb_91f1_3c58c2813c23row0_col2\" class=\"data row0 col2\" >0.10</td>\n",
       "                        <td id=\"T_6081a2c6_2d9e_11eb_91f1_3c58c2813c23row0_col3\" class=\"data row0 col3\" >0.31</td>\n",
       "                        <td id=\"T_6081a2c6_2d9e_11eb_91f1_3c58c2813c23row0_col4\" class=\"data row0 col4\" >0.24</td>\n",
       "                        <td id=\"T_6081a2c6_2d9e_11eb_91f1_3c58c2813c23row0_col5\" class=\"data row0 col5\" >0.27</td>\n",
       "                        <td id=\"T_6081a2c6_2d9e_11eb_91f1_3c58c2813c23row0_col6\" class=\"data row0 col6\" >0.26</td>\n",
       "            </tr>\n",
       "            <tr>\n",
       "                        <th id=\"T_6081a2c6_2d9e_11eb_91f1_3c58c2813c23level0_row1\" class=\"row_heading level0 row1\" >weighted_review</th>\n",
       "                        <td id=\"T_6081a2c6_2d9e_11eb_91f1_3c58c2813c23row1_col0\" class=\"data row1 col0\" >0.27</td>\n",
       "                        <td id=\"T_6081a2c6_2d9e_11eb_91f1_3c58c2813c23row1_col1\" class=\"data row1 col1\" >1.00</td>\n",
       "                        <td id=\"T_6081a2c6_2d9e_11eb_91f1_3c58c2813c23row1_col2\" class=\"data row1 col2\" >0.86</td>\n",
       "                        <td id=\"T_6081a2c6_2d9e_11eb_91f1_3c58c2813c23row1_col3\" class=\"data row1 col3\" >0.83</td>\n",
       "                        <td id=\"T_6081a2c6_2d9e_11eb_91f1_3c58c2813c23row1_col4\" class=\"data row1 col4\" >0.62</td>\n",
       "                        <td id=\"T_6081a2c6_2d9e_11eb_91f1_3c58c2813c23row1_col5\" class=\"data row1 col5\" >0.80</td>\n",
       "                        <td id=\"T_6081a2c6_2d9e_11eb_91f1_3c58c2813c23row1_col6\" class=\"data row1 col6\" >0.95</td>\n",
       "            </tr>\n",
       "            <tr>\n",
       "                        <th id=\"T_6081a2c6_2d9e_11eb_91f1_3c58c2813c23level0_row2\" class=\"row_heading level0 row2\" >review_overall</th>\n",
       "                        <td id=\"T_6081a2c6_2d9e_11eb_91f1_3c58c2813c23row2_col0\" class=\"data row2 col0\" >0.10</td>\n",
       "                        <td id=\"T_6081a2c6_2d9e_11eb_91f1_3c58c2813c23row2_col1\" class=\"data row2 col1\" >0.86</td>\n",
       "                        <td id=\"T_6081a2c6_2d9e_11eb_91f1_3c58c2813c23row2_col2\" class=\"data row2 col2\" >1.00</td>\n",
       "                        <td id=\"T_6081a2c6_2d9e_11eb_91f1_3c58c2813c23row2_col3\" class=\"data row2 col3\" >0.60</td>\n",
       "                        <td id=\"T_6081a2c6_2d9e_11eb_91f1_3c58c2813c23row2_col4\" class=\"data row2 col4\" >0.48</td>\n",
       "                        <td id=\"T_6081a2c6_2d9e_11eb_91f1_3c58c2813c23row2_col5\" class=\"data row2 col5\" >0.68</td>\n",
       "                        <td id=\"T_6081a2c6_2d9e_11eb_91f1_3c58c2813c23row2_col6\" class=\"data row2 col6\" >0.78</td>\n",
       "            </tr>\n",
       "            <tr>\n",
       "                        <th id=\"T_6081a2c6_2d9e_11eb_91f1_3c58c2813c23level0_row3\" class=\"row_heading level0 row3\" >review_aroma</th>\n",
       "                        <td id=\"T_6081a2c6_2d9e_11eb_91f1_3c58c2813c23row3_col0\" class=\"data row3 col0\" >0.31</td>\n",
       "                        <td id=\"T_6081a2c6_2d9e_11eb_91f1_3c58c2813c23row3_col1\" class=\"data row3 col1\" >0.83</td>\n",
       "                        <td id=\"T_6081a2c6_2d9e_11eb_91f1_3c58c2813c23row3_col2\" class=\"data row3 col2\" >0.60</td>\n",
       "                        <td id=\"T_6081a2c6_2d9e_11eb_91f1_3c58c2813c23row3_col3\" class=\"data row3 col3\" >1.00</td>\n",
       "                        <td id=\"T_6081a2c6_2d9e_11eb_91f1_3c58c2813c23row3_col4\" class=\"data row3 col4\" >0.53</td>\n",
       "                        <td id=\"T_6081a2c6_2d9e_11eb_91f1_3c58c2813c23row3_col5\" class=\"data row3 col5\" >0.59</td>\n",
       "                        <td id=\"T_6081a2c6_2d9e_11eb_91f1_3c58c2813c23row3_col6\" class=\"data row3 col6\" >0.70</td>\n",
       "            </tr>\n",
       "            <tr>\n",
       "                        <th id=\"T_6081a2c6_2d9e_11eb_91f1_3c58c2813c23level0_row4\" class=\"row_heading level0 row4\" >review_appearance</th>\n",
       "                        <td id=\"T_6081a2c6_2d9e_11eb_91f1_3c58c2813c23row4_col0\" class=\"data row4 col0\" >0.24</td>\n",
       "                        <td id=\"T_6081a2c6_2d9e_11eb_91f1_3c58c2813c23row4_col1\" class=\"data row4 col1\" >0.62</td>\n",
       "                        <td id=\"T_6081a2c6_2d9e_11eb_91f1_3c58c2813c23row4_col2\" class=\"data row4 col2\" >0.48</td>\n",
       "                        <td id=\"T_6081a2c6_2d9e_11eb_91f1_3c58c2813c23row4_col3\" class=\"data row4 col3\" >0.53</td>\n",
       "                        <td id=\"T_6081a2c6_2d9e_11eb_91f1_3c58c2813c23row4_col4\" class=\"data row4 col4\" >1.00</td>\n",
       "                        <td id=\"T_6081a2c6_2d9e_11eb_91f1_3c58c2813c23row4_col5\" class=\"data row4 col5\" >0.54</td>\n",
       "                        <td id=\"T_6081a2c6_2d9e_11eb_91f1_3c58c2813c23row4_col6\" class=\"data row4 col6\" >0.52</td>\n",
       "            </tr>\n",
       "            <tr>\n",
       "                        <th id=\"T_6081a2c6_2d9e_11eb_91f1_3c58c2813c23level0_row5\" class=\"row_heading level0 row5\" >review_palate</th>\n",
       "                        <td id=\"T_6081a2c6_2d9e_11eb_91f1_3c58c2813c23row5_col0\" class=\"data row5 col0\" >0.27</td>\n",
       "                        <td id=\"T_6081a2c6_2d9e_11eb_91f1_3c58c2813c23row5_col1\" class=\"data row5 col1\" >0.80</td>\n",
       "                        <td id=\"T_6081a2c6_2d9e_11eb_91f1_3c58c2813c23row5_col2\" class=\"data row5 col2\" >0.68</td>\n",
       "                        <td id=\"T_6081a2c6_2d9e_11eb_91f1_3c58c2813c23row5_col3\" class=\"data row5 col3\" >0.59</td>\n",
       "                        <td id=\"T_6081a2c6_2d9e_11eb_91f1_3c58c2813c23row5_col4\" class=\"data row5 col4\" >0.54</td>\n",
       "                        <td id=\"T_6081a2c6_2d9e_11eb_91f1_3c58c2813c23row5_col5\" class=\"data row5 col5\" >1.00</td>\n",
       "                        <td id=\"T_6081a2c6_2d9e_11eb_91f1_3c58c2813c23row5_col6\" class=\"data row5 col6\" >0.71</td>\n",
       "            </tr>\n",
       "            <tr>\n",
       "                        <th id=\"T_6081a2c6_2d9e_11eb_91f1_3c58c2813c23level0_row6\" class=\"row_heading level0 row6\" >review_taste</th>\n",
       "                        <td id=\"T_6081a2c6_2d9e_11eb_91f1_3c58c2813c23row6_col0\" class=\"data row6 col0\" >0.26</td>\n",
       "                        <td id=\"T_6081a2c6_2d9e_11eb_91f1_3c58c2813c23row6_col1\" class=\"data row6 col1\" >0.95</td>\n",
       "                        <td id=\"T_6081a2c6_2d9e_11eb_91f1_3c58c2813c23row6_col2\" class=\"data row6 col2\" >0.78</td>\n",
       "                        <td id=\"T_6081a2c6_2d9e_11eb_91f1_3c58c2813c23row6_col3\" class=\"data row6 col3\" >0.70</td>\n",
       "                        <td id=\"T_6081a2c6_2d9e_11eb_91f1_3c58c2813c23row6_col4\" class=\"data row6 col4\" >0.52</td>\n",
       "                        <td id=\"T_6081a2c6_2d9e_11eb_91f1_3c58c2813c23row6_col5\" class=\"data row6 col5\" >0.71</td>\n",
       "                        <td id=\"T_6081a2c6_2d9e_11eb_91f1_3c58c2813c23row6_col6\" class=\"data row6 col6\" >1.00</td>\n",
       "            </tr>\n",
       "    </tbody></table>"
      ],
      "text/plain": [
       "<pandas.io.formats.style.Styler at 0x1fe47725448>"
      ]
     },
     "execution_count": 281,
     "metadata": {},
     "output_type": "execute_result"
    }
   ],
   "source": [
    "variables = ['beer_abv', 'weighted_review', 'review_overall', 'review_aroma', \n",
    "             'review_appearance', 'review_palate', 'review_taste']\n",
    "\n",
    "corr_matrix = beer_df_clean[variables].corr()\n",
    "corr_matrix.style.background_gradient(cmap='Blues').format( '{:0.2f}')"
   ]
  },
  {
   "cell_type": "code",
   "execution_count": 338,
   "metadata": {},
   "outputs": [
    {
     "data": {
      "image/png": "[encoded data removed]",
      "text/plain": [
       "<Figure size 576x432 with 1 Axes>"
      ]
     },
     "metadata": {},
     "output_type": "display_data"
    }
   ],
   "source": [
    "data_corr = corr_matrix['review_overall'].drop(['review_overall', 'weighted_review', 'beer_abv']).reset_index().sort_values('review_overall', ascending=False)\n",
    "\n",
    "plt.figure(figsize=(8,6))\n",
    "ax = sns.barplot(data = data_corr, x='review_overall', y='index', palette='colorblind')\n",
    "plt.title('Correlation with Overall Review', pad=15, fontsize=16, weight='bold')\n",
    "plt.ylabel('')\n",
    "plt.xlabel('Correlation Coefficient', labelpad=15, fontsize=13, weight='bold')\n",
    "plt.xlim(0,0.85)\n",
    "plt.yticks(fontsize=12.5)\n",
    "sns.despine();\n",
    "\n",
    "for p in ax.patches:\n",
    "    bar_end = p.get_width()\n",
    "    x = p.get_x() + p.get_width() + 0.01\n",
    "    y = p.get_y() + p.get_height() / 1.8\n",
    "    ax.annotate(format(bar_end, '0.2f'), (x,y))"
   ]
  },
  {
   "cell_type": "markdown",
   "metadata": {},
   "source": [
    "-----"
   ]
  },
  {
   "cell_type": "code",
   "execution_count": 312,
   "metadata": {},
   "outputs": [],
   "source": [
    "# read in correlation dataframes\n",
    "reviewer_corr_df = pd.read_csv('export_csv/reviewer_corr.csv')\n",
    "reviewer50_corr_df = pd.read_csv('export_csv/reviewer50_corr.csv')\n",
    "reviewer100_corr_df = pd.read_csv('export_csv/reviewer100_corr.csv')"
   ]
  },
  {
   "cell_type": "code",
   "execution_count": 337,
   "metadata": {
    "scrolled": false
   },
   "outputs": [
    {
     "data": {
      "application/vnd.jupyter.widget-view+json": {
       "model_id": "5c01e1a97be148a3869214d1063acbf6",
       "version_major": 2,
       "version_minor": 0
      },
      "text/plain": [
       "interactive(children=(Dropdown(description='reviewer', options=('Top 10 Reviewers', 'Top 50 Reviewers', 'Top 1…"
      ]
     },
     "metadata": {},
     "output_type": "display_data"
    },
    {
     "data": {
      "text/plain": [
       "<function __main__.f(reviewer)>"
      ]
     },
     "execution_count": 337,
     "metadata": {},
     "output_type": "execute_result"
    }
   ],
   "source": [
    "def f(reviewer):\n",
    "    plt.figure(figsize=(15,10))\n",
    "    sns.set_style('darkgrid')\n",
    "    if reviewer == 'Top 10 Reviewers':\n",
    "        ax = sns.pointplot(data=reviewer_corr_df, x='corr_variable', y='corr', hue='reviewer', linestyles=('dotted'))\n",
    "        plt.title('Correlation with Overall Review by Reviewer', weight='bold', fontsize=18, pad=15)\n",
    "        plt.ylabel('Correlation Coefficient', labelpad=25, fontsize=16, weight='bold')\n",
    "        plt.xlabel('Correlation Variable', labelpad=25, fontsize=16, weight='bold')\n",
    "        plt.yticks(fontsize=13)\n",
    "        plt.xticks(fontsize=13)\n",
    "        plt.legend(title='Reviewer Username', title_fontsize=14, fontsize=13)\n",
    "        # Variance\n",
    "        print('Variances of')\n",
    "        print(reviewer_corr_df.groupby('corr_variable', sort=False).var()['corr'])\n",
    "    elif reviewer == 'Top 50 Reviewers':\n",
    "        ax = sns.pointplot(data=reviewer50_corr_df, x='corr_variable', y='corr', hue='reviewer', linestyles=('dotted'), palette='Blues')\n",
    "        plt.title('Correlation with Overall Review by Reviewer', weight='bold', fontsize=18, pad=15)\n",
    "        plt.ylabel('Correlation Coefficient', labelpad=25, fontsize=16, weight='bold')\n",
    "        plt.xlabel('Correlation Variable', labelpad=25, fontsize=16, weight='bold')\n",
    "        plt.yticks(fontsize=13)\n",
    "        plt.xticks(fontsize=13)\n",
    "        ax.get_legend().remove()\n",
    "        print('Variances of')\n",
    "        print(reviewer50_corr_df.groupby('corr_variable', sort=False).var()['corr'])\n",
    "    elif reviewer == 'Top 100 Reviewers':\n",
    "        ax = sns.pointplot(data=reviewer100_corr_df, x='corr_variable', y='corr', hue='reviewer', linestyles=('dotted'), palette='Blues')\n",
    "        plt.title('Correlation with Overall Review by Reviewer', weight='bold', fontsize=20, pad=15)\n",
    "        plt.ylabel('Correlation Coefficient', labelpad=25, fontsize=16, weight='bold')\n",
    "        plt.xlabel('Correlation Variable', labelpad=25, fontsize=16, weight='bold')\n",
    "        plt.yticks(fontsize=13)\n",
    "        plt.xticks(fontsize=13)\n",
    "        ax.get_legend().remove()\n",
    "        print('Variances of')\n",
    "        print(reviewer100_corr_df.groupby('corr_variable', sort=False).var()['corr'])\n",
    "        \n",
    "        \n",
    "reviewers = ['Top 10 Reviewers', 'Top 50 Reviewers', 'Top 100 Reviewers']\n",
    "widgets.interact(f, reviewer=reviewers)"
   ]
  },
  {
   "cell_type": "code",
   "execution_count": null,
   "metadata": {},
   "outputs": [],
   "source": []
  },
  {
   "cell_type": "code",
   "execution_count": null,
   "metadata": {},
   "outputs": [],
   "source": []
  },
  {
   "cell_type": "code",
   "execution_count": null,
   "metadata": {},
   "outputs": [],
   "source": []
  },
  {
   "cell_type": "code",
   "execution_count": null,
   "metadata": {},
   "outputs": [],
   "source": []
  },
  {
   "cell_type": "code",
   "execution_count": null,
   "metadata": {},
   "outputs": [],
   "source": []
  },
  {
   "cell_type": "code",
   "execution_count": null,
   "metadata": {},
   "outputs": [],
   "source": []
  },
  {
   "cell_type": "code",
   "execution_count": null,
   "metadata": {},
   "outputs": [],
   "source": []
  },
  {
   "cell_type": "code",
   "execution_count": null,
   "metadata": {},
   "outputs": [],
   "source": []
  }
 ],
 "metadata": {
  "kernelspec": {
   "display_name": "Python [conda env:root] *",
   "language": "python",
   "name": "conda-root-py"
  },
  "language_info": {
   "codemirror_mode": {
    "name": "ipython",
    "version": 3
   },
   "file_extension": ".py",
   "mimetype": "text/x-python",
   "name": "python",
   "nbconvert_exporter": "python",
   "pygments_lexer": "ipython3",
   "version": "3.7.7"
  }
 },
 "nbformat": 4,
 "nbformat_minor": 4
}
